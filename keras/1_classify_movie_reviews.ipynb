{
 "cells": [
  {
   "cell_type": "markdown",
   "metadata": {
    "toc": "true"
   },
   "source": [
    " # Table of Contents\n",
    "<div class=\"toc\" style=\"margin-top: 1em;\"><ul class=\"toc-item\" id=\"toc-level0\"><li><span><a href=\"http://localhost:8888/notebooks/PycharmProjects/Playfield/keras/classify_movie_reviews.ipynb#Data-preprocessing\" data-toc-modified-id=\"Data-preprocessing-1\">Data preprocessing</a></span></li><li><span><a href=\"http://localhost:8888/notebooks/PycharmProjects/Playfield/keras/classify_movie_reviews.ipynb#Create-the-model\" data-toc-modified-id=\"Create-the-model-2\">Create the model</a></span></li><li><span><a href=\"http://localhost:8888/notebooks/PycharmProjects/Playfield/keras/classify_movie_reviews.ipynb#Training-model\" data-toc-modified-id=\"Training-model-3\">Training model</a></span></li><li><span><a href=\"http://localhost:8888/notebooks/PycharmProjects/Playfield/keras/classify_movie_reviews.ipynb#Putting-things-together\" data-toc-modified-id=\"Putting-things-together-4\">Putting things together</a></span></li><li><span><a href=\"http://localhost:8888/notebooks/PycharmProjects/Playfield/keras/classify_movie_reviews.ipynb#Compare-different-models\" data-toc-modified-id=\"Compare-different-models-5\">Compare different models</a></span></li></ul></div>"
   ]
  },
  {
   "cell_type": "markdown",
   "metadata": {},
   "source": [
    "# Feed-forward neural network on classifying movie reviews "
   ]
  },
  {
   "cell_type": "markdown",
   "metadata": {},
   "source": [
    "This notebook creates a feed-forward neural network in Keras to classify movie reviews into 'good' (1) or 'bad' (0) class. It contains the steps of model creation, training, visualization of learning through epochs, model testing, and some model comparisons using different hyper-parameters."
   ]
  },
  {
   "cell_type": "code",
   "execution_count": 77,
   "metadata": {
    "collapsed": true
   },
   "outputs": [],
   "source": [
    "import numpy as np\n",
    "from keras.datasets import imdb\n",
    "from keras import models\n",
    "from keras import layers\n",
    "import matplotlib\n",
    "%matplotlib inline\n",
    "import matplotlib.pyplot as plt"
   ]
  },
  {
   "cell_type": "markdown",
   "metadata": {},
   "source": [
    "The movie reviews dataset is built-in into keras.."
   ]
  },
  {
   "cell_type": "code",
   "execution_count": 19,
   "metadata": {},
   "outputs": [
    {
     "name": "stdout",
     "output_type": "stream",
     "text": [
      "(25000,)\n",
      "(25000,)\n"
     ]
    }
   ],
   "source": [
    "(train_x_orig, train_y_orig), (test_x_orig, test_y_orig) = imdb.load_data(num_words=10000)\n",
    "\n",
    "# Print out the number of samples in training and test sets\n",
    "print(train_x_orig.shape)\n",
    "print(train_y_orig.shape)"
   ]
  },
  {
   "cell_type": "markdown",
   "metadata": {},
   "source": [
    "In general I'd use a different split with more samples in the training set and less in the test, like 70-30 instead of 50-50, but let's keep it like this for now. Later on, I'll use a small portion of the training set as a 'development' / 'validation' set."
   ]
  },
  {
   "cell_type": "markdown",
   "metadata": {},
   "source": [
    "The input data (with \"\\_x\") contains sequences of words used in movie reviews. The words are actually mapped to numbers from 0 to 9999 (because we're keeping only the 10000 most frequent words). The output data (with \"\\_y\") contains a binary target value of \"1\" or \"0\", denoting respectively positive and negative movie review.\n",
    "\n",
    "Actual English words can be mapped back from numbers using the `imdb.get_word_index()` method, which returns a dictionary for the mapping."
   ]
  },
  {
   "cell_type": "code",
   "execution_count": 20,
   "metadata": {},
   "outputs": [
    {
     "name": "stdout",
     "output_type": "stream",
     "text": [
      "[('fawn', 34701), ('tsukino', 52006), ('nunnery', 52007), ('sonja', 16816), ('vani', 63951)]\n"
     ]
    }
   ],
   "source": [
    "word_index = imdb.get_word_index()\n",
    "\n",
    "# Print out a few entries\n",
    "print(list(word_index.items())[:5])"
   ]
  },
  {
   "cell_type": "code",
   "execution_count": 21,
   "metadata": {},
   "outputs": [
    {
     "name": "stdout",
     "output_type": "stream",
     "text": [
      "[(34701, 'fawn'), (52006, 'tsukino'), (52007, 'nunnery'), (16816, 'sonja'), (63951, 'vani')]\n"
     ]
    }
   ],
   "source": [
    "# Create a reverse dictionary\n",
    "reverse_word_index = dict([(y, x) for x, y in word_index.items()])\n",
    "\n",
    "# Print out a few entries\n",
    "print(list(reverse_word_index.items())[:5])"
   ]
  },
  {
   "cell_type": "markdown",
   "metadata": {},
   "source": [
    "The following method `decode_review` will be used to convert a movei review given in numbers into words."
   ]
  },
  {
   "cell_type": "code",
   "execution_count": 22,
   "metadata": {},
   "outputs": [
    {
     "name": "stdout",
     "output_type": "stream",
     "text": [
      "Review with score 0: ? shown in australia as ? this incredibly bad movie is so bad that you become ? and have to watch it to the end just to see if it could get any worse and it does the storyline is so predictable it seems written by a high school ? class the sets are pathetic but ? better than the ? and the acting is wooden br br the ? ? seems to have been stolen from the props ? of ? ? there didn't seem to be a single original idea in the whole movie br br i found this movie to be so bad that i laughed most of the way through br br malcolm mcdowell should hang his head in shame he obviously needed the money\n"
     ]
    }
   ],
   "source": [
    "def decode_review(review_in_numbers):\n",
    "\n",
    "    # the indices are offset by 3, if a word is not in most frequent 10000 return a '?'\n",
    "    return ' '.join([reverse_word_index.get(i-3, '?') for i in review_in_numbers])\n",
    "\n",
    "# An example\n",
    "print(\"Review with score %d: %s\" % (train_y_orig[20], decode_review(train_x_orig[20])))"
   ]
  },
  {
   "cell_type": "markdown",
   "metadata": {},
   "source": [
    "## Data preprocessing"
   ]
  },
  {
   "cell_type": "markdown",
   "metadata": {},
   "source": [
    "Keeping words represented as integer numbers and feeding them to a neural network is not a good idea. This is simply because we don't want to use numerical values that can be ordered, such that number(word1) could be larger/smaller than number(word2). The solution is to one-hot encode the word sequences. The encoded entries will have a dimension (num_samples, 10000)."
   ]
  },
  {
   "cell_type": "code",
   "execution_count": 23,
   "metadata": {},
   "outputs": [
    {
     "name": "stdout",
     "output_type": "stream",
     "text": [
      "(25000, 10000)\n",
      "(25000, 10000)\n"
     ]
    }
   ],
   "source": [
    "def vectorize_sequences(sequences, dimension=10000):\n",
    "    # Create an empty matrix\n",
    "    results = np.zeros((len(sequences), dimension))\n",
    "    for i, sequence in enumerate(sequences):\n",
    "        # Pass a list `sequence` of words in the reveiew for which the encoding is 1\n",
    "        results[i, sequence] = 1\n",
    "    return results\n",
    "\n",
    "train_x = vectorize_sequences(train_x_orig)\n",
    "test_x = vectorize_sequences(test_x_orig)\n",
    "print(train_x.shape)\n",
    "print(test_x.shape)"
   ]
  },
  {
   "cell_type": "markdown",
   "metadata": {},
   "source": [
    "Also convert target values into numpy arrays.."
   ]
  },
  {
   "cell_type": "code",
   "execution_count": 16,
   "metadata": {
    "collapsed": true
   },
   "outputs": [],
   "source": [
    "train_y = np.asarray(train_y).astype('float32')\n",
    "test_y = np.asarray(test_y).astype('float32')"
   ]
  },
  {
   "cell_type": "markdown",
   "metadata": {},
   "source": [
    "It would also be useful to have a development/validation set which will be used for hyperparameter optimization. I'll extract 10000 samples from the training set for this."
   ]
  },
  {
   "cell_type": "code",
   "execution_count": 30,
   "metadata": {
    "collapsed": true
   },
   "outputs": [],
   "source": [
    "dev_x = train_x[:10000]\n",
    "train_x_partial = train_x[10000:]\n",
    "dev_y = train_y[:10000]\n",
    "train_y_partial = train_y[10000:]"
   ]
  },
  {
   "cell_type": "markdown",
   "metadata": {},
   "source": [
    "## Create the model"
   ]
  },
  {
   "cell_type": "markdown",
   "metadata": {},
   "source": [
    "We'll use a standard feed-forward neural network (`Sequential` model) with two hidden layers, and we'll feed the one-hot encodings of the input words to it. The activation function is chosen as `relu` as a suitable choice for many applications. The activation in the output layer is chosen as `sigmoid` so its outputs probability in the range [0,1] is easy to convert to binary output {0, 1}.\n",
    "\n",
    "Although we use a feed-forward neural net model in this case, it might be more suitable to use a recurrent one, such as an LSTM, which would be able to catch information from the word sequence. For example 'not good' phrase instead of ['not' 'good'].\n",
    "\n",
    "We'll also choose an optimizer and a loss function. `rmsprop` is an improvement of the standard gradient descent, while `binary_crossentropy` is chosen because we have a binary output. The 'corssentropy' would measure the distance between the distribution of predictions and distribution of actual values. The `accuracy` metric would just give the percentage of correctly predicted outputs (0 or 1) out of all tried predictions."
   ]
  },
  {
   "cell_type": "code",
   "execution_count": 85,
   "metadata": {
    "collapsed": true
   },
   "outputs": [],
   "source": [
    "def create_model(optimizer='rmsprop', loss='binary_crossentropy', metrics=['accuracy'], activation='relu'):\n",
    "    \n",
    "    # Create a sequential model and stack layers one after another\n",
    "    model = models.Sequential()\n",
    "    model.add(layers.Dense(16, activation=activation, input_shape=(10000,)))\n",
    "    model.add(layers.Dense(16, activation=activation))\n",
    "    model.add(layers.Dense(1, activation='sigmoid'))\n",
    "    \n",
    "    # Compile the model\n",
    "    model.compile(optimizer=optimizer, loss=loss, metrics=metrics)\n",
    "    \n",
    "    # The following way could also be used.. It allows to specify the parameters of the optimizer, or use a custom optimizer/loss/metric\n",
    "    # model.compile(optimizer=optimizers.RMSprop(lr=0.001), loss=losses.binary_crossentropy, metrics=[metrics.binary_accuracy])\n",
    "    \n",
    "    return model"
   ]
  },
  {
   "cell_type": "markdown",
   "metadata": {},
   "source": [
    "## Training model"
   ]
  },
  {
   "cell_type": "markdown",
   "metadata": {},
   "source": [
    "Let's train the model for a small number of epochs and some batch_size. I don't think that the `batch_size` selection could influence our results if we have large enough number of iterations (it should only influence the speed at which we get to our results), but maybe I'm wrong. It's nice that we can plug the validation data during training too, so we can monitor the performance during training on both train and dev sets."
   ]
  },
  {
   "cell_type": "code",
   "execution_count": 65,
   "metadata": {
    "collapsed": true
   },
   "outputs": [],
   "source": [
    "def train_model(model, train_x, train_y, dev_x, dev_y, epochs=20, batch_size=512):\n",
    "    history = model.fit(train_x, train_y, epochs=epochs, batch_size=batch_size, validation_data=(dev_x, dev_y))\n",
    "    return history"
   ]
  },
  {
   "cell_type": "markdown",
   "metadata": {},
   "source": [
    "The `History` object returned by the `fit` method contains information on the training and validation losses, and metrics. Let's plot them."
   ]
  },
  {
   "cell_type": "code",
   "execution_count": 68,
   "metadata": {
    "collapsed": true
   },
   "outputs": [],
   "source": [
    "def plot_history(history):\n",
    "    train_loss = history.history['loss']\n",
    "    val_loss = history.history['val_loss']\n",
    "    train_acc = history.history['acc']\n",
    "    val_acc = history.history['val_acc']\n",
    "    epochs = range(1, len(train_loss) + 1)\n",
    "\n",
    "    plt.rcParams['figure.figsize'] = (8, 10)\n",
    "    fig, ax = plt.subplots(ncols=1, nrows=2, sharex=False, sharey=False)\n",
    "\n",
    "    ax[0].plot(epochs, train_loss, 'o-', label='Training')\n",
    "    ax[0].plot(epochs, val_loss, 'o-', label='Validation')\n",
    "    ax[0].set_title('Training and validation loss & accuracy')\n",
    "    ax[0].set_ylabel('Loss')\n",
    "    ax[0].legend()\n",
    "    \n",
    "    ax[1].plot(epochs, train_acc, 'o-', label='Training')\n",
    "    ax[1].plot(epochs, val_acc, 'o-', label='Validation')\n",
    "    ax[1].set_xlabel('Epochs')\n",
    "    ax[1].set_ylabel('Accuracy')\n",
    "    ax[1].legend()\n",
    "    \n",
    "    plt.show()"
   ]
  },
  {
   "cell_type": "code",
   "execution_count": 75,
   "metadata": {
    "collapsed": true
   },
   "outputs": [],
   "source": [
    "def test_model(model, test_x, test_y):\n",
    "    results = model.evaluate(test_x, test_y)\n",
    "    print(\"Loss on test set: %.3f\" % results[0])\n",
    "    print(\"Accuracy on test set: %.3f%%\" % (100 * results[1]))\n",
    "    return results"
   ]
  },
  {
   "cell_type": "markdown",
   "metadata": {},
   "source": [
    "## Putting things together"
   ]
  },
  {
   "cell_type": "markdown",
   "metadata": {},
   "source": [
    "Now let's stack together the methods created: model creation, training, testing and visualization of history."
   ]
  },
  {
   "cell_type": "code",
   "execution_count": 84,
   "metadata": {},
   "outputs": [
    {
     "name": "stdout",
     "output_type": "stream",
     "text": [
      "Train on 15000 samples, validate on 10000 samples\n",
      "Epoch 1/20\n",
      "15000/15000 [==============================] - 2s 161us/step - loss: 0.5091 - acc: 0.7838 - val_loss: 0.3968 - val_acc: 0.8497\n",
      "Epoch 2/20\n",
      "15000/15000 [==============================] - 2s 141us/step - loss: 0.3040 - acc: 0.9013 - val_loss: 0.3044 - val_acc: 0.8887\n",
      "Epoch 3/20\n",
      "15000/15000 [==============================] - 2s 142us/step - loss: 0.2240 - acc: 0.9277 - val_loss: 0.2811 - val_acc: 0.8897\n",
      "Epoch 4/20\n",
      "15000/15000 [==============================] - 2s 145us/step - loss: 0.1748 - acc: 0.9450 - val_loss: 0.2819 - val_acc: 0.8876\n",
      "Epoch 5/20\n",
      "15000/15000 [==============================] - 2s 145us/step - loss: 0.1408 - acc: 0.9555 - val_loss: 0.2829 - val_acc: 0.8867\n",
      "Epoch 6/20\n",
      "15000/15000 [==============================] - 2s 133us/step - loss: 0.1149 - acc: 0.9645 - val_loss: 0.2984 - val_acc: 0.8854\n",
      "Epoch 7/20\n",
      "15000/15000 [==============================] - 2s 130us/step - loss: 0.0938 - acc: 0.9714 - val_loss: 0.3279 - val_acc: 0.8784\n",
      "Epoch 8/20\n",
      "15000/15000 [==============================] - 2s 130us/step - loss: 0.0754 - acc: 0.9781 - val_loss: 0.3594 - val_acc: 0.8729\n",
      "Epoch 9/20\n",
      "15000/15000 [==============================] - 2s 130us/step - loss: 0.0608 - acc: 0.9844 - val_loss: 0.3548 - val_acc: 0.8795\n",
      "Epoch 10/20\n",
      "15000/15000 [==============================] - 2s 137us/step - loss: 0.0488 - acc: 0.9881 - val_loss: 0.3853 - val_acc: 0.8790\n",
      "Epoch 11/20\n",
      "15000/15000 [==============================] - 2s 137us/step - loss: 0.0382 - acc: 0.9920 - val_loss: 0.4217 - val_acc: 0.8750\n",
      "Epoch 12/20\n",
      "15000/15000 [==============================] - 2s 154us/step - loss: 0.0328 - acc: 0.9923 - val_loss: 0.4427 - val_acc: 0.8762\n",
      "Epoch 13/20\n",
      "15000/15000 [==============================] - 2s 152us/step - loss: 0.0219 - acc: 0.9963 - val_loss: 0.4679 - val_acc: 0.8714\n",
      "Epoch 14/20\n",
      "15000/15000 [==============================] - 2s 137us/step - loss: 0.0198 - acc: 0.9963 - val_loss: 0.5048 - val_acc: 0.8733\n",
      "Epoch 15/20\n",
      "15000/15000 [==============================] - 2s 142us/step - loss: 0.0146 - acc: 0.9986 - val_loss: 0.5243 - val_acc: 0.8720\n",
      "Epoch 16/20\n",
      "15000/15000 [==============================] - 3s 169us/step - loss: 0.0123 - acc: 0.9985 - val_loss: 0.5525 - val_acc: 0.8702\n",
      "Epoch 17/20\n",
      "15000/15000 [==============================] - 2s 150us/step - loss: 0.0060 - acc: 0.9998 - val_loss: 0.5879 - val_acc: 0.8692\n",
      "Epoch 18/20\n",
      "15000/15000 [==============================] - 2s 155us/step - loss: 0.0094 - acc: 0.9979 - val_loss: 0.6149 - val_acc: 0.8686\n",
      "Epoch 19/20\n",
      "15000/15000 [==============================] - 2s 154us/step - loss: 0.0033 - acc: 0.9999 - val_loss: 0.6472 - val_acc: 0.8698\n",
      "Epoch 20/20\n",
      "15000/15000 [==============================] - 2s 129us/step - loss: 0.0047 - acc: 0.9995 - val_loss: 0.6771 - val_acc: 0.8678\n"
     ]
    },
    {
     "data": {
      "image/png": "[encoded data removed]",
      "text/plain": [
       "<Figure size 576x720 with 2 Axes>"
      ]
     },
     "metadata": {},
     "output_type": "display_data"
    },
    {
     "name": "stdout",
     "output_type": "stream",
     "text": [
      "25000/25000 [==============================] - 2s 95us/step\n",
      "Loss on test set: 0.738\n",
      "Accuracy on test set: 85.476%\n"
     ]
    }
   ],
   "source": [
    "model = create_model()\n",
    "history = train_model(model, train_x_partial, train_y_partial, dev_x, dev_y)\n",
    "plot_history(history)\n",
    "results = test_model(model, test_x, test_y)"
   ]
  },
  {
   "cell_type": "markdown",
   "metadata": {},
   "source": [
    "From the above figures we can observe that the network starts overfitting to the training set after the 4 epoch. One way to fight with this is 'early stoping' - simply stop training in the minimum of the validation curve. But this is not the best solution. Better solutions would be to use some regularization mechanism, such as L1/L2 regularization, dropout etc. In this case I won't use regularization - the focus is now on playing with the hyperparameters we've used."
   ]
  },
  {
   "cell_type": "markdown",
   "metadata": {},
   "source": [
    "## Compare different models"
   ]
  },
  {
   "cell_type": "markdown",
   "metadata": {},
   "source": [
    "It would be interesting to compare models with different hyper-parameters, for example: changing the epochs, activation functions, optimizers, losses etc. This would help in understanding how different things work."
   ]
  },
  {
   "cell_type": "markdown",
   "metadata": {},
   "source": [
    "**Question 1**: Will early stopping in the 4-th epoch really produce a better model? "
   ]
  },
  {
   "cell_type": "code",
   "execution_count": 83,
   "metadata": {},
   "outputs": [
    {
     "name": "stdout",
     "output_type": "stream",
     "text": [
      "Train on 15000 samples, validate on 10000 samples\n",
      "Epoch 1/4\n",
      "15000/15000 [==============================] - 2s 165us/step - loss: 0.5773 - acc: 0.6805 - val_loss: 0.4671 - val_acc: 0.8286\n",
      "Epoch 2/4\n",
      "15000/15000 [==============================] - 3s 174us/step - loss: 0.3686 - acc: 0.8944 - val_loss: 0.3400 - val_acc: 0.8851\n",
      "Epoch 3/4\n",
      "15000/15000 [==============================] - 2s 157us/step - loss: 0.2544 - acc: 0.9239 - val_loss: 0.2976 - val_acc: 0.8871\n",
      "Epoch 4/4\n",
      "15000/15000 [==============================] - 2s 141us/step - loss: 0.1960 - acc: 0.9393 - val_loss: 0.2787 - val_acc: 0.8904\n",
      "25000/25000 [==============================] - 2s 90us/step\n",
      "Loss on test set: 0.295\n",
      "Accuracy on test set: 88.348%\n"
     ]
    }
   ],
   "source": [
    "# Re-create the same model, only changing the epochs parameter\n",
    "model_4epochs = create_model()\n",
    "history_4epochs = train_model(model_4epochs, train_x_partial, train_y_partial, dev_x, dev_y, epochs=4, batch_size=512)\n",
    "results_4epochs = test_model(model_4epochs, test_x, test_y)"
   ]
  },
  {
   "cell_type": "markdown",
   "metadata": {},
   "source": [
    "**Answer 1**: Yes, it improved the accuracy on the test set from ~85.5% to ~88.3%. It also drastically improved the Test loss from 0.74 to 0.29. Not sure why such big improvement.."
   ]
  },
  {
   "cell_type": "markdown",
   "metadata": {},
   "source": [
    "**Question 2**: I guess Adam optimizer is better than RMSprop, will it improve results?"
   ]
  },
  {
   "cell_type": "code",
   "execution_count": 88,
   "metadata": {},
   "outputs": [
    {
     "name": "stdout",
     "output_type": "stream",
     "text": [
      "Train on 15000 samples, validate on 10000 samples\n",
      "Epoch 1/4\n",
      "15000/15000 [==============================] - 3s 187us/step - loss: 0.5976 - acc: 0.7417 - val_loss: 0.4734 - val_acc: 0.8473\n",
      "Epoch 2/4\n",
      "15000/15000 [==============================] - 2s 141us/step - loss: 0.3707 - acc: 0.8867 - val_loss: 0.3359 - val_acc: 0.8799\n",
      "Epoch 3/4\n",
      "15000/15000 [==============================] - 2s 143us/step - loss: 0.2522 - acc: 0.9196 - val_loss: 0.2920 - val_acc: 0.8869\n",
      "Epoch 4/4\n",
      "15000/15000 [==============================] - 2s 140us/step - loss: 0.1906 - acc: 0.9409 - val_loss: 0.2792 - val_acc: 0.8893\n",
      "25000/25000 [==============================] - 2s 93us/step\n",
      "Loss on test set: 0.294\n",
      "Accuracy on test set: 88.204%\n"
     ]
    }
   ],
   "source": [
    "model_4epochs_adam = create_model(optimizer='adam')\n",
    "history_4epochs_adam = train_model(model_4epochs_adam, train_x_partial, train_y_partial, dev_x, dev_y, epochs=4, batch_size=512)\n",
    "results_4epochs_adam = test_model(model_4epochs_adam, test_x, test_y)"
   ]
  },
  {
   "cell_type": "markdown",
   "metadata": {},
   "source": [
    "**Answer 2**: I run the above code a few times, since results are different on each run (I guess this is because of random selection of batches - internal to Keras), and got pretty similar results as with RMSprop. I wouldn't draw any conclusion here, mainly because it's a very small model with only 4 epochs. Anyway, comparisons on bigger projects out of this work showed improvement when using Adam - reaching lower loss on the validation set than RMSprop."
   ]
  }
 ],
 "metadata": {
  "kernelspec": {
   "display_name": "Python 3",
   "language": "python",
   "name": "python3"
  },
  "language_info": {
   "codemirror_mode": {
    "name": "ipython",
    "version": 3
   },
   "file_extension": ".py",
   "mimetype": "text/x-python",
   "name": "python",
   "nbconvert_exporter": "python",
   "pygments_lexer": "ipython3",
   "version": "3.6.1"
  },
  "toc": {
   "nav_menu": {},
   "number_sections": false,
   "sideBar": true,
   "skip_h1_title": true,
   "toc_cell": true,
   "toc_position": {},
   "toc_section_display": "block",
   "toc_window_display": true
  }
 },
 "nbformat": 4,
 "nbformat_minor": 2
}
