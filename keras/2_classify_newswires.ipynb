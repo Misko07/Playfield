{
 "cells": [
  {
   "cell_type": "markdown",
   "metadata": {
    "toc": "true"
   },
   "source": [
    " # Table of Contents\n",
    "<div class=\"toc\" style=\"margin-top: 1em;\"><ul class=\"toc-item\" id=\"toc-level0\"><li><span><a href=\"http://localhost:8888/notebooks/PycharmProjects/Playfield/keras/2_classify_newswires.ipynb#Data-preparation\" data-toc-modified-id=\"Data-preparation-1\">Data preparation</a></span></li><li><span><a href=\"http://localhost:8888/notebooks/PycharmProjects/Playfield/keras/2_classify_newswires.ipynb#Building-the-network\" data-toc-modified-id=\"Building-the-network-2\">Building the network</a></span></li><li><span><a href=\"http://localhost:8888/notebooks/PycharmProjects/Playfield/keras/2_classify_newswires.ipynb#Visualization\" data-toc-modified-id=\"Visualization-3\">Visualization</a></span></li><li><span><a href=\"http://localhost:8888/notebooks/PycharmProjects/Playfield/keras/2_classify_newswires.ipynb#Making-predictions\" data-toc-modified-id=\"Making-predictions-4\">Making predictions</a></span></li><li><span><a href=\"http://localhost:8888/notebooks/PycharmProjects/Playfield/keras/2_classify_newswires.ipynb#Experiment-1:-Encode-labels-as-integer-tensors\" data-toc-modified-id=\"Experiment-1:-Encode-labels-as-integer-tensors-5\">Experiment 1: Encode labels as integer tensors</a></span></li><li><span><a href=\"http://localhost:8888/notebooks/PycharmProjects/Playfield/keras/2_classify_newswires.ipynb#Experiment-2:-Having-a-bottleneck-layer\" data-toc-modified-id=\"Experiment-2:-Having-a-bottleneck-layer-6\">Experiment 2: Having a bottleneck layer</a></span></li></ul></div>"
   ]
  },
  {
   "cell_type": "markdown",
   "metadata": {},
   "source": [
    "# Classifying newswires"
   ]
  },
  {
   "cell_type": "markdown",
   "metadata": {},
   "source": [
    "This notebook works through a multi-class classification problem using the Reuters dataset - a set of newswires (short up-to-the-minute news stories) and their topics published in 1986. There are 46 different topics, each appearing for at least 10 times."
   ]
  },
  {
   "cell_type": "code",
   "execution_count": 1,
   "metadata": {},
   "outputs": [
    {
     "name": "stderr",
     "output_type": "stream",
     "text": [
      "/Users/Misko/anaconda3/lib/python3.6/site-packages/h5py/__init__.py:36: FutureWarning: Conversion of the second argument of issubdtype from `float` to `np.floating` is deprecated. In future, it will be treated as `np.float64 == np.dtype(float).type`.\n",
      "  from ._conv import register_converters as _register_converters\n",
      "Using TensorFlow backend.\n"
     ]
    }
   ],
   "source": [
    "from keras.datasets import reuters\n",
    "import numpy as np"
   ]
  },
  {
   "cell_type": "code",
   "execution_count": 2,
   "metadata": {
    "collapsed": true
   },
   "outputs": [],
   "source": [
    "(train_data, train_labels), (test_data, test_labels) = reuters.load_data(num_words=10000)"
   ]
  },
  {
   "cell_type": "markdown",
   "metadata": {},
   "source": [
    "We've restricted our data to the 10000 most commonly used words found in the dataset using the `num_words` argument. There are 8982 training and 2246 test samples (the second will later be split in Dev and Test subsets). Each sample is represented as a list of integers representing words. Labels are integers in [0, 45] range."
   ]
  },
  {
   "cell_type": "code",
   "execution_count": 3,
   "metadata": {},
   "outputs": [
    {
     "name": "stdout",
     "output_type": "stream",
     "text": [
      "Train samples: 8982\n",
      "Test/Dev samples: 2246\n",
      "Train sentence 10: [1, 245, 273, 207, 156, 53, 74, 160, 26, 14, 46, 296, 26, 39, 74, 2979, 3554, 14, 46, 4689, 4329, 86, 61, 3499, 4795, 14, 61, 451, 4329, 17, 12]\n",
      "Train labels: {0, 1, 2, 3, 4, 5, 6, 7, 8, 9, 10, 11, 12, 13, 14, 15, 16, 17, 18, 19, 20, 21, 22, 23, 24, 25, 26, 27, 28, 29, 30, 31, 32, 33, 34, 35, 36, 37, 38, 39, 40, 41, 42, 43, 44, 45}\n"
     ]
    }
   ],
   "source": [
    "print(\"Train samples:\", len(train_labels))\n",
    "print(\"Test/Dev samples:\", len(test_labels))\n",
    "print(\"Train sentence 10:\", train_data[10])\n",
    "print(\"Train labels:\", set(train_labels))"
   ]
  },
  {
   "cell_type": "markdown",
   "metadata": {},
   "source": [
    "The following method will be used to translate a sample from numbers into words."
   ]
  },
  {
   "cell_type": "code",
   "execution_count": 4,
   "metadata": {},
   "outputs": [
    {
     "name": "stdout",
     "output_type": "stream",
     "text": [
      "? ? ? said as a result of its december acquisition of space co it expects earnings per share in 1987 of 1 15 to 1 30 dlrs per share up from 70 cts in 1986 the company said pretax net should rise to nine to 10 mln dlrs from six mln dlrs in 1986 and rental operation revenues to 19 to 22 mln dlrs from 12 5 mln dlrs it said cash flow per share this year should be 2 50 to three dlrs reuter 3\n"
     ]
    }
   ],
   "source": [
    "def translate(numeric_sample):\n",
    "    # A dictionary of number to word mappings\n",
    "    word_index = reuters.get_word_index()\n",
    "    \n",
    "    # Reverse word index\n",
    "    reverse_word_index = dict([(value, key) for key, value in word_index.items()])\n",
    "    \n",
    "    # Decode the newswire\n",
    "    return ' '.join([reverse_word_index.get(key - 3, \"?\") for key in numeric_sample])\n",
    "    \n",
    "print(translate(train_data[0]))"
   ]
  },
  {
   "cell_type": "markdown",
   "metadata": {},
   "source": [
    "Before we continue forward, it would be nice to have a validation set of samples on which we can measure performance (through iterative re-trainings on the training set) obtained by different hyper-parameter settings. I'll extract half of the test set as a validation set."
   ]
  },
  {
   "cell_type": "code",
   "execution_count": 5,
   "metadata": {},
   "outputs": [
    {
     "name": "stdout",
     "output_type": "stream",
     "text": [
      "Train samples: 8982\n",
      "Dev samples: 1123\n",
      "Test samples: 1123\n"
     ]
    }
   ],
   "source": [
    "dev_data = test_data[:1123]\n",
    "dev_labels = test_labels[:1123]\n",
    "test_data2 = test_data[1123:]\n",
    "test_labels2 = test_labels[1123:]\n",
    "print(\"Train samples:\", len(train_labels))\n",
    "print(\"Dev samples:\", len(dev_labels))\n",
    "print(\"Test samples:\", len(test_labels2))"
   ]
  },
  {
   "cell_type": "markdown",
   "metadata": {},
   "source": [
    "## Data preparation"
   ]
  },
  {
   "cell_type": "markdown",
   "metadata": {},
   "source": [
    "The first step would be to encode words into one-hot vectors."
   ]
  },
  {
   "cell_type": "code",
   "execution_count": 6,
   "metadata": {
    "collapsed": true
   },
   "outputs": [],
   "source": [
    "# The following method can be replaced by calling the `to_categorical` \n",
    "# method from keras: keras.utils.np_utils.to_categorical\n",
    "\n",
    "def vectorize_onehot(sequences, dimension=10000):\n",
    "    results = np.zeros((len(sequences), dimension))\n",
    "    for i, sequence in enumerate(sequences):\n",
    "        results[i, sequence] = 1\n",
    "    return results"
   ]
  },
  {
   "cell_type": "markdown",
   "metadata": {},
   "source": [
    "Now encode both data and labels.."
   ]
  },
  {
   "cell_type": "code",
   "execution_count": 7,
   "metadata": {},
   "outputs": [
    {
     "name": "stdout",
     "output_type": "stream",
     "text": [
      "(8982, 10000)\n",
      "(1123, 10000)\n",
      "(1123, 10000)\n",
      "(8982, 46)\n",
      "(1123, 46)\n",
      "(1123, 46)\n"
     ]
    }
   ],
   "source": [
    "# Encode data\n",
    "train_x = vectorize_onehot(train_data)\n",
    "test_x = vectorize_onehot(test_data2)\n",
    "dev_x = vectorize_onehot(dev_data)\n",
    "\n",
    "# Encode labels\n",
    "train_y = vectorize_onehot(train_labels, dimension=46)\n",
    "test_y = vectorize_onehot(test_labels2, dimension=46)\n",
    "dev_y = vectorize_onehot(dev_labels, dimension=46)\n",
    "\n",
    "# Print matrix shapes\n",
    "print(train_x.shape)\n",
    "print(test_x.shape)\n",
    "print(dev_x.shape)\n",
    "print(train_y.shape)\n",
    "print(test_y.shape)\n",
    "print(dev_y.shape)"
   ]
  },
  {
   "cell_type": "markdown",
   "metadata": {},
   "source": [
    "## Building the network"
   ]
  },
  {
   "cell_type": "markdown",
   "metadata": {},
   "source": [
    "Now let's build a fully connected feed-forward neural network with 2 or more hidden layers. Note that the number of nodes in the hidden layers should be bigger than the number of classes/labels (46). This is because a lower dimension space may not learn to classify samples in 46 categories - some layers can become bottlenecks and drop information."
   ]
  },
  {
   "cell_type": "code",
   "execution_count": 8,
   "metadata": {
    "collapsed": true
   },
   "outputs": [],
   "source": [
    "from keras import models, layers"
   ]
  },
  {
   "cell_type": "markdown",
   "metadata": {},
   "source": [
    "The following method will create a Sequential model using 2 hidden layers, each with 64 nodes, and a final output layer with 46 nodes, equal to the number of classification labels. The softmax activation in the last layer will output a probability distribution over the 46 different classes (all sum up to 1)."
   ]
  },
  {
   "cell_type": "code",
   "execution_count": 9,
   "metadata": {
    "collapsed": true
   },
   "outputs": [],
   "source": [
    "def create_model():\n",
    "    model = models.Sequential()\n",
    "    model.add(layers.Dense(64, activation='relu', input_shape=(10000,)))\n",
    "    model.add(layers.Dense(64, activation='relu'))\n",
    "    model.add(layers.Dense(46, activation='softmax'))\n",
    "    return model"
   ]
  },
  {
   "cell_type": "markdown",
   "metadata": {},
   "source": [
    "Compile the network.. I'll use the `categorical_crossentropy` loss function which actually compares the distribution of the predicted and actual samples. Similar to using `binary_crossentropy` in a binary classification problem, the `categorical_crossentropy` is used for multi-class classification. The 'Adaptive momentum - Adam' optimizer is selected as probably the best optimization algorithm at the moment. Finally, the `accuracy` metric will give the portion of correctly classified samples across the 46 classes."
   ]
  },
  {
   "cell_type": "code",
   "execution_count": 10,
   "metadata": {
    "collapsed": true
   },
   "outputs": [],
   "source": [
    "model = create_model()\n",
    "model.compile(optimizer='adam', loss='categorical_crossentropy', metrics=['accuracy'])"
   ]
  },
  {
   "cell_type": "markdown",
   "metadata": {},
   "source": [
    "Now let's train the model.. We can pass the Dev set to the `fit` method to be able to also look at the validation performance in each epoch, and compare it with the training performance. The `batch_size` parameter can be used to adjust training speed (larger batch_size, faster training)."
   ]
  },
  {
   "cell_type": "code",
   "execution_count": 56,
   "metadata": {},
   "outputs": [
    {
     "name": "stdout",
     "output_type": "stream",
     "text": [
      "Train on 8982 samples, validate on 1123 samples\n",
      "Epoch 1/20\n",
      "8982/8982 [==============================] - 2s 244us/step - loss: 3.0694 - acc: 0.4039 - val_loss: 2.2405 - val_acc: 0.5557\n",
      "Epoch 2/20\n",
      "8982/8982 [==============================] - 1s 140us/step - loss: 1.7656 - acc: 0.6328 - val_loss: 1.5139 - val_acc: 0.6919\n",
      "Epoch 3/20\n",
      "8982/8982 [==============================] - 2s 219us/step - loss: 1.2628 - acc: 0.7218 - val_loss: 1.2697 - val_acc: 0.7088\n",
      "Epoch 4/20\n",
      "8982/8982 [==============================] - 2s 236us/step - loss: 0.9879 - acc: 0.7790 - val_loss: 1.1272 - val_acc: 0.7435\n",
      "Epoch 5/20\n",
      "8982/8982 [==============================] - 2s 212us/step - loss: 0.7723 - acc: 0.8367 - val_loss: 1.0200 - val_acc: 0.7694\n",
      "Epoch 6/20\n",
      "8982/8982 [==============================] - 2s 177us/step - loss: 0.5934 - acc: 0.8814 - val_loss: 0.9626 - val_acc: 0.7801\n",
      "Epoch 7/20\n",
      "8982/8982 [==============================] - 2s 172us/step - loss: 0.4569 - acc: 0.9067 - val_loss: 0.9271 - val_acc: 0.7898\n",
      "Epoch 8/20\n",
      "8982/8982 [==============================] - 2s 175us/step - loss: 0.3558 - acc: 0.9261 - val_loss: 0.9071 - val_acc: 0.7943\n",
      "Epoch 9/20\n",
      "8982/8982 [==============================] - 1s 157us/step - loss: 0.2861 - acc: 0.9374 - val_loss: 0.8983 - val_acc: 0.7970\n",
      "Epoch 10/20\n",
      "8982/8982 [==============================] - 1s 141us/step - loss: 0.2323 - acc: 0.9473 - val_loss: 0.9115 - val_acc: 0.8032\n",
      "Epoch 11/20\n",
      "8982/8982 [==============================] - 1s 140us/step - loss: 0.1985 - acc: 0.9502 - val_loss: 0.9121 - val_acc: 0.7996\n",
      "Epoch 12/20\n",
      "8982/8982 [==============================] - 1s 141us/step - loss: 0.1718 - acc: 0.9531 - val_loss: 0.9426 - val_acc: 0.8050\n",
      "Epoch 13/20\n",
      "8982/8982 [==============================] - 1s 139us/step - loss: 0.1554 - acc: 0.9555 - val_loss: 0.9401 - val_acc: 0.7996\n",
      "Epoch 14/20\n",
      "8982/8982 [==============================] - 1s 137us/step - loss: 0.1395 - acc: 0.9552 - val_loss: 0.9620 - val_acc: 0.7996\n",
      "Epoch 15/20\n",
      "8982/8982 [==============================] - 1s 140us/step - loss: 0.1290 - acc: 0.9578 - val_loss: 0.9805 - val_acc: 0.8050\n",
      "Epoch 16/20\n",
      "8982/8982 [==============================] - 1s 139us/step - loss: 0.1221 - acc: 0.9579 - val_loss: 0.9684 - val_acc: 0.8041\n",
      "Epoch 17/20\n",
      "8982/8982 [==============================] - 1s 144us/step - loss: 0.1187 - acc: 0.9584 - val_loss: 1.0009 - val_acc: 0.8068\n",
      "Epoch 18/20\n",
      "8982/8982 [==============================] - 1s 157us/step - loss: 0.1121 - acc: 0.9587 - val_loss: 1.0155 - val_acc: 0.8032\n",
      "Epoch 19/20\n",
      "8982/8982 [==============================] - 1s 138us/step - loss: 0.1052 - acc: 0.9582 - val_loss: 1.0074 - val_acc: 0.8103\n",
      "Epoch 20/20\n",
      "8982/8982 [==============================] - 1s 145us/step - loss: 0.1070 - acc: 0.9599 - val_loss: 1.0391 - val_acc: 0.8059\n"
     ]
    }
   ],
   "source": [
    "history = model.fit(train_x, train_y, epochs=20, batch_size=512, validation_data=(dev_x, dev_y))"
   ]
  },
  {
   "cell_type": "markdown",
   "metadata": {},
   "source": [
    "Comparing the training and validation results, we can see our network has overfitted to the training set. This can be reduced by using some regularization techniques, which will also improve the performance on the Dev set. I won't iterate through different hyper-parameter sets this time, but go directly to looking at the performance on the 3rd - Test set."
   ]
  },
  {
   "cell_type": "code",
   "execution_count": 66,
   "metadata": {},
   "outputs": [
    {
     "name": "stdout",
     "output_type": "stream",
     "text": [
      "1123/1123 [==============================] - 0s 140us/step\n",
      "Loss and accuracy on test set: [1.1304124333661045, 0.7898486197950154]\n"
     ]
    }
   ],
   "source": [
    "test_results = model.evaluate(test_x, test_y)\n",
    "print('Loss and accuracy on test set:', test_results)"
   ]
  },
  {
   "cell_type": "markdown",
   "metadata": {},
   "source": [
    "Ok, the accuracy on both Dev and Test sets is around 80%."
   ]
  },
  {
   "cell_type": "markdown",
   "metadata": {},
   "source": [
    "## Visualization"
   ]
  },
  {
   "cell_type": "code",
   "execution_count": 11,
   "metadata": {
    "collapsed": true
   },
   "outputs": [],
   "source": [
    "import matplotlib.pyplot as plt\n",
    "%matplotlib inline"
   ]
  },
  {
   "cell_type": "code",
   "execution_count": 33,
   "metadata": {
    "collapsed": true
   },
   "outputs": [],
   "source": [
    "def plot_history(history):\n",
    "    \"\"\"\n",
    "    A method to plot the performance of training and validation.\n",
    "    It will output either 1 or two plots:\n",
    "    - the loss function\n",
    "    - (if applicable) the model accuracy\n",
    "    \"\"\"\n",
    "    \n",
    "    train_loss = history.history['loss']\n",
    "    val_loss = history.history['val_loss']\n",
    "    if 'acc' in history.history:\n",
    "        train_acc = history.history['acc']\n",
    "    if 'val_acc' in history.history:\n",
    "        val_acc = history.history['val_acc']\n",
    "    epochs = range(1, len(train_loss) + 1)\n",
    "\n",
    "    if 'acc' in history.history:\n",
    "        plt.rcParams['figure.figsize'] = (8, 10)\n",
    "        fig, ax = plt.subplots(ncols=1, nrows=2, sharex=False, sharey=False)\n",
    "        ax[0].plot(epochs, train_loss, 'o-', label='Training')\n",
    "        ax[0].plot(epochs, val_loss, 'o-', label='Validation')\n",
    "        ax[0].set_title('Training and validation loss & accuracy')\n",
    "        ax[0].set_ylabel('Loss')\n",
    "        ax[0].legend()\n",
    "    else:\n",
    "        plt.rcParams['figure.figsize'] = (8, 6)\n",
    "        fig, ax = plt.subplots(ncols=1, nrows=1)\n",
    "        ax.plot(epochs, train_loss, 'o-', label='Training')\n",
    "        ax.plot(epochs, val_loss, 'o-', label='Validation')\n",
    "        ax.set_title('Training and validation loss')\n",
    "        ax.set_ylabel('Loss')\n",
    "        ax.legend()\n",
    "    \n",
    "\n",
    "    \n",
    "    if 'acc' in history.history:\n",
    "        ax[1].plot(epochs, train_acc, 'o-', label='Training')\n",
    "        ax[1].plot(epochs, val_acc, 'o-', label='Validation')\n",
    "        ax[1].set_xlabel('Epochs')\n",
    "        ax[1].set_ylabel('Accuracy')\n",
    "        ax[1].legend()\n",
    "    \n",
    "    plt.show()"
   ]
  },
  {
   "cell_type": "code",
   "execution_count": 68,
   "metadata": {},
   "outputs": [
    {
     "data": {
      "image/png": "[encoded data removed]",
      "text/plain": [
       "<Figure size 576x720 with 2 Axes>"
      ]
     },
     "metadata": {},
     "output_type": "display_data"
    }
   ],
   "source": [
    "plot_history(history)"
   ]
  },
  {
   "cell_type": "markdown",
   "metadata": {},
   "source": [
    "## Making predictions"
   ]
  },
  {
   "cell_type": "markdown",
   "metadata": {},
   "source": [
    "Let's use the test set to make predictions on, and see the output of the softmax activation."
   ]
  },
  {
   "cell_type": "code",
   "execution_count": 76,
   "metadata": {},
   "outputs": [
    {
     "name": "stdout",
     "output_type": "stream",
     "text": [
      "Predictions over 46 classes: [9.79531906e-04 1.06287487e-02 2.29966524e-03 5.00742253e-03\n",
      " 9.23584402e-03 1.28975417e-03 2.33916544e-05 2.63494643e-04\n",
      " 6.55866275e-03 4.02035657e-03 7.34615605e-04 3.90015449e-03\n",
      " 4.38539824e-03 9.73650749e-05 4.31407272e-04 6.37970879e-05\n",
      " 5.00482786e-03 1.10105415e-04 9.02081607e-04 7.90834665e-01\n",
      " 9.50786620e-02 3.59312096e-03 1.33897818e-03 8.56749830e-05\n",
      " 1.94109965e-03 7.99287693e-04 1.96999754e-04 7.24641467e-03\n",
      " 1.54811030e-04 9.02166311e-03 5.71119162e-05 2.53240869e-04\n",
      " 1.10586123e-04 1.28454019e-04 1.11214467e-03 1.21456664e-03\n",
      " 3.36516346e-03 6.39775360e-04 2.40261829e-03 5.78154504e-05\n",
      " 2.36450098e-02 1.27528561e-04 1.78641538e-04 1.45793936e-04\n",
      " 5.25872238e-05 2.81019951e-04]\n",
      "Index of max prediction: 19\n"
     ]
    }
   ],
   "source": [
    "preds = model.predict(test_x)\n",
    "print('Predictions over 46 classes:', preds[0])\n",
    "print('Index of max prediction:', np.argmax(preds[0]))"
   ]
  },
  {
   "cell_type": "markdown",
   "metadata": {},
   "source": [
    "## Experiment 1: Encode labels as integer tensors"
   ]
  },
  {
   "cell_type": "markdown",
   "metadata": {},
   "source": [
    "What if we didn't encode output labels into one-hot representations, and instead use them as integer values?\n",
    "- Yes keras has a way to make this work, the only thing that needs to be changed in the model above is the loss function to `sparse_categorical_crossentropy`. This will do pretty much the same thing as one-hot encoding the labels - keras will expand the 1D values into 46D automatically so you should keep the number of nodes to 46 in the output layer.\n",
    "\n",
    "Does it become a regression problem having a ?\n",
    "- No, although having a single output node with values in the range [0,45] is leading in that direction. To convert this into a regression problem (although I don't see a reason how this could benefit the proejct of predicting newswires - apart from learning) we can do the following changes:\n",
    "    - Set a single node in the output layer of the model with 'linear' activation\n",
    "    - Change the loss function to a regression loss function, such as Mean Squared Error (mse)\n",
    "    - Optionally change the metric from 'accuracy' to a regression related metric. I'm not sure what 'accuracy' would measure in a regression problem (?)"
   ]
  },
  {
   "cell_type": "code",
   "execution_count": 13,
   "metadata": {
    "collapsed": true
   },
   "outputs": [],
   "source": [
    "train_y_ints = np.array(train_labels)\n",
    "test_y_ints = np.array(test_labels2)\n",
    "dev_y_ints = np.array(dev_labels)"
   ]
  },
  {
   "cell_type": "code",
   "execution_count": 22,
   "metadata": {},
   "outputs": [
    {
     "name": "stdout",
     "output_type": "stream",
     "text": [
      "Train on 8982 samples, validate on 1123 samples\n",
      "Epoch 1/20\n",
      "8982/8982 [==============================] - 2s 202us/step - loss: 124.9850 - val_loss: 89.6299\n",
      "Epoch 2/20\n",
      "8982/8982 [==============================] - 1s 130us/step - loss: 85.3073 - val_loss: 77.7237\n",
      "Epoch 3/20\n",
      "8982/8982 [==============================] - 1s 125us/step - loss: 67.6531 - val_loss: 62.1418\n",
      "Epoch 4/20\n",
      "8982/8982 [==============================] - 1s 130us/step - loss: 49.5407 - val_loss: 48.5982\n",
      "Epoch 5/20\n",
      "8982/8982 [==============================] - 1s 126us/step - loss: 36.6707 - val_loss: 42.4587\n",
      "Epoch 6/20\n",
      "8982/8982 [==============================] - 1s 126us/step - loss: 29.1160 - val_loss: 39.6926\n",
      "Epoch 7/20\n",
      "8982/8982 [==============================] - 1s 127us/step - loss: 23.5870 - val_loss: 37.5561\n",
      "Epoch 8/20\n",
      "8982/8982 [==============================] - 2s 172us/step - loss: 19.2034 - val_loss: 36.5163\n",
      "Epoch 9/20\n",
      "8982/8982 [==============================] - 1s 137us/step - loss: 15.9739 - val_loss: 36.6700\n",
      "Epoch 10/20\n",
      "8982/8982 [==============================] - 1s 148us/step - loss: 13.4326 - val_loss: 36.6163\n",
      "Epoch 11/20\n",
      "8982/8982 [==============================] - 1s 142us/step - loss: 11.5111 - val_loss: 37.3527\n",
      "Epoch 12/20\n",
      "8982/8982 [==============================] - 1s 134us/step - loss: 9.9750 - val_loss: 37.9273\n",
      "Epoch 13/20\n",
      "8982/8982 [==============================] - 1s 135us/step - loss: 8.6852 - val_loss: 38.8640\n",
      "Epoch 14/20\n",
      "8982/8982 [==============================] - 1s 147us/step - loss: 7.6807 - val_loss: 39.6703\n",
      "Epoch 15/20\n",
      "8982/8982 [==============================] - 1s 136us/step - loss: 6.9059 - val_loss: 40.6901\n",
      "Epoch 16/20\n",
      "8982/8982 [==============================] - 1s 145us/step - loss: 6.2701 - val_loss: 41.1051\n",
      "Epoch 17/20\n",
      "8982/8982 [==============================] - 1s 137us/step - loss: 5.7526 - val_loss: 41.7939\n",
      "Epoch 18/20\n",
      "8982/8982 [==============================] - 1s 145us/step - loss: 5.3865 - val_loss: 42.4925\n",
      "Epoch 19/20\n",
      "8982/8982 [==============================] - 1s 166us/step - loss: 5.0838 - val_loss: 42.8702\n",
      "Epoch 20/20\n",
      "8982/8982 [==============================] - 1s 136us/step - loss: 4.9131 - val_loss: 43.3644\n"
     ]
    }
   ],
   "source": [
    "# Create the same model but with one output node\n",
    "def create_model_ints():\n",
    "    model = models.Sequential()\n",
    "    model.add(layers.Dense(64, activation='relu', input_shape=(10000,)))\n",
    "    model.add(layers.Dense(64, activation='relu'))\n",
    "    model.add(layers.Dense(1, activation='linear'))\n",
    "    return model\n",
    "model_ints = create_model_ints()\n",
    "\n",
    "# Compile and train the new model\n",
    "model_ints.compile(optimizer='adam', loss='mse')\n",
    "history = model_ints.fit(train_x, train_y_ints, epochs=20, batch_size=512, validation_data=(dev_x, dev_y_ints))"
   ]
  },
  {
   "cell_type": "code",
   "execution_count": 35,
   "metadata": {},
   "outputs": [
    {
     "data": {
      "image/png": "[encoded data removed]",
      "text/plain": [
       "<Figure size 576x432 with 1 Axes>"
      ]
     },
     "metadata": {},
     "output_type": "display_data"
    }
   ],
   "source": [
    "plot_history(history)"
   ]
  },
  {
   "cell_type": "markdown",
   "metadata": {},
   "source": [
    "## Experiment 2: Having a bottleneck layer"
   ]
  },
  {
   "cell_type": "markdown",
   "metadata": {},
   "source": [
    "As the author in the 'Deep Learning With Python' book suggests, where this example comes from, an intermediate layer having substantially less nodes than the output one (46) would drop information, resulting in a lower performance. Let's try using a hidden layer with only a few nodes and see."
   ]
  },
  {
   "cell_type": "code",
   "execution_count": 37,
   "metadata": {},
   "outputs": [
    {
     "name": "stdout",
     "output_type": "stream",
     "text": [
      "Train on 8982 samples, validate on 1123 samples\n",
      "Epoch 1/20\n",
      "8982/8982 [==============================] - 2s 178us/step - loss: 3.6635 - acc: 0.2555 - val_loss: 3.3949 - val_acc: 0.3749\n",
      "Epoch 2/20\n",
      "8982/8982 [==============================] - 1s 138us/step - loss: 3.1857 - acc: 0.3681 - val_loss: 2.9213 - val_acc: 0.3998\n",
      "Epoch 3/20\n",
      "8982/8982 [==============================] - 1s 145us/step - loss: 2.7114 - acc: 0.3988 - val_loss: 2.5001 - val_acc: 0.4248\n",
      "Epoch 4/20\n",
      "8982/8982 [==============================] - 1s 151us/step - loss: 2.3064 - acc: 0.4138 - val_loss: 2.1848 - val_acc: 0.4559\n",
      "Epoch 5/20\n",
      "8982/8982 [==============================] - 1s 141us/step - loss: 2.0020 - acc: 0.4991 - val_loss: 1.9551 - val_acc: 0.5441\n",
      "Epoch 6/20\n",
      "8982/8982 [==============================] - 1s 145us/step - loss: 1.7669 - acc: 0.5855 - val_loss: 1.7986 - val_acc: 0.5770\n",
      "Epoch 7/20\n",
      "8982/8982 [==============================] - 1s 153us/step - loss: 1.6007 - acc: 0.5838 - val_loss: 1.6946 - val_acc: 0.5726\n",
      "Epoch 8/20\n",
      "8982/8982 [==============================] - 1s 128us/step - loss: 1.4756 - acc: 0.5985 - val_loss: 1.6237 - val_acc: 0.5948\n",
      "Epoch 9/20\n",
      "8982/8982 [==============================] - 1s 143us/step - loss: 1.3621 - acc: 0.6278 - val_loss: 1.5577 - val_acc: 0.6064\n",
      "Epoch 10/20\n",
      "8982/8982 [==============================] - 1s 151us/step - loss: 1.2564 - acc: 0.6668 - val_loss: 1.5022 - val_acc: 0.6376\n",
      "Epoch 11/20\n",
      "8982/8982 [==============================] - 1s 141us/step - loss: 1.1591 - acc: 0.7050 - val_loss: 1.4554 - val_acc: 0.6581\n",
      "Epoch 12/20\n",
      "8982/8982 [==============================] - 1s 145us/step - loss: 1.0731 - acc: 0.7267 - val_loss: 1.4258 - val_acc: 0.6634\n",
      "Epoch 13/20\n",
      "8982/8982 [==============================] - 1s 138us/step - loss: 1.0036 - acc: 0.7426 - val_loss: 1.4043 - val_acc: 0.6768\n",
      "Epoch 14/20\n",
      "8982/8982 [==============================] - 1s 144us/step - loss: 0.9441 - acc: 0.7627 - val_loss: 1.3944 - val_acc: 0.6901\n",
      "Epoch 15/20\n",
      "8982/8982 [==============================] - 1s 140us/step - loss: 0.8905 - acc: 0.7768 - val_loss: 1.3906 - val_acc: 0.6848\n",
      "Epoch 16/20\n",
      "8982/8982 [==============================] - 1s 137us/step - loss: 0.8423 - acc: 0.7855 - val_loss: 1.3919 - val_acc: 0.6812\n",
      "Epoch 17/20\n",
      "8982/8982 [==============================] - 1s 136us/step - loss: 0.7984 - acc: 0.7936 - val_loss: 1.4021 - val_acc: 0.6910\n",
      "Epoch 18/20\n",
      "8982/8982 [==============================] - 1s 150us/step - loss: 0.7587 - acc: 0.8002 - val_loss: 1.4043 - val_acc: 0.6883\n",
      "Epoch 19/20\n",
      "8982/8982 [==============================] - 1s 135us/step - loss: 0.7226 - acc: 0.8063 - val_loss: 1.4216 - val_acc: 0.6883\n",
      "Epoch 20/20\n",
      "8982/8982 [==============================] - 1s 141us/step - loss: 0.6890 - acc: 0.8097 - val_loss: 1.4289 - val_acc: 0.6928\n"
     ]
    }
   ],
   "source": [
    "# Create a model with a bottleneck layer\n",
    "model_bottleneck = models.Sequential()\n",
    "model_bottleneck.add(layers.Dense(64, activation='relu', input_shape=(10000,)))\n",
    "model_bottleneck.add(layers.Dense(4, activation='relu'))\n",
    "model_bottleneck.add(layers.Dense(46, activation='softmax'))\n",
    "\n",
    "# Compile and train the new model\n",
    "model_bottleneck.compile(optimizer='adam', loss='categorical_crossentropy', metrics=['accuracy'])\n",
    "history_bottleneck = model_bottleneck.fit(train_x, train_y, epochs=20, batch_size=512, validation_data=(dev_x, dev_y))"
   ]
  },
  {
   "cell_type": "markdown",
   "metadata": {},
   "source": [
    "Anyway, it's amazing how this bottleneck layer with very few nodes still manages to keep most of the information. The above bottleneck model had only 10% absolute drop in accuracy, compared to the original model. I'm sure this idea is used in autoencoders where a neural network with a bottleneck layer is trained in order to learn a lower-dimensional representation of the data. Does PCA work on a similar idea?"
   ]
  }
 ],
 "metadata": {
  "kernelspec": {
   "display_name": "Python 3",
   "language": "python",
   "name": "python3"
  },
  "language_info": {
   "codemirror_mode": {
    "name": "ipython",
    "version": 3
   },
   "file_extension": ".py",
   "mimetype": "text/x-python",
   "name": "python",
   "nbconvert_exporter": "python",
   "pygments_lexer": "ipython3",
   "version": "3.6.1"
  },
  "toc": {
   "nav_menu": {},
   "number_sections": false,
   "sideBar": true,
   "skip_h1_title": true,
   "toc_cell": true,
   "toc_position": {},
   "toc_section_display": "block",
   "toc_window_display": true
  }
 },
 "nbformat": 4,
 "nbformat_minor": 2
}
