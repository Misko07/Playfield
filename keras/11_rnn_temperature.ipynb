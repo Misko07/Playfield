{
 "cells": [
  {
   "cell_type": "markdown",
   "metadata": {},
   "source": [
    "Our data is in folder data/jena_data/jena_climate_2009_2016.csv"
   ]
  },
  {
   "cell_type": "code",
   "execution_count": 187,
   "metadata": {},
   "outputs": [],
   "source": [
    "import pandas as pd\n",
    "import numpy as np\n",
    "datafile = \"../data/jena_data/jena_climate_2009_2016.csv\""
   ]
  },
  {
   "cell_type": "code",
   "execution_count": 188,
   "metadata": {},
   "outputs": [],
   "source": [
    "df = pd.read_csv(datafile)"
   ]
  },
  {
   "cell_type": "code",
   "execution_count": 189,
   "metadata": {},
   "outputs": [
    {
     "name": "stdout",
     "output_type": "stream",
     "text": [
      "data shape: (420551, 15)\n"
     ]
    },
    {
     "data": {
      "text/html": [
       "<div>\n",
       "<style scoped>\n",
       "    .dataframe tbody tr th:only-of-type {\n",
       "        vertical-align: middle;\n",
       "    }\n",
       "\n",
       "    .dataframe tbody tr th {\n",
       "        vertical-align: top;\n",
       "    }\n",
       "\n",
       "    .dataframe thead th {\n",
       "        text-align: right;\n",
       "    }\n",
       "</style>\n",
       "<table border=\"1\" class=\"dataframe\">\n",
       "  <thead>\n",
       "    <tr style=\"text-align: right;\">\n",
       "      <th></th>\n",
       "      <th>Date Time</th>\n",
       "      <th>p (mbar)</th>\n",
       "      <th>T (degC)</th>\n",
       "      <th>Tpot (K)</th>\n",
       "      <th>Tdew (degC)</th>\n",
       "      <th>rh (%)</th>\n",
       "      <th>VPmax (mbar)</th>\n",
       "      <th>VPact (mbar)</th>\n",
       "      <th>VPdef (mbar)</th>\n",
       "      <th>sh (g/kg)</th>\n",
       "      <th>H2OC (mmol/mol)</th>\n",
       "      <th>rho (g/m**3)</th>\n",
       "      <th>wv (m/s)</th>\n",
       "      <th>max. wv (m/s)</th>\n",
       "      <th>wd (deg)</th>\n",
       "    </tr>\n",
       "  </thead>\n",
       "  <tbody>\n",
       "    <tr>\n",
       "      <th>0</th>\n",
       "      <td>01.01.2009 00:10:00</td>\n",
       "      <td>996.52</td>\n",
       "      <td>-8.02</td>\n",
       "      <td>265.40</td>\n",
       "      <td>-8.90</td>\n",
       "      <td>93.3</td>\n",
       "      <td>3.33</td>\n",
       "      <td>3.11</td>\n",
       "      <td>0.22</td>\n",
       "      <td>1.94</td>\n",
       "      <td>3.12</td>\n",
       "      <td>1307.75</td>\n",
       "      <td>1.03</td>\n",
       "      <td>1.75</td>\n",
       "      <td>152.3</td>\n",
       "    </tr>\n",
       "    <tr>\n",
       "      <th>1</th>\n",
       "      <td>01.01.2009 00:20:00</td>\n",
       "      <td>996.57</td>\n",
       "      <td>-8.41</td>\n",
       "      <td>265.01</td>\n",
       "      <td>-9.28</td>\n",
       "      <td>93.4</td>\n",
       "      <td>3.23</td>\n",
       "      <td>3.02</td>\n",
       "      <td>0.21</td>\n",
       "      <td>1.89</td>\n",
       "      <td>3.03</td>\n",
       "      <td>1309.80</td>\n",
       "      <td>0.72</td>\n",
       "      <td>1.50</td>\n",
       "      <td>136.1</td>\n",
       "    </tr>\n",
       "    <tr>\n",
       "      <th>2</th>\n",
       "      <td>01.01.2009 00:30:00</td>\n",
       "      <td>996.53</td>\n",
       "      <td>-8.51</td>\n",
       "      <td>264.91</td>\n",
       "      <td>-9.31</td>\n",
       "      <td>93.9</td>\n",
       "      <td>3.21</td>\n",
       "      <td>3.01</td>\n",
       "      <td>0.20</td>\n",
       "      <td>1.88</td>\n",
       "      <td>3.02</td>\n",
       "      <td>1310.24</td>\n",
       "      <td>0.19</td>\n",
       "      <td>0.63</td>\n",
       "      <td>171.6</td>\n",
       "    </tr>\n",
       "    <tr>\n",
       "      <th>3</th>\n",
       "      <td>01.01.2009 00:40:00</td>\n",
       "      <td>996.51</td>\n",
       "      <td>-8.31</td>\n",
       "      <td>265.12</td>\n",
       "      <td>-9.07</td>\n",
       "      <td>94.2</td>\n",
       "      <td>3.26</td>\n",
       "      <td>3.07</td>\n",
       "      <td>0.19</td>\n",
       "      <td>1.92</td>\n",
       "      <td>3.08</td>\n",
       "      <td>1309.19</td>\n",
       "      <td>0.34</td>\n",
       "      <td>0.50</td>\n",
       "      <td>198.0</td>\n",
       "    </tr>\n",
       "    <tr>\n",
       "      <th>4</th>\n",
       "      <td>01.01.2009 00:50:00</td>\n",
       "      <td>996.51</td>\n",
       "      <td>-8.27</td>\n",
       "      <td>265.15</td>\n",
       "      <td>-9.04</td>\n",
       "      <td>94.1</td>\n",
       "      <td>3.27</td>\n",
       "      <td>3.08</td>\n",
       "      <td>0.19</td>\n",
       "      <td>1.92</td>\n",
       "      <td>3.09</td>\n",
       "      <td>1309.00</td>\n",
       "      <td>0.32</td>\n",
       "      <td>0.63</td>\n",
       "      <td>214.3</td>\n",
       "    </tr>\n",
       "  </tbody>\n",
       "</table>\n",
       "</div>"
      ],
      "text/plain": [
       "             Date Time  p (mbar)  T (degC)  Tpot (K)  Tdew (degC)  rh (%)  \\\n",
       "0  01.01.2009 00:10:00    996.52     -8.02    265.40        -8.90    93.3   \n",
       "1  01.01.2009 00:20:00    996.57     -8.41    265.01        -9.28    93.4   \n",
       "2  01.01.2009 00:30:00    996.53     -8.51    264.91        -9.31    93.9   \n",
       "3  01.01.2009 00:40:00    996.51     -8.31    265.12        -9.07    94.2   \n",
       "4  01.01.2009 00:50:00    996.51     -8.27    265.15        -9.04    94.1   \n",
       "\n",
       "   VPmax (mbar)  VPact (mbar)  VPdef (mbar)  sh (g/kg)  H2OC (mmol/mol)  \\\n",
       "0          3.33          3.11          0.22       1.94             3.12   \n",
       "1          3.23          3.02          0.21       1.89             3.03   \n",
       "2          3.21          3.01          0.20       1.88             3.02   \n",
       "3          3.26          3.07          0.19       1.92             3.08   \n",
       "4          3.27          3.08          0.19       1.92             3.09   \n",
       "\n",
       "   rho (g/m**3)  wv (m/s)  max. wv (m/s)  wd (deg)  \n",
       "0       1307.75      1.03           1.75     152.3  \n",
       "1       1309.80      0.72           1.50     136.1  \n",
       "2       1310.24      0.19           0.63     171.6  \n",
       "3       1309.19      0.34           0.50     198.0  \n",
       "4       1309.00      0.32           0.63     214.3  "
      ]
     },
     "execution_count": 189,
     "metadata": {},
     "output_type": "execute_result"
    }
   ],
   "source": [
    "print(\"data shape:\", df.shape)\n",
    "df.head()"
   ]
  },
  {
   "cell_type": "code",
   "execution_count": 152,
   "metadata": {},
   "outputs": [
    {
     "name": "stdout",
     "output_type": "stream",
     "text": [
      "False\n",
      "False\n",
      "True\n"
     ]
    },
    {
     "data": {
      "text/plain": [
       "False"
      ]
     },
     "execution_count": 152,
     "metadata": {},
     "output_type": "execute_result"
    }
   ],
   "source": [
    "print(df.isnull().values.any())\n",
    "print(df.isna().values.any())\n",
    "print(df.isin([0]).values.any())\n",
    "\n",
    "# Replace inf with nans, and then find nans :)\n",
    "# df.info()\n",
    "# df.replace([np.inf, -np.inf], np.nan)\n",
    "# df.info()\n",
    "\n",
    "df.isnull().values.any()"
   ]
  },
  {
   "cell_type": "code",
   "execution_count": 190,
   "metadata": {},
   "outputs": [],
   "source": [
    "df.drop(\"Date Time\", axis=1, inplace=True)"
   ]
  },
  {
   "cell_type": "code",
   "execution_count": 191,
   "metadata": {},
   "outputs": [],
   "source": [
    "# Take the temperature column as target data, convert it to numpy array\n",
    "targets = df['T (degC)'].values\n",
    "# convert the dataframe into a numpy matrix called `data`\n",
    "data = df.values"
   ]
  },
  {
   "cell_type": "markdown",
   "metadata": {},
   "source": [
    "The data contains measurements done each 10 minutes, so there are 144 measurements in a day. We can define the following parameters of the model:\n",
    "- lookback = 1440 - we'll take data of last 10 days as direct input to the model\n",
    "- steps = 6 - we won't use all data points since many features don't change much in less then an hour. We'll sample data using steps of 1 hour \n",
    "- delay = 144 - how further in the future we'd like to predict (24 hours)"
   ]
  },
  {
   "cell_type": "code",
   "execution_count": 192,
   "metadata": {},
   "outputs": [],
   "source": [
    "lookback = 1440\n",
    "steps = 6\n",
    "delay = 144"
   ]
  },
  {
   "cell_type": "code",
   "execution_count": 193,
   "metadata": {},
   "outputs": [],
   "source": [
    "train_samples = 200000\n",
    "val_samples = 100000\n",
    "# test samples would take the rest of data (or 120551 data rows)"
   ]
  },
  {
   "cell_type": "markdown",
   "metadata": {},
   "source": [
    "Since the values of different features are spread across different ranges (eg. T is in the tens, and rho in the thousands), we need to normalize and standardize the data - subtract the mean and divide with the standard deviation of data. Here, the mean and st. dev are calculated only on the training set, but applied to the whole data."
   ]
  },
  {
   "cell_type": "code",
   "execution_count": 194,
   "metadata": {},
   "outputs": [
    {
     "name": "stdout",
     "output_type": "stream",
     "text": [
      "[ 8.48043388  8.85249908  8.95324185  7.16584991 16.72731652  7.68914559\n",
      "  4.19808168  4.84034436  2.66564926  4.25206364 42.48884277  1.53666449\n",
      "  2.33067298 86.61322998]\n",
      "[[ 0.90014748 -1.93135845 -1.98211036 -1.86280029  1.07285236 -1.30742164\n",
      "  -1.47375773 -0.79868641 -1.4762674  -1.47815522  2.12375056 -0.72950452\n",
      "  -0.78067973 -0.27613603]\n",
      " [ 0.9060434  -1.97541381 -2.02567    -1.91582958  1.07883061 -1.32042698\n",
      "  -1.4951961  -0.80075238 -1.49502455 -1.49932141  2.17199852 -0.93124017\n",
      "  -0.88794488 -0.46317443]]\n"
     ]
    }
   ],
   "source": [
    "mean = data[:train_samples].mean(axis=0)\n",
    "data -= mean\n",
    "std = data[:train_samples].std(axis=0)\n",
    "data /= std\n",
    "\n",
    "print(std)\n",
    "\n",
    "# print 2 lines of the processed data\n",
    "print(data[:2, :])"
   ]
  },
  {
   "cell_type": "code",
   "execution_count": 104,
   "metadata": {},
   "outputs": [
    {
     "data": {
      "text/plain": [
       "(420551, 14)"
      ]
     },
     "execution_count": 104,
     "metadata": {},
     "output_type": "execute_result"
    }
   ],
   "source": [
    "data.shape"
   ]
  },
  {
   "cell_type": "markdown",
   "metadata": {},
   "source": [
    "Now we can define a Python generator function that will take as input our data and output batches of data, in the suitable format (batch_size, timesteps, num_features) to be inserted in the model. "
   ]
  },
  {
   "cell_type": "code",
   "execution_count": 195,
   "metadata": {},
   "outputs": [],
   "source": [
    "def generator(data, lookback, delay, min_index, max_index, shuffle=False, batch_size=128, step=6):\n",
    "    if max_index is None:\n",
    "        max_index = len(data) - delay - 1\n",
    "    i = min_index + lookback\n",
    "    \n",
    "    while True:\n",
    "        \n",
    "        if shuffle:\n",
    "            rows = np.random.randint(min_index + lookback, max_index, size=batch_size)\n",
    "        else:\n",
    "            # If we reached the end, start from beginning - to allow us to go through the data many times\n",
    "            if i + batch_size > max_index:\n",
    "                i = min_index + lookback\n",
    "            # make sure you don't go over the length of data\n",
    "            rows = np.arange(i, min(i + batch_size, max_index))\n",
    "            i += len(rows)\n",
    "        \n",
    "        # output format: (batch_size, timesteps, num_features)\n",
    "        samples = np.zeros((len(rows), lookback // step, data.shape[1]))\n",
    "        targets = np.zeros((len(rows),))\n",
    "        \n",
    "        # loop over a batch and create samples and targets\n",
    "        for j, row in enumerate(rows):\n",
    "            indices = range(rows[j] - lookback, rows[j], step)\n",
    "            samples[j] = data[indices]\n",
    "            targets[j] = data[rows[j] + delay][1]\n",
    "        yield samples, targets"
   ]
  },
  {
   "cell_type": "markdown",
   "metadata": {},
   "source": [
    "The above generator function can now be used to generate the train, validation and test datasets. It would generate samples forever, so in the `fit_generator` method below, we'd need to give values for the number of iterations to use, using the `steps_per_epoch` and `validation_steps` attributes."
   ]
  },
  {
   "cell_type": "markdown",
   "metadata": {},
   "source": [
    "There are a few problems I encountered in this part:\n",
    "- First, the generator code in Cholet's book (see reference) seems to have a problem for the no-shuffling case. I think my fix in the above method is working well.\n",
    "- Another (bigger issue) is connected to the validation generator which outputs `nan` values after a certain sample is reached. This problem is usually present if `inf` or `nan` values are present in the data, which was not the case for me. People on github suggest to use a different optimizer, like Adam, but this also doesn't help. I assume that the problem is due to some value in the data is equal to 0, so the optimizer at some point makes a division by 0. Therefore I tried normalizing / standardizing the data, not around 0 mean and 1 standard deviation, but in the range [0,1]. \n",
    "- A third issue is connected with the selection of the values for `steps_per_epoch` and `validation_steps` in the `fit_generator` method. The right way for this to be done I guess is setting them to a value: `num_samples / batch_size`, so that the whole dataset can be seen. A common mistake is to set these parameters to very large values (eg. the total number of samples in the train / val set) and then an epoch would take too long, so remember to divide by the batch_size.\n",
    "\n",
    "Another important thing learned from the generator function above is how to shuffle timeseries data in order not to include infromation from the future to predict the past. "
   ]
  },
  {
   "cell_type": "code",
   "execution_count": 205,
   "metadata": {},
   "outputs": [],
   "source": [
    "batch_size = 128\n",
    "\n",
    "train_gen = generator(data,\n",
    "                     lookback=lookback,\n",
    "                     delay=delay,\n",
    "                     min_index=0,\n",
    "                     max_index=train_samples,\n",
    "                     shuffle=True,\n",
    "                     step=steps,\n",
    "                     batch_size=batch_size)\n",
    "\n",
    "val_gen = generator(data,\n",
    "                    lookback=lookback,\n",
    "                    delay=delay,\n",
    "                    min_index=train_samples + 1,\n",
    "                    max_index=train_samples + val_samples,\n",
    "                    shuffle=False,\n",
    "                    step=steps,\n",
    "                    batch_size=batch_size)\n",
    "\n",
    "test_gen = generator(data,\n",
    "                    lookback=lookback,\n",
    "                    delay=delay,\n",
    "                    min_index=train_samples + val_samples + 1,\n",
    "                    max_index=None,\n",
    "                    shuffle=False,\n",
    "                    step=steps,\n",
    "                    batch_size=batch_size)"
   ]
  },
  {
   "cell_type": "markdown",
   "metadata": {},
   "source": [
    "The below method `evaluate_baselie` is used to calculate a baseline for the problem. We assume that the temperature 24 hours from the current time would be same as the current one. We calculate the mean absolute error (MAE) using this approach, which is then directly comparable with the output of the model. The MAE for the temperature, using this approach, is around 2.5 celsius degrees, which means this is the average absolute error we'd do with this approach.\n",
    "\n",
    "Our ML model must try to beat this baseline, which might not always be easy!"
   ]
  },
  {
   "cell_type": "code",
   "execution_count": 166,
   "metadata": {},
   "outputs": [
    {
     "name": "stdout",
     "output_type": "stream",
     "text": [
      "# Validation steps: 770\n",
      "MAE for baseline approach: 2.572 celsius degrees\n"
     ]
    }
   ],
   "source": [
    "def evaluate_baseline():\n",
    "    batch_maes = []\n",
    "    \n",
    "    # Loop the number of times needed to see the whole validation dataset\n",
    "    val_steps = (train_samples + val_samples - train_samples - lookback - 1) // batch_size + 1\n",
    "    print(\"# Validation steps:\", val_steps)\n",
    "    for i in range(val_steps):\n",
    "        samples, targets = next(val_gen)\n",
    "        preds = samples[:, -1, 1]\n",
    "        mae = np.mean(np.abs(preds - targets))\n",
    "        batch_maes.append(mae)\n",
    "    return np.mean(batch_maes)\n",
    "    \n",
    "baseline_error = evaluate_baseline()\n",
    "print('MAE for baseline approach: %.3f celsius degrees' %  (baseline_error * std[1]))"
   ]
  },
  {
   "cell_type": "code",
   "execution_count": 172,
   "metadata": {},
   "outputs": [
    {
     "name": "stdout",
     "output_type": "stream",
     "text": [
      "train_steps: 1552\n",
      "val_steps: 770\n",
      "test_steps: 931\n",
      "Epoch 1/20\n",
      "1552/1552 [==============================] - 26s 17ms/step - loss: 0.3184 - val_loss: 0.3253\n",
      "Epoch 2/20\n",
      "1552/1552 [==============================] - 25s 16ms/step - loss: 0.1967 - val_loss: 0.3339\n",
      "Epoch 3/20\n",
      "1552/1552 [==============================] - 25s 16ms/step - loss: 0.1728 - val_loss: 0.3452\n",
      "Epoch 4/20\n",
      "1552/1552 [==============================] - 25s 16ms/step - loss: 0.1605 - val_loss: 0.3454\n",
      "Epoch 5/20\n",
      "1552/1552 [==============================] - 25s 16ms/step - loss: 0.1488 - val_loss: 0.3544\n",
      "Epoch 6/20\n",
      "1552/1552 [==============================] - 25s 16ms/step - loss: 0.1406 - val_loss: 0.3605\n",
      "Epoch 7/20\n",
      "1552/1552 [==============================] - 25s 16ms/step - loss: 0.1334 - val_loss: 0.3641\n",
      "Epoch 8/20\n",
      "1552/1552 [==============================] - 25s 16ms/step - loss: 0.1272 - val_loss: 0.3687\n",
      "Epoch 9/20\n",
      "1552/1552 [==============================] - 25s 16ms/step - loss: 0.1231 - val_loss: 0.3609\n",
      "Epoch 10/20\n",
      "1552/1552 [==============================] - 25s 16ms/step - loss: 0.1195 - val_loss: 0.3631\n",
      "Epoch 11/20\n",
      "1552/1552 [==============================] - 25s 16ms/step - loss: 0.1167 - val_loss: 0.3670\n",
      "Epoch 12/20\n",
      "1552/1552 [==============================] - 25s 16ms/step - loss: 0.1141 - val_loss: 0.3707\n",
      "Epoch 13/20\n",
      "1552/1552 [==============================] - 25s 16ms/step - loss: 0.1118 - val_loss: 0.3669\n",
      "Epoch 14/20\n",
      "1552/1552 [==============================] - 25s 16ms/step - loss: 0.1100 - val_loss: 0.3744\n",
      "Epoch 15/20\n",
      "1552/1552 [==============================] - 25s 16ms/step - loss: 0.1083 - val_loss: 0.3726\n",
      "Epoch 16/20\n",
      "1552/1552 [==============================] - 24s 15ms/step - loss: 0.1078 - val_loss: 0.3681\n",
      "Epoch 17/20\n",
      "1552/1552 [==============================] - 24s 15ms/step - loss: 0.1049 - val_loss: 0.3700\n",
      "Epoch 18/20\n",
      "1552/1552 [==============================] - 24s 15ms/step - loss: 0.1046 - val_loss: 0.3750\n",
      "Epoch 19/20\n",
      "1552/1552 [==============================] - 24s 15ms/step - loss: 0.1032 - val_loss: 0.3747\n",
      "Epoch 20/20\n",
      "1552/1552 [==============================] - 24s 15ms/step - loss: 0.1017 - val_loss: 0.3729\n"
     ]
    }
   ],
   "source": [
    "# Train steps to take in order to see the entire training set\n",
    "train_steps = (train_samples - lookback) // batch_size + 1\n",
    "# Number of steps to see the entire validation set\n",
    "val_steps = (train_samples + val_samples - train_samples - lookback - 1) // batch_size + 1\n",
    "# Number of steps to see the entire test set\n",
    "test_steps = (len(data) - train_samples - val_samples - lookback - 1)  // batch_size + 1\n",
    "\n",
    "print('train_steps:', train_steps)\n",
    "print('val_steps:', val_steps)\n",
    "print('test_steps:', test_steps)\n",
    "\n",
    "# Build the model\n",
    "from keras.models import Sequential\n",
    "from keras import layers\n",
    "from keras.optimizers import RMSprop\n",
    "\n",
    "model = Sequential()\n",
    "# We need to flatten the data which is generated to suit a recurrent model\n",
    "model.add(layers.Flatten(input_shape=(lookback // steps, data.shape[-1])))\n",
    "model.add(layers.Dense(32, activation='relu'))\n",
    "model.add(layers.Dense(1))\n",
    "\n",
    "model.compile(optimizer='adam', loss='mae')\n",
    "\n",
    "history = model.fit_generator(train_gen,\n",
    "                             steps_per_epoch = train_steps,\n",
    "                             epochs=20,\n",
    "                             validation_data=val_gen,\n",
    "                             validation_steps=val_steps)"
   ]
  },
  {
   "cell_type": "code",
   "execution_count": 197,
   "metadata": {},
   "outputs": [],
   "source": [
    "def plot_history(history):\n",
    "    \"\"\"\n",
    "    Plots the history of a model training - its loss and accuracy.\n",
    "    \"\"\"    \n",
    "    import matplotlib.pyplot as plt\n",
    "    loss = history.history['loss']\n",
    "    val_loss = history.history['val_loss']\n",
    "    epochs = range(1, len(loss) + 1)\n",
    "    plt.figure()\n",
    "    plt.plot(epochs, loss, 'bo', label='Training loss')\n",
    "    plt.plot(epochs, val_loss, 'b', label='Validation loss')\n",
    "    plt.title('Training and validation loss')\n",
    "    plt.legend()\n",
    "    plt.show()"
   ]
  },
  {
   "cell_type": "code",
   "execution_count": 173,
   "metadata": {},
   "outputs": [
    {
     "data": {
      "image/png": "[encoded data removed]",
      "text/plain": [
       "<Figure size 432x288 with 1 Axes>"
      ]
     },
     "metadata": {},
     "output_type": "display_data"
    }
   ],
   "source": [
    "plot_history(history)"
   ]
  },
  {
   "cell_type": "markdown",
   "metadata": {},
   "source": [
    "Ok the performance of our first model using a standard fully-connected network is far from the performance of the baseline case. The model is not capable of learning a simple pattern such as predicting a value 24 hours in the future, same as the current one. Parameter learning can sometimes fail to learn a simple solution to a simple problem.\n",
    "\n",
    "Next, I can try using a recurrent network with GRU units on the same problem."
   ]
  },
  {
   "cell_type": "code",
   "execution_count": 181,
   "metadata": {},
   "outputs": [
    {
     "name": "stdout",
     "output_type": "stream",
     "text": [
      "Epoch 1/20\n",
      "500/500 [==============================] - 76s 152ms/step - loss: 0.3126 - val_loss: 0.2702\n",
      "Epoch 2/20\n",
      "500/500 [==============================] - 74s 148ms/step - loss: 0.2847 - val_loss: 0.2634\n",
      "Epoch 3/20\n",
      "500/500 [==============================] - 74s 148ms/step - loss: 0.2778 - val_loss: 0.2642\n",
      "Epoch 4/20\n",
      "500/500 [==============================] - 74s 147ms/step - loss: 0.2711 - val_loss: 0.2662\n",
      "Epoch 5/20\n",
      "500/500 [==============================] - 74s 148ms/step - loss: 0.2653 - val_loss: 0.2717\n",
      "Epoch 6/20\n",
      "500/500 [==============================] - 75s 150ms/step - loss: 0.2600 - val_loss: 0.2653\n",
      "Epoch 7/20\n",
      "500/500 [==============================] - 74s 148ms/step - loss: 0.2558 - val_loss: 0.2708\n",
      "Epoch 8/20\n",
      "500/500 [==============================] - 74s 148ms/step - loss: 0.2513 - val_loss: 0.2647\n",
      "Epoch 9/20\n",
      "500/500 [==============================] - 74s 148ms/step - loss: 0.2480 - val_loss: 0.2676\n",
      "Epoch 10/20\n",
      "500/500 [==============================] - 73s 147ms/step - loss: 0.2411 - val_loss: 0.2762\n",
      "Epoch 11/20\n",
      "500/500 [==============================] - 74s 147ms/step - loss: 0.2389 - val_loss: 0.2759\n",
      "Epoch 12/20\n",
      "500/500 [==============================] - 74s 148ms/step - loss: 0.2351 - val_loss: 0.2791\n",
      "Epoch 13/20\n",
      "500/500 [==============================] - 74s 147ms/step - loss: 0.2308 - val_loss: 0.2823\n",
      "Epoch 14/20\n",
      "500/500 [==============================] - 74s 148ms/step - loss: 0.2258 - val_loss: 0.2892\n",
      "Epoch 15/20\n",
      "500/500 [==============================] - 74s 148ms/step - loss: 0.2226 - val_loss: 0.2881\n",
      "Epoch 16/20\n",
      "500/500 [==============================] - 76s 151ms/step - loss: 0.2184 - val_loss: 0.2925\n",
      "Epoch 17/20\n",
      "500/500 [==============================] - 75s 150ms/step - loss: 0.2142 - val_loss: 0.2944\n",
      "Epoch 18/20\n",
      "500/500 [==============================] - 75s 149ms/step - loss: 0.2097 - val_loss: 0.2967\n",
      "Epoch 19/20\n",
      "500/500 [==============================] - 75s 149ms/step - loss: 0.2083 - val_loss: 0.2995\n",
      "Epoch 20/20\n",
      "500/500 [==============================] - 75s 150ms/step - loss: 0.2042 - val_loss: 0.3047\n"
     ]
    }
   ],
   "source": [
    "from keras.models import Sequential\n",
    "from keras import layers\n",
    "from keras.optimizers import RMSprop\n",
    "\n",
    "num_features = data.shape[1]  # 14 in this case\n",
    "\n",
    "model = Sequential()\n",
    "# why isn't there a `timesteps` dimension in the input_shape?\n",
    "model.add(layers.GRU(32, input_shape=(None, num_features)))\n",
    "model.add(layers.Dense(1))\n",
    "\n",
    "model.compile(optimizer=RMSprop(), loss='mae')\n",
    "history = model.fit_generator(train_gen, \n",
    "                              steps_per_epoch=500, # use less steps than needed\n",
    "                              epochs=20, \n",
    "                              validation_data=val_gen, \n",
    "                              validation_steps=val_steps)"
   ]
  },
  {
   "cell_type": "code",
   "execution_count": 182,
   "metadata": {},
   "outputs": [
    {
     "data": {
      "image/png": "[encoded data removed]",
      "text/plain": [
       "<Figure size 432x288 with 1 Axes>"
      ]
     },
     "metadata": {},
     "output_type": "display_data"
    }
   ],
   "source": [
    "plot_history(history)"
   ]
  },
  {
   "cell_type": "code",
   "execution_count": 183,
   "metadata": {},
   "outputs": [
    {
     "name": "stdout",
     "output_type": "stream",
     "text": [
      "Epoch 1/40\n",
      "500/500 [==============================] - 77s 153ms/step - loss: 0.2001 - val_loss: 0.3038\n",
      "Epoch 2/40\n",
      "500/500 [==============================] - 76s 153ms/step - loss: 0.1975 - val_loss: 0.3076\n",
      "Epoch 3/40\n",
      "500/500 [==============================] - 76s 153ms/step - loss: 0.1944 - val_loss: 0.3109\n",
      "Epoch 4/40\n",
      "500/500 [==============================] - 76s 152ms/step - loss: 0.1918 - val_loss: 0.3128\n",
      "Epoch 5/40\n",
      "500/500 [==============================] - 77s 154ms/step - loss: 0.1886 - val_loss: 0.3150\n",
      "Epoch 6/40\n",
      "500/500 [==============================] - 87s 175ms/step - loss: 0.1867 - val_loss: 0.3172\n",
      "Epoch 7/40\n",
      "500/500 [==============================] - 78s 156ms/step - loss: 0.1852 - val_loss: 0.3135\n",
      "Epoch 8/40\n",
      "500/500 [==============================] - 88s 175ms/step - loss: 0.1822 - val_loss: 0.3173\n",
      "Epoch 9/40\n",
      "500/500 [==============================] - 86s 172ms/step - loss: 0.1810 - val_loss: 0.3182\n",
      "Epoch 10/40\n",
      "500/500 [==============================] - 101s 202ms/step - loss: 0.1792 - val_loss: 0.3161\n",
      "Epoch 11/40\n",
      "500/500 [==============================] - 80s 161ms/step - loss: 0.1778 - val_loss: 0.3167\n",
      "Epoch 12/40\n",
      "500/500 [==============================] - 76s 153ms/step - loss: 0.1763 - val_loss: 0.3198\n",
      "Epoch 13/40\n",
      "500/500 [==============================] - 76s 151ms/step - loss: 0.1749 - val_loss: 0.3246\n",
      "Epoch 14/40\n",
      "500/500 [==============================] - 75s 151ms/step - loss: 0.1740 - val_loss: 0.3205\n",
      "Epoch 15/40\n",
      "500/500 [==============================] - 73s 146ms/step - loss: 0.1720 - val_loss: 0.3198\n",
      "Epoch 16/40\n",
      "500/500 [==============================] - 73s 145ms/step - loss: 0.1704 - val_loss: 0.3243\n",
      "Epoch 17/40\n",
      "500/500 [==============================] - 73s 145ms/step - loss: 0.1698 - val_loss: 0.3266\n",
      "Epoch 18/40\n",
      "500/500 [==============================] - 73s 146ms/step - loss: 0.1697 - val_loss: 0.3264\n",
      "Epoch 19/40\n",
      "500/500 [==============================] - 73s 146ms/step - loss: 0.1689 - val_loss: 0.3282\n",
      "Epoch 20/40\n",
      "500/500 [==============================] - 73s 145ms/step - loss: 0.1665 - val_loss: 0.3229\n",
      "Epoch 21/40\n",
      "500/500 [==============================] - 73s 145ms/step - loss: 0.1667 - val_loss: 0.3238\n",
      "Epoch 22/40\n",
      "500/500 [==============================] - 72s 145ms/step - loss: 0.1654 - val_loss: 0.3264\n",
      "Epoch 23/40\n",
      "500/500 [==============================] - 73s 146ms/step - loss: 0.1641 - val_loss: 0.3212\n",
      "Epoch 24/40\n",
      "500/500 [==============================] - 73s 146ms/step - loss: 0.1640 - val_loss: 0.3262\n",
      "Epoch 25/40\n",
      "500/500 [==============================] - 73s 145ms/step - loss: 0.1627 - val_loss: 0.3270\n",
      "Epoch 26/40\n",
      "500/500 [==============================] - 73s 145ms/step - loss: 0.1630 - val_loss: 0.3244\n",
      "Epoch 27/40\n",
      "500/500 [==============================] - 73s 145ms/step - loss: 0.1610 - val_loss: 0.3298\n",
      "Epoch 28/40\n",
      "500/500 [==============================] - 73s 145ms/step - loss: 0.1604 - val_loss: 0.3235\n",
      "Epoch 29/40\n",
      "500/500 [==============================] - 73s 145ms/step - loss: 0.1599 - val_loss: 0.3299\n",
      "Epoch 30/40\n",
      "500/500 [==============================] - 73s 145ms/step - loss: 0.1591 - val_loss: 0.3307\n",
      "Epoch 31/40\n",
      "500/500 [==============================] - 73s 146ms/step - loss: 0.1584 - val_loss: 0.3317\n",
      "Epoch 32/40\n",
      "500/500 [==============================] - 73s 146ms/step - loss: 0.1574 - val_loss: 0.3314\n",
      "Epoch 33/40\n",
      "500/500 [==============================] - 73s 146ms/step - loss: 0.1570 - val_loss: 0.3281\n",
      "Epoch 34/40\n",
      "500/500 [==============================] - 73s 147ms/step - loss: 0.1569 - val_loss: 0.3287\n",
      "Epoch 35/40\n",
      "500/500 [==============================] - 73s 145ms/step - loss: 0.1563 - val_loss: 0.3307\n",
      "Epoch 36/40\n",
      "500/500 [==============================] - 73s 146ms/step - loss: 0.1554 - val_loss: 0.3324\n",
      "Epoch 37/40\n",
      "500/500 [==============================] - 73s 145ms/step - loss: 0.1559 - val_loss: 0.3321\n",
      "Epoch 38/40\n",
      "500/500 [==============================] - 73s 145ms/step - loss: 0.1543 - val_loss: 0.3299\n",
      "Epoch 39/40\n",
      "500/500 [==============================] - 28935s 58s/step - loss: 0.1541 - val_loss: 0.3318\n",
      "Epoch 40/40\n",
      "500/500 [==============================] - 73s 147ms/step - loss: 0.1540 - val_loss: 0.3310\n"
     ]
    }
   ],
   "source": [
    "num_features = data.shape[1]  # 14 in this case\n",
    "\n",
    "model_drop = Sequential()\n",
    "# Why isn't there an activation here?\n",
    "model_drop.add(layers.GRU(32, \n",
    "                          dropout=0.1,\n",
    "                          recurrent_dropout=0.5,\n",
    "                          return_sequences=True,\n",
    "                          input_shape=(None, num_features)))\n",
    "model_drop.add(layers.GRU(64,\n",
    "                          activation='relu',\n",
    "                          dropout=0.1,\n",
    "                          recurrent_dropout=0.5))\n",
    "model_drop.add(layers.Dense(1))\n",
    "\n",
    "model_drop.compile(optimizer=RMSprop(), loss='mae')\n",
    "history_drop = model.fit_generator(train_gen,\n",
    "                                   steps_per_epoch=500,\n",
    "                                   epochs=40,\n",
    "                                   validation_data=val_gen,\n",
    "                                   validation_steps=val_steps)"
   ]
  },
  {
   "cell_type": "code",
   "execution_count": 184,
   "metadata": {},
   "outputs": [
    {
     "data": {
      "image/png": "[encoded data removed]",
      "text/plain": [
       "<Figure size 432x288 with 1 Axes>"
      ]
     },
     "metadata": {},
     "output_type": "display_data"
    }
   ],
   "source": [
    "plot_history(history_drop)"
   ]
  },
  {
   "cell_type": "code",
   "execution_count": 206,
   "metadata": {},
   "outputs": [
    {
     "name": "stdout",
     "output_type": "stream",
     "text": [
      "Epoch 1/40\n",
      " 29/500 [>.............................] - ETA: 1:12 - loss: 0.1248"
     ]
    },
    {
     "ename": "KeyboardInterrupt",
     "evalue": "",
     "output_type": "error",
     "traceback": [
      "\u001b[1;31m---------------------------------------------------------------------------\u001b[0m",
      "\u001b[1;31mKeyboardInterrupt\u001b[0m                         Traceback (most recent call last)",
      "\u001b[1;32m<ipython-input-206-763d5d1174ec>\u001b[0m in \u001b[0;36m<module>\u001b[1;34m()\u001b[0m\n\u001b[0;32m     20\u001b[0m                                    \u001b[0mepochs\u001b[0m\u001b[1;33m=\u001b[0m\u001b[1;36m40\u001b[0m\u001b[1;33m,\u001b[0m\u001b[1;33m\u001b[0m\u001b[0m\n\u001b[0;32m     21\u001b[0m                                    \u001b[0mvalidation_data\u001b[0m\u001b[1;33m=\u001b[0m\u001b[0mval_gen\u001b[0m\u001b[1;33m,\u001b[0m\u001b[1;33m\u001b[0m\u001b[0m\n\u001b[1;32m---> 22\u001b[1;33m                                    validation_steps=val_steps)\n\u001b[0m",
      "\u001b[1;32m~\\AppData\\Local\\Continuum\\anaconda3\\lib\\site-packages\\keras\\legacy\\interfaces.py\u001b[0m in \u001b[0;36mwrapper\u001b[1;34m(*args, **kwargs)\u001b[0m\n\u001b[0;32m     89\u001b[0m                 warnings.warn('Update your `' + object_name +\n\u001b[0;32m     90\u001b[0m                               '` call to the Keras 2 API: ' + signature, stacklevel=2)\n\u001b[1;32m---> 91\u001b[1;33m             \u001b[1;32mreturn\u001b[0m \u001b[0mfunc\u001b[0m\u001b[1;33m(\u001b[0m\u001b[1;33m*\u001b[0m\u001b[0margs\u001b[0m\u001b[1;33m,\u001b[0m \u001b[1;33m**\u001b[0m\u001b[0mkwargs\u001b[0m\u001b[1;33m)\u001b[0m\u001b[1;33m\u001b[0m\u001b[0m\n\u001b[0m\u001b[0;32m     92\u001b[0m         \u001b[0mwrapper\u001b[0m\u001b[1;33m.\u001b[0m\u001b[0m_original_function\u001b[0m \u001b[1;33m=\u001b[0m \u001b[0mfunc\u001b[0m\u001b[1;33m\u001b[0m\u001b[0m\n\u001b[0;32m     93\u001b[0m         \u001b[1;32mreturn\u001b[0m \u001b[0mwrapper\u001b[0m\u001b[1;33m\u001b[0m\u001b[0m\n",
      "\u001b[1;32m~\\AppData\\Local\\Continuum\\anaconda3\\lib\\site-packages\\keras\\engine\\training.py\u001b[0m in \u001b[0;36mfit_generator\u001b[1;34m(self, generator, steps_per_epoch, epochs, verbose, callbacks, validation_data, validation_steps, class_weight, max_queue_size, workers, use_multiprocessing, shuffle, initial_epoch)\u001b[0m\n\u001b[0;32m   1413\u001b[0m             \u001b[0muse_multiprocessing\u001b[0m\u001b[1;33m=\u001b[0m\u001b[0muse_multiprocessing\u001b[0m\u001b[1;33m,\u001b[0m\u001b[1;33m\u001b[0m\u001b[0m\n\u001b[0;32m   1414\u001b[0m             \u001b[0mshuffle\u001b[0m\u001b[1;33m=\u001b[0m\u001b[0mshuffle\u001b[0m\u001b[1;33m,\u001b[0m\u001b[1;33m\u001b[0m\u001b[0m\n\u001b[1;32m-> 1415\u001b[1;33m             initial_epoch=initial_epoch)\n\u001b[0m\u001b[0;32m   1416\u001b[0m \u001b[1;33m\u001b[0m\u001b[0m\n\u001b[0;32m   1417\u001b[0m     \u001b[1;33m@\u001b[0m\u001b[0minterfaces\u001b[0m\u001b[1;33m.\u001b[0m\u001b[0mlegacy_generator_methods_support\u001b[0m\u001b[1;33m\u001b[0m\u001b[0m\n",
      "\u001b[1;32m~\\AppData\\Local\\Continuum\\anaconda3\\lib\\site-packages\\keras\\engine\\training_generator.py\u001b[0m in \u001b[0;36mfit_generator\u001b[1;34m(model, generator, steps_per_epoch, epochs, verbose, callbacks, validation_data, validation_steps, class_weight, max_queue_size, workers, use_multiprocessing, shuffle, initial_epoch)\u001b[0m\n\u001b[0;32m    211\u001b[0m                 outs = model.train_on_batch(x, y,\n\u001b[0;32m    212\u001b[0m                                             \u001b[0msample_weight\u001b[0m\u001b[1;33m=\u001b[0m\u001b[0msample_weight\u001b[0m\u001b[1;33m,\u001b[0m\u001b[1;33m\u001b[0m\u001b[0m\n\u001b[1;32m--> 213\u001b[1;33m                                             class_weight=class_weight)\n\u001b[0m\u001b[0;32m    214\u001b[0m \u001b[1;33m\u001b[0m\u001b[0m\n\u001b[0;32m    215\u001b[0m                 \u001b[0mouts\u001b[0m \u001b[1;33m=\u001b[0m \u001b[0mto_list\u001b[0m\u001b[1;33m(\u001b[0m\u001b[0mouts\u001b[0m\u001b[1;33m)\u001b[0m\u001b[1;33m\u001b[0m\u001b[0m\n",
      "\u001b[1;32m~\\AppData\\Local\\Continuum\\anaconda3\\lib\\site-packages\\keras\\engine\\training.py\u001b[0m in \u001b[0;36mtrain_on_batch\u001b[1;34m(self, x, y, sample_weight, class_weight)\u001b[0m\n\u001b[0;32m   1213\u001b[0m             \u001b[0mins\u001b[0m \u001b[1;33m=\u001b[0m \u001b[0mx\u001b[0m \u001b[1;33m+\u001b[0m \u001b[0my\u001b[0m \u001b[1;33m+\u001b[0m \u001b[0msample_weights\u001b[0m\u001b[1;33m\u001b[0m\u001b[0m\n\u001b[0;32m   1214\u001b[0m         \u001b[0mself\u001b[0m\u001b[1;33m.\u001b[0m\u001b[0m_make_train_function\u001b[0m\u001b[1;33m(\u001b[0m\u001b[1;33m)\u001b[0m\u001b[1;33m\u001b[0m\u001b[0m\n\u001b[1;32m-> 1215\u001b[1;33m         \u001b[0moutputs\u001b[0m \u001b[1;33m=\u001b[0m \u001b[0mself\u001b[0m\u001b[1;33m.\u001b[0m\u001b[0mtrain_function\u001b[0m\u001b[1;33m(\u001b[0m\u001b[0mins\u001b[0m\u001b[1;33m)\u001b[0m\u001b[1;33m\u001b[0m\u001b[0m\n\u001b[0m\u001b[0;32m   1216\u001b[0m         \u001b[1;32mreturn\u001b[0m \u001b[0munpack_singleton\u001b[0m\u001b[1;33m(\u001b[0m\u001b[0moutputs\u001b[0m\u001b[1;33m)\u001b[0m\u001b[1;33m\u001b[0m\u001b[0m\n\u001b[0;32m   1217\u001b[0m \u001b[1;33m\u001b[0m\u001b[0m\n",
      "\u001b[1;32m~\\AppData\\Local\\Continuum\\anaconda3\\lib\\site-packages\\keras\\backend\\tensorflow_backend.py\u001b[0m in \u001b[0;36m__call__\u001b[1;34m(self, inputs)\u001b[0m\n\u001b[0;32m   2664\u001b[0m                 \u001b[1;32mreturn\u001b[0m \u001b[0mself\u001b[0m\u001b[1;33m.\u001b[0m\u001b[0m_legacy_call\u001b[0m\u001b[1;33m(\u001b[0m\u001b[0minputs\u001b[0m\u001b[1;33m)\u001b[0m\u001b[1;33m\u001b[0m\u001b[0m\n\u001b[0;32m   2665\u001b[0m \u001b[1;33m\u001b[0m\u001b[0m\n\u001b[1;32m-> 2666\u001b[1;33m             \u001b[1;32mreturn\u001b[0m \u001b[0mself\u001b[0m\u001b[1;33m.\u001b[0m\u001b[0m_call\u001b[0m\u001b[1;33m(\u001b[0m\u001b[0minputs\u001b[0m\u001b[1;33m)\u001b[0m\u001b[1;33m\u001b[0m\u001b[0m\n\u001b[0m\u001b[0;32m   2667\u001b[0m         \u001b[1;32melse\u001b[0m\u001b[1;33m:\u001b[0m\u001b[1;33m\u001b[0m\u001b[0m\n\u001b[0;32m   2668\u001b[0m             \u001b[1;32mif\u001b[0m \u001b[0mpy_any\u001b[0m\u001b[1;33m(\u001b[0m\u001b[0mis_tensor\u001b[0m\u001b[1;33m(\u001b[0m\u001b[0mx\u001b[0m\u001b[1;33m)\u001b[0m \u001b[1;32mfor\u001b[0m \u001b[0mx\u001b[0m \u001b[1;32min\u001b[0m \u001b[0minputs\u001b[0m\u001b[1;33m)\u001b[0m\u001b[1;33m:\u001b[0m\u001b[1;33m\u001b[0m\u001b[0m\n",
      "\u001b[1;32m~\\AppData\\Local\\Continuum\\anaconda3\\lib\\site-packages\\keras\\backend\\tensorflow_backend.py\u001b[0m in \u001b[0;36m_call\u001b[1;34m(self, inputs)\u001b[0m\n\u001b[0;32m   2634\u001b[0m                                 \u001b[0msymbol_vals\u001b[0m\u001b[1;33m,\u001b[0m\u001b[1;33m\u001b[0m\u001b[0m\n\u001b[0;32m   2635\u001b[0m                                 session)\n\u001b[1;32m-> 2636\u001b[1;33m         \u001b[0mfetched\u001b[0m \u001b[1;33m=\u001b[0m \u001b[0mself\u001b[0m\u001b[1;33m.\u001b[0m\u001b[0m_callable_fn\u001b[0m\u001b[1;33m(\u001b[0m\u001b[1;33m*\u001b[0m\u001b[0marray_vals\u001b[0m\u001b[1;33m)\u001b[0m\u001b[1;33m\u001b[0m\u001b[0m\n\u001b[0m\u001b[0;32m   2637\u001b[0m         \u001b[1;32mreturn\u001b[0m \u001b[0mfetched\u001b[0m\u001b[1;33m[\u001b[0m\u001b[1;33m:\u001b[0m\u001b[0mlen\u001b[0m\u001b[1;33m(\u001b[0m\u001b[0mself\u001b[0m\u001b[1;33m.\u001b[0m\u001b[0moutputs\u001b[0m\u001b[1;33m)\u001b[0m\u001b[1;33m]\u001b[0m\u001b[1;33m\u001b[0m\u001b[0m\n\u001b[0;32m   2638\u001b[0m \u001b[1;33m\u001b[0m\u001b[0m\n",
      "\u001b[1;32m~\\AppData\\Local\\Continuum\\anaconda3\\lib\\site-packages\\tensorflow\\python\\client\\session.py\u001b[0m in \u001b[0;36m__call__\u001b[1;34m(self, *args, **kwargs)\u001b[0m\n\u001b[0;32m   1380\u001b[0m           ret = tf_session.TF_SessionRunCallable(\n\u001b[0;32m   1381\u001b[0m               \u001b[0mself\u001b[0m\u001b[1;33m.\u001b[0m\u001b[0m_session\u001b[0m\u001b[1;33m.\u001b[0m\u001b[0m_session\u001b[0m\u001b[1;33m,\u001b[0m \u001b[0mself\u001b[0m\u001b[1;33m.\u001b[0m\u001b[0m_handle\u001b[0m\u001b[1;33m,\u001b[0m \u001b[0margs\u001b[0m\u001b[1;33m,\u001b[0m \u001b[0mstatus\u001b[0m\u001b[1;33m,\u001b[0m\u001b[1;33m\u001b[0m\u001b[0m\n\u001b[1;32m-> 1382\u001b[1;33m               run_metadata_ptr)\n\u001b[0m\u001b[0;32m   1383\u001b[0m         \u001b[1;32mif\u001b[0m \u001b[0mrun_metadata\u001b[0m\u001b[1;33m:\u001b[0m\u001b[1;33m\u001b[0m\u001b[0m\n\u001b[0;32m   1384\u001b[0m           \u001b[0mproto_data\u001b[0m \u001b[1;33m=\u001b[0m \u001b[0mtf_session\u001b[0m\u001b[1;33m.\u001b[0m\u001b[0mTF_GetBuffer\u001b[0m\u001b[1;33m(\u001b[0m\u001b[0mrun_metadata_ptr\u001b[0m\u001b[1;33m)\u001b[0m\u001b[1;33m\u001b[0m\u001b[0m\n",
      "\u001b[1;31mKeyboardInterrupt\u001b[0m: "
     ]
    }
   ],
   "source": [
    "num_features = data.shape[1]  # 14 in this case\n",
    "del model_drop\n",
    "\n",
    "model_drop = Sequential()\n",
    "# Why isn't there an activation here?\n",
    "model_drop.add(layers.GRU(32, \n",
    "                          dropout=0.1,\n",
    "                          recurrent_dropout=0.5,\n",
    "                          return_sequences=True,\n",
    "                          input_shape=(None, num_features)))\n",
    "model_drop.add(layers.GRU(64,\n",
    "                          activation='relu',\n",
    "                          dropout=0.1,\n",
    "                          recurrent_dropout=0.5))\n",
    "model_drop.add(layers.Dense(1))\n",
    "\n",
    "model_drop.compile(optimizer=RMSprop(), loss='mae')\n",
    "history_drop = model.fit_generator(train_gen,\n",
    "                                   steps_per_epoch=500,\n",
    "                                   epochs=40,\n",
    "                                   validation_data=val_gen,\n",
    "                                   validation_steps=val_steps)"
   ]
  },
  {
   "cell_type": "code",
   "execution_count": 204,
   "metadata": {},
   "outputs": [
    {
     "data": {
      "image/png": "[encoded data removed]",
      "text/plain": [
       "<Figure size 432x288 with 1 Axes>"
      ]
     },
     "metadata": {},
     "output_type": "display_data"
    }
   ],
   "source": [
    "plot_history(history_drop)"
   ]
  },
  {
   "cell_type": "code",
   "execution_count": null,
   "metadata": {},
   "outputs": [],
   "source": []
  }
 ],
 "metadata": {
  "kernelspec": {
   "display_name": "Python 3",
   "language": "python",
   "name": "python3"
  }
 },
 "nbformat": 4,
 "nbformat_minor": 2
}
