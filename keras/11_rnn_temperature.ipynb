{
 "cells": [
  {
   "cell_type": "markdown",
   "metadata": {},
   "source": [
    "# Temperature forecasting - regression with feed-forward, recurrent and bi-directional neural nets"
   ]
  },
  {
   "cell_type": "markdown",
   "metadata": {},
   "source": [
    "This example uses historical temperature data to predict the temperature 24 hours in advance. I build 3 different models and compare their performance: a standard feed-forward neural network, a recurrent one with Gated Recurrent Units (GRUs), and a Bi-directional recurrent one with GRUs. Unlike in the previous notebooks working with sequence problems in NLP, here the sequence of data points is very important, and therefore the recurrent models are able to show their strength."
   ]
  },
  {
   "cell_type": "markdown",
   "metadata": {},
   "source": [
    "## Data preprocessing"
   ]
  },
  {
   "cell_type": "code",
   "execution_count": 30,
   "metadata": {},
   "outputs": [],
   "source": [
    "import pandas as pd\n",
    "import numpy as np\n",
    "datafile = \"../data/jena_data/jena_climate_2009_2016.csv\""
   ]
  },
  {
   "cell_type": "code",
   "execution_count": 31,
   "metadata": {},
   "outputs": [],
   "source": [
    "df = pd.read_csv(datafile)"
   ]
  },
  {
   "cell_type": "code",
   "execution_count": 32,
   "metadata": {},
   "outputs": [
    {
     "name": "stdout",
     "output_type": "stream",
     "text": [
      "data shape: (420551, 15)\n"
     ]
    },
    {
     "data": {
      "text/html": [
       "<div>\n",
       "<style scoped>\n",
       "    .dataframe tbody tr th:only-of-type {\n",
       "        vertical-align: middle;\n",
       "    }\n",
       "\n",
       "    .dataframe tbody tr th {\n",
       "        vertical-align: top;\n",
       "    }\n",
       "\n",
       "    .dataframe thead th {\n",
       "        text-align: right;\n",
       "    }\n",
       "</style>\n",
       "<table border=\"1\" class=\"dataframe\">\n",
       "  <thead>\n",
       "    <tr style=\"text-align: right;\">\n",
       "      <th></th>\n",
       "      <th>Date Time</th>\n",
       "      <th>p (mbar)</th>\n",
       "      <th>T (degC)</th>\n",
       "      <th>Tpot (K)</th>\n",
       "      <th>Tdew (degC)</th>\n",
       "      <th>rh (%)</th>\n",
       "      <th>VPmax (mbar)</th>\n",
       "      <th>VPact (mbar)</th>\n",
       "      <th>VPdef (mbar)</th>\n",
       "      <th>sh (g/kg)</th>\n",
       "      <th>H2OC (mmol/mol)</th>\n",
       "      <th>rho (g/m**3)</th>\n",
       "      <th>wv (m/s)</th>\n",
       "      <th>max. wv (m/s)</th>\n",
       "      <th>wd (deg)</th>\n",
       "    </tr>\n",
       "  </thead>\n",
       "  <tbody>\n",
       "    <tr>\n",
       "      <th>0</th>\n",
       "      <td>01.01.2009 00:10:00</td>\n",
       "      <td>996.52</td>\n",
       "      <td>-8.02</td>\n",
       "      <td>265.40</td>\n",
       "      <td>-8.90</td>\n",
       "      <td>93.3</td>\n",
       "      <td>3.33</td>\n",
       "      <td>3.11</td>\n",
       "      <td>0.22</td>\n",
       "      <td>1.94</td>\n",
       "      <td>3.12</td>\n",
       "      <td>1307.75</td>\n",
       "      <td>1.03</td>\n",
       "      <td>1.75</td>\n",
       "      <td>152.3</td>\n",
       "    </tr>\n",
       "    <tr>\n",
       "      <th>1</th>\n",
       "      <td>01.01.2009 00:20:00</td>\n",
       "      <td>996.57</td>\n",
       "      <td>-8.41</td>\n",
       "      <td>265.01</td>\n",
       "      <td>-9.28</td>\n",
       "      <td>93.4</td>\n",
       "      <td>3.23</td>\n",
       "      <td>3.02</td>\n",
       "      <td>0.21</td>\n",
       "      <td>1.89</td>\n",
       "      <td>3.03</td>\n",
       "      <td>1309.80</td>\n",
       "      <td>0.72</td>\n",
       "      <td>1.50</td>\n",
       "      <td>136.1</td>\n",
       "    </tr>\n",
       "    <tr>\n",
       "      <th>2</th>\n",
       "      <td>01.01.2009 00:30:00</td>\n",
       "      <td>996.53</td>\n",
       "      <td>-8.51</td>\n",
       "      <td>264.91</td>\n",
       "      <td>-9.31</td>\n",
       "      <td>93.9</td>\n",
       "      <td>3.21</td>\n",
       "      <td>3.01</td>\n",
       "      <td>0.20</td>\n",
       "      <td>1.88</td>\n",
       "      <td>3.02</td>\n",
       "      <td>1310.24</td>\n",
       "      <td>0.19</td>\n",
       "      <td>0.63</td>\n",
       "      <td>171.6</td>\n",
       "    </tr>\n",
       "    <tr>\n",
       "      <th>3</th>\n",
       "      <td>01.01.2009 00:40:00</td>\n",
       "      <td>996.51</td>\n",
       "      <td>-8.31</td>\n",
       "      <td>265.12</td>\n",
       "      <td>-9.07</td>\n",
       "      <td>94.2</td>\n",
       "      <td>3.26</td>\n",
       "      <td>3.07</td>\n",
       "      <td>0.19</td>\n",
       "      <td>1.92</td>\n",
       "      <td>3.08</td>\n",
       "      <td>1309.19</td>\n",
       "      <td>0.34</td>\n",
       "      <td>0.50</td>\n",
       "      <td>198.0</td>\n",
       "    </tr>\n",
       "    <tr>\n",
       "      <th>4</th>\n",
       "      <td>01.01.2009 00:50:00</td>\n",
       "      <td>996.51</td>\n",
       "      <td>-8.27</td>\n",
       "      <td>265.15</td>\n",
       "      <td>-9.04</td>\n",
       "      <td>94.1</td>\n",
       "      <td>3.27</td>\n",
       "      <td>3.08</td>\n",
       "      <td>0.19</td>\n",
       "      <td>1.92</td>\n",
       "      <td>3.09</td>\n",
       "      <td>1309.00</td>\n",
       "      <td>0.32</td>\n",
       "      <td>0.63</td>\n",
       "      <td>214.3</td>\n",
       "    </tr>\n",
       "  </tbody>\n",
       "</table>\n",
       "</div>"
      ],
      "text/plain": [
       "             Date Time  p (mbar)  T (degC)  Tpot (K)  Tdew (degC)  rh (%)  \\\n",
       "0  01.01.2009 00:10:00    996.52     -8.02    265.40        -8.90    93.3   \n",
       "1  01.01.2009 00:20:00    996.57     -8.41    265.01        -9.28    93.4   \n",
       "2  01.01.2009 00:30:00    996.53     -8.51    264.91        -9.31    93.9   \n",
       "3  01.01.2009 00:40:00    996.51     -8.31    265.12        -9.07    94.2   \n",
       "4  01.01.2009 00:50:00    996.51     -8.27    265.15        -9.04    94.1   \n",
       "\n",
       "   VPmax (mbar)  VPact (mbar)  VPdef (mbar)  sh (g/kg)  H2OC (mmol/mol)  \\\n",
       "0          3.33          3.11          0.22       1.94             3.12   \n",
       "1          3.23          3.02          0.21       1.89             3.03   \n",
       "2          3.21          3.01          0.20       1.88             3.02   \n",
       "3          3.26          3.07          0.19       1.92             3.08   \n",
       "4          3.27          3.08          0.19       1.92             3.09   \n",
       "\n",
       "   rho (g/m**3)  wv (m/s)  max. wv (m/s)  wd (deg)  \n",
       "0       1307.75      1.03           1.75     152.3  \n",
       "1       1309.80      0.72           1.50     136.1  \n",
       "2       1310.24      0.19           0.63     171.6  \n",
       "3       1309.19      0.34           0.50     198.0  \n",
       "4       1309.00      0.32           0.63     214.3  "
      ]
     },
     "execution_count": 32,
     "metadata": {},
     "output_type": "execute_result"
    }
   ],
   "source": [
    "print(\"data shape:\", df.shape)\n",
    "df.head()"
   ]
  },
  {
   "cell_type": "code",
   "execution_count": 33,
   "metadata": {},
   "outputs": [
    {
     "name": "stdout",
     "output_type": "stream",
     "text": [
      "False\n",
      "False\n",
      "True\n"
     ]
    },
    {
     "data": {
      "text/plain": [
       "False"
      ]
     },
     "execution_count": 33,
     "metadata": {},
     "output_type": "execute_result"
    }
   ],
   "source": [
    "print(df.isnull().values.any())\n",
    "print(df.isna().values.any())\n",
    "print(df.isin([0]).values.any())\n",
    "\n",
    "# Replace inf with nans, and then find nans :)\n",
    "# df.info()\n",
    "df.replace([np.inf, -np.inf], np.nan)\n",
    "# df.info()\n",
    "\n",
    "df.isnull().values.any()"
   ]
  },
  {
   "cell_type": "code",
   "execution_count": 34,
   "metadata": {},
   "outputs": [],
   "source": [
    "df.drop(\"Date Time\", axis=1, inplace=True)"
   ]
  },
  {
   "cell_type": "code",
   "execution_count": 35,
   "metadata": {},
   "outputs": [],
   "source": [
    "# Take the temperature column as target data, convert it to numpy array\n",
    "targets = df['T (degC)'].values\n",
    "# convert the dataframe into a numpy matrix called `data`\n",
    "data = df.values"
   ]
  },
  {
   "cell_type": "markdown",
   "metadata": {},
   "source": [
    "The data contains measurements done each 10 minutes, so there are 144 measurements in a day. We can define the following parameters of the model:\n",
    "- lookback = 1440 - we'll take data of last 10 days as direct input to the model\n",
    "- steps = 6 - we won't use all data points since many features don't change much in less then an hour. We'll sample data using steps of 1 hour \n",
    "- delay = 144 - how further in the future we'd like to predict (24 hours)"
   ]
  },
  {
   "cell_type": "code",
   "execution_count": 36,
   "metadata": {},
   "outputs": [],
   "source": [
    "lookback = 1440\n",
    "steps = 6\n",
    "delay = 144"
   ]
  },
  {
   "cell_type": "code",
   "execution_count": 37,
   "metadata": {},
   "outputs": [],
   "source": [
    "train_samples = 200000\n",
    "val_samples = 100000\n",
    "# test samples would take the rest of data (or 120551 data rows)"
   ]
  },
  {
   "cell_type": "markdown",
   "metadata": {},
   "source": [
    "Since the values of different features are spread across different ranges (eg. T is in the tens, and rho in the thousands), we need to normalize and standardize the data - subtract the mean and divide with the standard deviation of data. Here, the mean and st. dev are calculated only on the training set, but applied to the whole data."
   ]
  },
  {
   "cell_type": "code",
   "execution_count": 38,
   "metadata": {},
   "outputs": [
    {
     "name": "stdout",
     "output_type": "stream",
     "text": [
      "[ 8.48043388  8.85249908  8.95324185  7.16584991 16.72731652  7.68914559\n",
      "  4.19808168  4.84034436  2.66564926  4.25206364 42.48884277  1.53666449\n",
      "  2.33067298 86.61322998]\n",
      "[[ 0.90014748 -1.93135845 -1.98211036 -1.86280029  1.07285236 -1.30742164\n",
      "  -1.47375773 -0.79868641 -1.4762674  -1.47815522  2.12375056 -0.72950452\n",
      "  -0.78067973 -0.27613603]\n",
      " [ 0.9060434  -1.97541381 -2.02567    -1.91582958  1.07883061 -1.32042698\n",
      "  -1.4951961  -0.80075238 -1.49502455 -1.49932141  2.17199852 -0.93124017\n",
      "  -0.88794488 -0.46317443]]\n"
     ]
    }
   ],
   "source": [
    "mean = data[:train_samples].mean(axis=0)\n",
    "data -= mean\n",
    "std = data[:train_samples].std(axis=0)\n",
    "data /= std\n",
    "\n",
    "print(std)\n",
    "\n",
    "# print 2 lines of the processed data\n",
    "print(data[:2, :])"
   ]
  },
  {
   "cell_type": "code",
   "execution_count": 39,
   "metadata": {},
   "outputs": [
    {
     "data": {
      "text/plain": [
       "(420551, 14)"
      ]
     },
     "execution_count": 39,
     "metadata": {},
     "output_type": "execute_result"
    }
   ],
   "source": [
    "data.shape"
   ]
  },
  {
   "cell_type": "markdown",
   "metadata": {},
   "source": [
    "Now we can define a Python generator function that will take as input our data and output batches of data, in the suitable format (batch_size, timesteps, num_features) to be inserted in the model. "
   ]
  },
  {
   "cell_type": "code",
   "execution_count": 40,
   "metadata": {},
   "outputs": [],
   "source": [
    "def generator(data, lookback, delay, min_index, max_index, shuffle=False, batch_size=128, step=6):\n",
    "    if max_index is None:\n",
    "        max_index = len(data) - delay - 1\n",
    "    i = min_index + lookback\n",
    "    \n",
    "    while True:\n",
    "        \n",
    "        if shuffle:\n",
    "            rows = np.random.randint(min_index + lookback, max_index, size=batch_size)\n",
    "        else:\n",
    "            # If we reached the end, start from beginning - to allow us to go through the data many times\n",
    "            if i + batch_size > max_index:\n",
    "                i = min_index + lookback\n",
    "            # make sure you don't go over the length of data\n",
    "            rows = np.arange(i, min(i + batch_size, max_index))\n",
    "            i += len(rows)\n",
    "        \n",
    "        # output format: (batch_size, timesteps, num_features)\n",
    "        samples = np.zeros((len(rows), lookback // step, data.shape[1]))\n",
    "        targets = np.zeros((len(rows),))\n",
    "        \n",
    "        # loop over a batch and create samples and targets\n",
    "        for j, row in enumerate(rows):\n",
    "            indices = range(rows[j] - lookback, rows[j], step)\n",
    "            samples[j] = data[indices]\n",
    "            targets[j] = data[rows[j] + delay][1]\n",
    "        yield samples, targets"
   ]
  },
  {
   "cell_type": "markdown",
   "metadata": {},
   "source": [
    "The above generator function can now be used to generate the train, validation and test datasets. It would generate samples forever, so in the `fit_generator` method below, we'd need to give values for the number of iterations to use, using the `steps_per_epoch` and `validation_steps` attributes."
   ]
  },
  {
   "cell_type": "markdown",
   "metadata": {},
   "source": [
    "There are a few problems I encountered in this part:\n",
    "- First, the generator code in Cholet's book (see reference) seems to have a problem for the no-shuffling case. I think my fix in the above method is working well.\n",
    "- Another (bigger issue) is connected to the validation generator which outputs `nan` values after a certain sample is reached. This problem is usually present if `inf` or `nan` values are present in the data, which was not the case for me. People on github suggest to use a different optimizer, like Adam, but this also doesn't help. I assume that the problem is due to some value in the data is equal to 0, so the optimizer at some point makes a division by 0. Therefore I tried normalizing / standardizing the data, not around 0 mean and 1 standard deviation, but in the range [0,1]. \n",
    "- A third issue is connected with the selection of the values for `steps_per_epoch` and `validation_steps` in the `fit_generator` method. The right way for this to be done I guess is setting them to a value: `num_samples / batch_size`, so that the whole dataset can be seen. A common mistake is to set these parameters to very large values (eg. the total number of samples in the train / val set) and then an epoch would take too long, so remember to divide by the batch_size.\n",
    "\n",
    "Another important thing learned from the generator function above is how to shuffle timeseries data in order not to include infromation from the future to predict the past. "
   ]
  },
  {
   "cell_type": "code",
   "execution_count": 41,
   "metadata": {},
   "outputs": [],
   "source": [
    "batch_size = 128\n",
    "\n",
    "train_gen = generator(data,\n",
    "                     lookback=lookback,\n",
    "                     delay=delay,\n",
    "                     min_index=0,\n",
    "                     max_index=train_samples,\n",
    "                     shuffle=True,\n",
    "                     step=steps,\n",
    "                     batch_size=batch_size)\n",
    "\n",
    "val_gen = generator(data,\n",
    "                    lookback=lookback,\n",
    "                    delay=delay,\n",
    "                    min_index=train_samples + 1,\n",
    "                    max_index=train_samples + val_samples,\n",
    "                    shuffle=False,\n",
    "                    step=steps,\n",
    "                    batch_size=batch_size)\n",
    "\n",
    "test_gen = generator(data,\n",
    "                    lookback=lookback,\n",
    "                    delay=delay,\n",
    "                    min_index=train_samples + val_samples + 1,\n",
    "                    max_index=None,\n",
    "                    shuffle=False,\n",
    "                    step=steps,\n",
    "                    batch_size=batch_size)"
   ]
  },
  {
   "cell_type": "markdown",
   "metadata": {},
   "source": [
    "## A baseline model"
   ]
  },
  {
   "cell_type": "markdown",
   "metadata": {},
   "source": [
    "The below method `evaluate_baselie` is used to calculate a baseline for the problem. We assume that the temperature 24 hours from the current time would be same as the current one. We calculate the mean absolute error (MAE) using this approach, which is then directly comparable with the output of the model. The MAE for the temperature, using this approach, is around 2.5 celsius degrees, which means this is the average absolute error we'd do with this approach.\n",
    "\n",
    "Our ML model must try to beat this baseline, which might not always be easy!"
   ]
  },
  {
   "cell_type": "code",
   "execution_count": 42,
   "metadata": {},
   "outputs": [
    {
     "name": "stdout",
     "output_type": "stream",
     "text": [
      "# Validation steps: 770\n",
      "MAE for baseline approach: 2.565 celsius degrees\n"
     ]
    }
   ],
   "source": [
    "def evaluate_baseline():\n",
    "    batch_maes = []\n",
    "    \n",
    "    # Loop the number of times needed to see the whole validation dataset\n",
    "    val_steps = (train_samples + val_samples - train_samples - lookback - 1) // batch_size + 1\n",
    "    print(\"# Validation steps:\", val_steps)\n",
    "    for i in range(val_steps):\n",
    "        samples, targets = next(val_gen)\n",
    "        preds = samples[:, -1, 1]\n",
    "        mae = np.mean(np.abs(preds - targets))\n",
    "        batch_maes.append(mae)\n",
    "    return np.mean(batch_maes)\n",
    "    \n",
    "baseline_error = evaluate_baseline()\n",
    "print('MAE for baseline approach: %.3f celsius degrees' %  (baseline_error * std[1]))"
   ]
  },
  {
   "cell_type": "markdown",
   "metadata": {},
   "source": [
    "## A standard feed-forward model"
   ]
  },
  {
   "cell_type": "markdown",
   "metadata": {},
   "source": [
    "This part builds a simple feed-forward neural network with a single hidden layer. The Flatten layer is used to flatten out the data retreived by the above generators, since they generate it for an RNN model in 3 dimensions. After running the model without regularization (which heavily overfitted), I've added some dropout to get better results. Anyway, it doesn't payoff to spend a lot of time in optimizing this first dense network."
   ]
  },
  {
   "cell_type": "code",
   "execution_count": 43,
   "metadata": {},
   "outputs": [
    {
     "name": "stdout",
     "output_type": "stream",
     "text": [
      "train_steps: 1552\n",
      "val_steps: 770\n",
      "test_steps: 931\n",
      "Epoch 1/20\n",
      "1552/1552 [==============================] - 21s 13ms/step - loss: 0.3852 - val_loss: 0.2900\n",
      "Epoch 2/20\n",
      "1552/1552 [==============================] - 19s 13ms/step - loss: 0.2844 - val_loss: 0.2860\n",
      "Epoch 3/20\n",
      "1552/1552 [==============================] - 19s 12ms/step - loss: 0.2808 - val_loss: 0.2870\n",
      "Epoch 4/20\n",
      "1552/1552 [==============================] - 17s 11ms/step - loss: 0.2767 - val_loss: 0.2958\n",
      "Epoch 5/20\n",
      "1552/1552 [==============================] - 17s 11ms/step - loss: 0.2751 - val_loss: 0.2918\n",
      "Epoch 6/20\n",
      "1552/1552 [==============================] - 17s 11ms/step - loss: 0.2715 - val_loss: 0.2922\n",
      "Epoch 7/20\n",
      "1552/1552 [==============================] - 17s 11ms/step - loss: 0.2679 - val_loss: 0.2902\n",
      "Epoch 8/20\n",
      "1552/1552 [==============================] - 18s 11ms/step - loss: 0.2677 - val_loss: 0.2957\n",
      "Epoch 9/20\n",
      "1552/1552 [==============================] - 18s 11ms/step - loss: 0.2650 - val_loss: 0.2853\n",
      "Epoch 10/20\n",
      "1552/1552 [==============================] - 17s 11ms/step - loss: 0.2630 - val_loss: 0.2909\n",
      "Epoch 11/20\n",
      "1552/1552 [==============================] - 17s 11ms/step - loss: 0.2614 - val_loss: 0.2865\n",
      "Epoch 12/20\n",
      "1552/1552 [==============================] - 17s 11ms/step - loss: 0.2594 - val_loss: 0.2878\n",
      "Epoch 13/20\n",
      "1552/1552 [==============================] - 17s 11ms/step - loss: 0.2598 - val_loss: 0.2915\n",
      "Epoch 14/20\n",
      "1552/1552 [==============================] - 17s 11ms/step - loss: 0.2579 - val_loss: 0.2942\n",
      "Epoch 15/20\n",
      "1552/1552 [==============================] - 17s 11ms/step - loss: 0.2568 - val_loss: 0.2885\n",
      "Epoch 16/20\n",
      "1552/1552 [==============================] - 17s 11ms/step - loss: 0.2548 - val_loss: 0.2976\n",
      "Epoch 17/20\n",
      "1552/1552 [==============================] - 17s 11ms/step - loss: 0.2548 - val_loss: 0.2923\n",
      "Epoch 18/20\n",
      "1552/1552 [==============================] - 17s 11ms/step - loss: 0.2530 - val_loss: 0.2988\n",
      "Epoch 19/20\n",
      "1552/1552 [==============================] - 17s 11ms/step - loss: 0.2528 - val_loss: 0.2921\n",
      "Epoch 20/20\n",
      "1552/1552 [==============================] - 17s 11ms/step - loss: 0.2515 - val_loss: 0.2938\n"
     ]
    }
   ],
   "source": [
    "# Train steps to take in order to see the entire training set\n",
    "train_steps = (train_samples - lookback) // batch_size + 1\n",
    "# Number of steps to see the entire validation set\n",
    "val_steps = (train_samples + val_samples - train_samples - lookback - 1) // batch_size + 1\n",
    "# Number of steps to see the entire test set\n",
    "test_steps = (len(data) - train_samples - val_samples - lookback - 1)  // batch_size + 1\n",
    "\n",
    "print('train_steps:', train_steps)\n",
    "print('val_steps:', val_steps)\n",
    "print('test_steps:', test_steps)\n",
    "\n",
    "# Build the model\n",
    "from keras.models import Sequential\n",
    "from keras import layers\n",
    "from keras.optimizers import RMSprop\n",
    "\n",
    "model = Sequential()\n",
    "# We need to flatten the data which is generated to suit a recurrent model\n",
    "model.add(layers.Flatten(input_shape=(lookback // steps, data.shape[-1])))\n",
    "model.add(layers.Dense(32, activation='relu'))\n",
    "model.add(layers.Dropout(0.3))\n",
    "model.add(layers.Dense(1))\n",
    "\n",
    "model.compile(optimizer='adam', loss='mae')\n",
    "\n",
    "history = model.fit_generator(train_gen,\n",
    "                             steps_per_epoch = train_steps,\n",
    "                             epochs=20,\n",
    "                             validation_data=val_gen,\n",
    "                             validation_steps=val_steps)"
   ]
  },
  {
   "cell_type": "code",
   "execution_count": 44,
   "metadata": {},
   "outputs": [],
   "source": [
    "def plot_history(history):\n",
    "    \"\"\"\n",
    "    Plots the history of a model training - its loss and accuracy.\n",
    "    \"\"\"    \n",
    "    import matplotlib.pyplot as plt\n",
    "    loss = history.history['loss']\n",
    "    val_loss = history.history['val_loss']\n",
    "    epochs = range(1, len(loss) + 1)\n",
    "    plt.figure()\n",
    "    plt.plot(epochs, loss, 'bo', label='Training loss')\n",
    "    plt.plot(epochs, val_loss, 'b', label='Validation loss')\n",
    "    plt.title('Training and validation loss')\n",
    "    plt.legend()\n",
    "    plt.show()"
   ]
  },
  {
   "cell_type": "code",
   "execution_count": 45,
   "metadata": {},
   "outputs": [
    {
     "data": {
      "image/png": "[encoded data removed]",
      "text/plain": [
       "<Figure size 432x288 with 1 Axes>"
      ]
     },
     "metadata": {
      "needs_background": "light"
     },
     "output_type": "display_data"
    }
   ],
   "source": [
    "plot_history(history)"
   ]
  },
  {
   "cell_type": "code",
   "execution_count": 46,
   "metadata": {},
   "outputs": [
    {
     "name": "stdout",
     "output_type": "stream",
     "text": [
      "Mininmum MAE reached: 0.285.\n",
      "MAE for FF approach: 2.526 celsius degrees\n"
     ]
    }
   ],
   "source": [
    "# Take the minimum possible MAE reached during training\n",
    "ff_error = np.min(history.history['val_loss'])\n",
    "print(\"Mininmum MAE reached: %.3f.\" % ff_error)\n",
    "print('MAE for FF approach: %.3f celsius degrees' %  (ff_error * std[1]))"
   ]
  },
  {
   "cell_type": "markdown",
   "metadata": {},
   "source": [
    "Ok we have beaten the baseline model by a small margin. That means our data has the information needed to perform better than a common sense baseline. In the following parts we'll try to do better with a recurrent network."
   ]
  },
  {
   "cell_type": "markdown",
   "metadata": {},
   "source": [
    "## A recurrent model\n",
    "\n",
    "Next, I can try using a recurrent network with GRU units on the same problem."
   ]
  },
  {
   "cell_type": "code",
   "execution_count": 48,
   "metadata": {},
   "outputs": [
    {
     "name": "stdout",
     "output_type": "stream",
     "text": [
      "Epoch 1/20\n",
      "500/500 [==============================] - 55s 110ms/step - loss: 0.3455 - val_loss: 0.2814\n",
      "Epoch 2/20\n",
      "500/500 [==============================] - 56s 111ms/step - loss: 0.3078 - val_loss: 0.2757\n",
      "Epoch 3/20\n",
      "500/500 [==============================] - 57s 113ms/step - loss: 0.3044 - val_loss: 0.2735\n",
      "Epoch 4/20\n",
      "500/500 [==============================] - 57s 115ms/step - loss: 0.2982 - val_loss: 0.2707\n",
      "Epoch 5/20\n",
      "500/500 [==============================] - 56s 112ms/step - loss: 0.2939 - val_loss: 0.2678\n",
      "Epoch 6/20\n",
      "500/500 [==============================] - 57s 113ms/step - loss: 0.2914 - val_loss: 0.2659\n",
      "Epoch 7/20\n",
      "500/500 [==============================] - 57s 115ms/step - loss: 0.2899 - val_loss: 0.2661\n",
      "Epoch 8/20\n",
      "500/500 [==============================] - 55s 109ms/step - loss: 0.2883 - val_loss: 0.2629\n",
      "Epoch 9/20\n",
      "500/500 [==============================] - 54s 107ms/step - loss: 0.2881 - val_loss: 0.2657\n",
      "Epoch 10/20\n",
      "500/500 [==============================] - 53s 106ms/step - loss: 0.2868 - val_loss: 0.2619\n",
      "Epoch 11/20\n",
      "500/500 [==============================] - 56s 112ms/step - loss: 0.2847 - val_loss: 0.2648\n",
      "Epoch 12/20\n",
      "500/500 [==============================] - 54s 108ms/step - loss: 0.2838 - val_loss: 0.2639\n",
      "Epoch 13/20\n",
      "500/500 [==============================] - 56s 111ms/step - loss: 0.2833 - val_loss: 0.2628\n",
      "Epoch 14/20\n",
      "500/500 [==============================] - 54s 109ms/step - loss: 0.2831 - val_loss: 0.2726\n",
      "Epoch 15/20\n",
      "500/500 [==============================] - 54s 108ms/step - loss: 0.2816 - val_loss: 0.2647\n",
      "Epoch 16/20\n",
      "500/500 [==============================] - 52s 105ms/step - loss: 0.2783 - val_loss: 0.2610\n",
      "Epoch 17/20\n",
      "500/500 [==============================] - 54s 108ms/step - loss: 0.2783 - val_loss: 0.2625\n",
      "Epoch 18/20\n",
      "500/500 [==============================] - 54s 108ms/step - loss: 0.2771 - val_loss: 0.2659\n",
      "Epoch 19/20\n",
      "500/500 [==============================] - 56s 112ms/step - loss: 0.2774 - val_loss: 0.2656\n",
      "Epoch 20/20\n",
      "500/500 [==============================] - 53s 107ms/step - loss: 0.2767 - val_loss: 0.2662\n"
     ]
    }
   ],
   "source": [
    "from keras.models import Sequential\n",
    "from keras import layers\n",
    "from keras.optimizers import RMSprop\n",
    "\n",
    "num_features = data.shape[1]  # 14 in this case\n",
    "\n",
    "model = Sequential()\n",
    "# why isn't there a `timesteps` dimension in the input_shape?\n",
    "model.add(layers.GRU(32, input_shape=(None, num_features), dropout=0.1, recurrent_dropout=0.3))\n",
    "model.add(layers.Dense(1))\n",
    "\n",
    "model.compile(optimizer=RMSprop(), loss='mae')\n",
    "history = model.fit_generator(train_gen, \n",
    "                              steps_per_epoch=500, # use less steps than needed\n",
    "                              epochs=20, \n",
    "                              validation_data=val_gen, \n",
    "                              validation_steps=val_steps)"
   ]
  },
  {
   "cell_type": "code",
   "execution_count": 50,
   "metadata": {},
   "outputs": [
    {
     "data": {
      "image/png": "[encoded data removed]",
      "text/plain": [
       "<Figure size 432x288 with 1 Axes>"
      ]
     },
     "metadata": {
      "needs_background": "light"
     },
     "output_type": "display_data"
    }
   ],
   "source": [
    "plot_history(history)"
   ]
  },
  {
   "cell_type": "code",
   "execution_count": 52,
   "metadata": {},
   "outputs": [
    {
     "name": "stdout",
     "output_type": "stream",
     "text": [
      "Mininmum MAE reached: 0.261.\n",
      "MAE for FF approach: 2.310 celsius degrees\n"
     ]
    }
   ],
   "source": [
    "# Take the minimum possible MAE reached during training\n",
    "rnn_error = np.min(history.history['val_loss'])\n",
    "print(\"Mininmum MAE reached: %.3f.\" % rnn_error)\n",
    "print('MAE for FF approach: %.3f celsius degrees' %  (rnn_error * std[1]))"
   ]
  },
  {
   "cell_type": "markdown",
   "metadata": {},
   "source": [
    "Indeed an RNN network returns better results, even thought we used a very small model with only 32 nodes in the hidden layer. We had an improvement of around 0.2 celsius degrees compared to the feed-forward neural network, and with further optimizations we can achieve more. Anyway, that's enough to show the power of RNN. In the next part I'll use a bi-directional RNN model."
   ]
  },
  {
   "cell_type": "markdown",
   "metadata": {},
   "source": [
    "## A bi-directional recurrent model"
   ]
  },
  {
   "cell_type": "markdown",
   "metadata": {},
   "source": [
    "Usually, the most recent data (coming of a sequence) may hold the most important information. This is how RNNs look at the data too, in chronological order, imputing the most recent data samples at last. But this is not always the case. In many applications, such as in NLP, the start of a sequence can be equally, or more, important than the rest of the sequence. Therefore we might benefit from looking at the data in the two directions. A bi-directional RNN does exactly that: loops through the data in two directions, chronologically, and anti-chronologically, and combines the output of the two. If a one-direction RNN may miss some data representations, these might be picked up when going through data in the other direction. Let's apply this model on the temperature forecasting problem, using the same parameters as the uni-directional RNN above."
   ]
  },
  {
   "cell_type": "code",
   "execution_count": 55,
   "metadata": {},
   "outputs": [
    {
     "name": "stdout",
     "output_type": "stream",
     "text": [
      "Epoch 1/20\n",
      "500/500 [==============================] - 54s 108ms/step - loss: 0.2744 - val_loss: 0.2635\n",
      "Epoch 2/20\n",
      "500/500 [==============================] - 55s 110ms/step - loss: 0.2743 - val_loss: 0.2627\n",
      "Epoch 3/20\n",
      "500/500 [==============================] - 55s 111ms/step - loss: 0.2756 - val_loss: 0.2646\n",
      "Epoch 4/20\n",
      "500/500 [==============================] - 55s 110ms/step - loss: 0.2740 - val_loss: 0.2612\n",
      "Epoch 5/20\n",
      "500/500 [==============================] - 56s 111ms/step - loss: 0.2733 - val_loss: 0.2623\n",
      "Epoch 6/20\n",
      "500/500 [==============================] - 55s 111ms/step - loss: 0.2724 - val_loss: 0.2648\n",
      "Epoch 7/20\n",
      "500/500 [==============================] - 56s 111ms/step - loss: 0.2703 - val_loss: 0.2656\n",
      "Epoch 8/20\n",
      "500/500 [==============================] - 55s 111ms/step - loss: 0.2703 - val_loss: 0.2673\n",
      "Epoch 9/20\n",
      "500/500 [==============================] - 56s 112ms/step - loss: 0.2723 - val_loss: 0.2661\n",
      "Epoch 10/20\n",
      "500/500 [==============================] - 55s 110ms/step - loss: 0.2693 - val_loss: 0.2656\n",
      "Epoch 11/20\n",
      "500/500 [==============================] - 55s 111ms/step - loss: 0.2708 - val_loss: 0.2628\n",
      "Epoch 12/20\n",
      "500/500 [==============================] - 56s 113ms/step - loss: 0.2686 - val_loss: 0.2662\n",
      "Epoch 13/20\n",
      "500/500 [==============================] - 54s 109ms/step - loss: 0.2687 - val_loss: 0.2646\n",
      "Epoch 14/20\n",
      "500/500 [==============================] - 54s 107ms/step - loss: 0.2687 - val_loss: 0.2672\n",
      "Epoch 15/20\n",
      "500/500 [==============================] - 54s 109ms/step - loss: 0.2676 - val_loss: 0.2672\n",
      "Epoch 16/20\n",
      "500/500 [==============================] - 56s 112ms/step - loss: 0.2677 - val_loss: 0.2654\n",
      "Epoch 17/20\n",
      "500/500 [==============================] - 56s 112ms/step - loss: 0.2685 - val_loss: 0.2655\n",
      "Epoch 18/20\n",
      "500/500 [==============================] - 55s 109ms/step - loss: 0.2673 - val_loss: 0.2633\n",
      "Epoch 19/20\n",
      "500/500 [==============================] - 55s 110ms/step - loss: 0.2680 - val_loss: 0.2651\n",
      "Epoch 20/20\n",
      "500/500 [==============================] - 54s 108ms/step - loss: 0.2648 - val_loss: 0.2678\n"
     ]
    }
   ],
   "source": [
    "num_features = data.shape[1]  # 14 in this case\n",
    "\n",
    "model_drop = Sequential()\n",
    "# Why isn't there an activation here?\n",
    "model_drop.add(layers.Bidirectional(layers.GRU(32, \n",
    "                                        dropout=0.1,\n",
    "                                        recurrent_dropout=0.3,\n",
    "                                        input_shape=(None, num_features))))\n",
    "model_drop.add(layers.Dense(1))\n",
    "\n",
    "model_drop.compile(optimizer=RMSprop(), loss='mae')\n",
    "history = model.fit_generator(train_gen,\n",
    "                                   steps_per_epoch=500,\n",
    "                                   epochs=20,\n",
    "                                   validation_data=val_gen,\n",
    "                                   validation_steps=val_steps)"
   ]
  },
  {
   "cell_type": "code",
   "execution_count": 57,
   "metadata": {},
   "outputs": [
    {
     "data": {
      "image/png": "[encoded data removed]",
      "text/plain": [
       "<Figure size 432x288 with 1 Axes>"
      ]
     },
     "metadata": {
      "needs_background": "light"
     },
     "output_type": "display_data"
    }
   ],
   "source": [
    "plot_history(history)"
   ]
  },
  {
   "cell_type": "code",
   "execution_count": 58,
   "metadata": {},
   "outputs": [
    {
     "name": "stdout",
     "output_type": "stream",
     "text": [
      "Mininmum MAE reached: 0.261.\n",
      "MAE for FF approach: 2.313 celsius degrees\n"
     ]
    }
   ],
   "source": [
    "# Take the minimum possible MAE reached during training\n",
    "birnn_error = np.min(history.history['val_loss'])\n",
    "print(\"Mininmum MAE reached: %.3f.\" % birnn_error)\n",
    "print('MAE for FF approach: %.3f celsius degrees' %  (birnn_error * std[1]))"
   ]
  },
  {
   "cell_type": "markdown",
   "metadata": {},
   "source": [
    "The performance of the bi-directional model is pretty similar to the uni-directional one, at least with using this small model. However, the anti-chronological loop through data samples showed to not be very useful in this case, and that the most recent data is most importna "
   ]
  },
  {
   "cell_type": "markdown",
   "metadata": {},
   "source": [
    "This notebook applied three different models to the problem of temperature forecasting. Unlike the NLP problems in previous notebooks, here the sequence of data points adds a valuable information, and therefore the recurrent NN models have visible advantage over the feed-forward one. The three models were not optimized for the task, because that was not in the scope of this notebook. Instead, the focus was to show how the three different models can be built and to get a rough sense of the performance they achieve. All models used a single hidden layer with a small number of nodes in it - 32 only. When overfitting is not the main problem, as in this case, we could always increase the complexity of our models, and of course by adding some regularization. Even more, we could have had stacked multiple recurrent layers on top of each other, and train the models for more epochs. These optimizations will be left for another notebook."
   ]
  },
  {
   "cell_type": "markdown",
   "metadata": {},
   "source": [
    "## References\n",
    "- \"Deep Learning with Python\" book by Francois Chollet"
   ]
  }
 ],
 "metadata": {
  "kernelspec": {
   "display_name": "Python 3",
   "language": "python",
   "name": "python3"
  },
  "language_info": {
   "codemirror_mode": {
    "name": "ipython",
    "version": 3
   },
   "file_extension": ".py",
   "mimetype": "text/x-python",
   "name": "python",
   "nbconvert_exporter": "python",
   "pygments_lexer": "ipython3",
   "version": "3.6.8"
  }
 },
 "nbformat": 4,
 "nbformat_minor": 2
}
