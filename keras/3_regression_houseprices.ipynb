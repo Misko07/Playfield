{
 "cells": [
  {
   "cell_type": "markdown",
   "metadata": {
    "toc": "true"
   },
   "source": [
    " # Table of Contents\n",
    "<div class=\"toc\" style=\"margin-top: 1em;\"><ul class=\"toc-item\" id=\"toc-level0\"><li><span><a href=\"http://localhost:8888/notebooks/PycharmProjects/Playfield/keras/3_regression_houseprices.ipynb#Create-model\" data-toc-modified-id=\"Create-model-1\">Create model</a></span></li><li><span><a href=\"http://localhost:8888/notebooks/PycharmProjects/Playfield/keras/3_regression_houseprices.ipynb#K-fold-validation---manual\" data-toc-modified-id=\"K-fold-validation---manual-2\">K-fold validation - manual</a></span></li><li><span><a href=\"http://localhost:8888/notebooks/PycharmProjects/Playfield/keras/3_regression_houseprices.ipynb#K-fold-validation---scikit-learn\" data-toc-modified-id=\"K-fold-validation---scikit-learn-3\">K-fold validation - scikit-learn</a></span></li><li><span><a href=\"http://localhost:8888/notebooks/PycharmProjects/Playfield/keras/3_regression_houseprices.ipynb#Train-final-model\" data-toc-modified-id=\"Train-final-model-4\">Train final model</a></span></li><li><span><a href=\"http://localhost:8888/notebooks/PycharmProjects/Playfield/keras/3_regression_houseprices.ipynb#References\" data-toc-modified-id=\"References-5\">References</a></span></li></ul></div>"
   ]
  },
  {
   "cell_type": "markdown",
   "metadata": {},
   "source": [
    "# Regression for house price prediction"
   ]
  },
  {
   "cell_type": "markdown",
   "metadata": {},
   "source": [
    "This is a regression example using the Keras library on the Boston Housing Prices dataset. The model creation is similar as in the previous classification posts, only this time we need to change the loss function and evaluation metrics. Since the dataset is very small with ~400 samples in the training set, I'll do K-fold validation, once by manually splitting the training set into k folds, and once using a more automated approach with the scikit-learn library. The final model is run with the near-optimal number of training epochs and tested on the test set. Parameter optimization is not done in this example."
   ]
  },
  {
   "cell_type": "code",
   "execution_count": 22,
   "metadata": {},
   "outputs": [],
   "source": [
    "from keras.datasets import boston_housing"
   ]
  },
  {
   "cell_type": "code",
   "execution_count": 23,
   "metadata": {},
   "outputs": [
    {
     "name": "stdout",
     "output_type": "stream",
     "text": [
      "(404, 13)\n",
      "(102, 13)\n"
     ]
    }
   ],
   "source": [
    "(train_data, train_targets), (test_data, test_targets) = boston_housing.load_data()\n",
    "print(train_data.shape)\n",
    "print(test_data.shape)"
   ]
  },
  {
   "cell_type": "markdown",
   "metadata": {},
   "source": [
    "The targets are given in thousands of dollars:"
   ]
  },
  {
   "cell_type": "code",
   "execution_count": 24,
   "metadata": {},
   "outputs": [
    {
     "data": {
      "text/plain": [
       "array([15.2, 42.3, 50. , 21.1, 17.7, 18.5, 11.3, 15.6, 15.6, 14.4])"
      ]
     },
     "execution_count": 24,
     "metadata": {},
     "output_type": "execute_result"
    }
   ],
   "source": [
    "train_targets[:10]"
   ]
  },
  {
   "cell_type": "markdown",
   "metadata": {},
   "source": [
    "Let's look at one sample. There are 13 features per sample, such as crime rate, number of rooms in the house, house size etc."
   ]
  },
  {
   "cell_type": "code",
   "execution_count": 25,
   "metadata": {},
   "outputs": [
    {
     "data": {
      "text/plain": [
       "array([  1.23247,   0.     ,   8.14   ,   0.     ,   0.538  ,   6.142  ,\n",
       "        91.7    ,   3.9769 ,   4.     , 307.     ,  21.     , 396.9    ,\n",
       "        18.72   ])"
      ]
     },
     "execution_count": 25,
     "metadata": {},
     "output_type": "execute_result"
    }
   ],
   "source": [
    "train_data[0,:]"
   ]
  },
  {
   "cell_type": "markdown",
   "metadata": {},
   "source": [
    "The features are in different ranges, so it's best if we normalize them - subtract the mean and divide with its standard deviation. Now all features will be centered around 0 and have a unit standard deviation. Both training and test sets must be normalized with the same mean and st. deviation values, while the mean and the st. deviation must always be calculated only from the training data, not the test one."
   ]
  },
  {
   "cell_type": "code",
   "execution_count": 26,
   "metadata": {
    "collapsed": true
   },
   "outputs": [],
   "source": [
    "# Find the mean across features\n",
    "mean = train_data.mean(axis=0)\n",
    "std = train_data.std(axis=0)\n",
    "\n",
    "train_data_norm = train_data - mean\n",
    "train_data_norm /= std\n",
    "test_data_norm = test_data - mean\n",
    "test_data_norm /= std"
   ]
  },
  {
   "cell_type": "markdown",
   "metadata": {},
   "source": [
    "Here's the first sample of the training set again:"
   ]
  },
  {
   "cell_type": "code",
   "execution_count": 28,
   "metadata": {},
   "outputs": [
    {
     "data": {
      "text/plain": [
       "array([-0.27224633, -0.48361547, -0.43576161, -0.25683275, -0.1652266 ,\n",
       "       -0.1764426 ,  0.81306188,  0.1166983 , -0.62624905, -0.59517003,\n",
       "        1.14850044,  0.44807713,  0.8252202 ])"
      ]
     },
     "execution_count": 28,
     "metadata": {},
     "output_type": "execute_result"
    }
   ],
   "source": [
    "train_data_norm[0,:]"
   ]
  },
  {
   "cell_type": "markdown",
   "metadata": {},
   "source": [
    "## Create model"
   ]
  },
  {
   "cell_type": "code",
   "execution_count": 29,
   "metadata": {
    "collapsed": true
   },
   "outputs": [],
   "source": [
    "from keras import models\n",
    "from keras import layers"
   ]
  },
  {
   "cell_type": "code",
   "execution_count": 35,
   "metadata": {
    "collapsed": true
   },
   "outputs": [],
   "source": [
    "def create_model():\n",
    "    model = models.Sequential()\n",
    "    \n",
    "    # Add 2 hidden layers\n",
    "    model.add(layers.Dense(64, activation='relu', input_shape=(train_data_norm.shape[1],)))\n",
    "    model.add(layers.Dense(64, activation='relu'))\n",
    "\n",
    "    # Add a linear output layer (without non-linear activation)\n",
    "    model.add(layers.Dense(1))\n",
    "    \n",
    "    # Compile model\n",
    "    model.compile(optimizer='Adam', loss='mse', metrics=['mae'])\n",
    "\n",
    "    return model"
   ]
  },
  {
   "cell_type": "markdown",
   "metadata": {},
   "source": [
    "## K-fold validation - manual"
   ]
  },
  {
   "cell_type": "markdown",
   "metadata": {},
   "source": [
    "Because the dataset is very small (only 404 training samples), splitting a separate validation set may not be the best choice - validation scores may have high variance with regard to the validation split.\n",
    "\n",
    "The better approach in this case is to use K-fold validation - split the training set into k subsets, train a separate model on k-1 sets and evaluate on the k-th set. The validation score at the end is an average over the score of all train-validation combinations across the k subsets. Anyway using a K-fold validation on a big dataset would be very computationally expensive."
   ]
  },
  {
   "cell_type": "code",
   "execution_count": 32,
   "metadata": {
    "collapsed": true
   },
   "outputs": [],
   "source": [
    "import numpy as np"
   ]
  },
  {
   "cell_type": "code",
   "execution_count": 45,
   "metadata": {},
   "outputs": [
    {
     "name": "stdout",
     "output_type": "stream",
     "text": [
      "processing fold # 0\n",
      "processing fold # 1\n",
      "processing fold # 2\n",
      "processing fold # 3\n"
     ]
    }
   ],
   "source": [
    "k = 4\n",
    "num_val_samples = len(train_data_norm) // k\n",
    "num_epochs = 500\n",
    "mae_history =[]\n",
    "\n",
    "for i in range(k):\n",
    "    print(\"processing fold #\", i)\n",
    "    \n",
    "    # Prepare validation data by taking one subset\n",
    "    val_data = train_data_norm[i * num_val_samples: (i + 1) * num_val_samples]\n",
    "    val_targets = train_targets[i * num_val_samples: (i + 1) * num_val_samples]\n",
    "    \n",
    "    # Prepare training data using the rest k-1 subsets\n",
    "    train_data_partial = np.concatenate([train_data_norm[:i * num_val_samples], \n",
    "                                        train_data_norm[(i + 1) * num_val_samples:]], axis=0)\n",
    "    train_targets_partial = np.concatenate([train_targets[:i * num_val_samples], \n",
    "                                           train_targets[(i + 1) * num_val_samples:]], axis=0)\n",
    "    \n",
    "    # Create a new model for each split\n",
    "    model = create_model()\n",
    "    history = model.fit(train_data_partial, train_targets_partial, \n",
    "                        validation_data = (val_data, val_targets),\n",
    "                        epochs=num_epochs, batch_size=4, verbose=0)\n",
    "    mae_history.append(history.history['val_mean_absolute_error'])"
   ]
  },
  {
   "cell_type": "code",
   "execution_count": 66,
   "metadata": {},
   "outputs": [
    {
     "name": "stdout",
     "output_type": "stream",
     "text": [
      "Average validation MAE: 2.54240617421594\n"
     ]
    }
   ],
   "source": [
    "# Get the average validation MAE as the mean of mae values at the last epoch\n",
    "print(\"Average validation MAE:\", np.mean([fold[-1] for fold in mae_history]))\n",
    "avg_mae_per_epoch = [np.mean(x) for x in zip(*mae_history)]"
   ]
  },
  {
   "cell_type": "code",
   "execution_count": 76,
   "metadata": {},
   "outputs": [
    {
     "data": {
      "image/png": "[encoded data removed]",
      "text/plain": [
       "<Figure size 648x432 with 1 Axes>"
      ]
     },
     "metadata": {},
     "output_type": "display_data"
    }
   ],
   "source": [
    "import matplotlib.pyplot as plt\n",
    "plt.rcParams['figure.figsize'] = (9,6)\n",
    "\n",
    "plt.plot(avg_mae_per_epoch)\n",
    "plt.ylim([2.2,2.8])\n",
    "plt.ylabel('Validation MAE')\n",
    "plt.xlabel('Epoch')\n",
    "plt.show()"
   ]
  },
  {
   "cell_type": "markdown",
   "metadata": {},
   "source": [
    "We can see that the validation MAE stops improving around the 100th epoch, after that it starts to overfit."
   ]
  },
  {
   "cell_type": "markdown",
   "metadata": {},
   "source": [
    "## K-fold validation - scikit-learn"
   ]
  },
  {
   "cell_type": "markdown",
   "metadata": {},
   "source": [
    "In the previous section, a big part of the K-fold validation splitting and training was done manually. A bit more automated way is possible using the scikit-learn library as follows."
   ]
  },
  {
   "cell_type": "code",
   "execution_count": 82,
   "metadata": {},
   "outputs": [],
   "source": [
    "from sklearn.model_selection import KFold"
   ]
  },
  {
   "cell_type": "code",
   "execution_count": 87,
   "metadata": {},
   "outputs": [
    {
     "name": "stdout",
     "output_type": "stream",
     "text": [
      "processing fold # 0\n",
      "processing fold # 1\n",
      "processing fold # 2\n",
      "processing fold # 3\n"
     ]
    }
   ],
   "source": [
    "num_epochs = 500\n",
    "mae_history =[]\n",
    "fold_num = 0\n",
    "\n",
    "# Create cross val. splits and loop through them\n",
    "kf = KFold(n_splits=4)\n",
    "\n",
    "for train_index, val_index in kf.split(train_data_norm):\n",
    "    \n",
    "    print(\"processing fold #\", fold_num)\n",
    "    fold_num += 1\n",
    "\n",
    "    # Create a new model for each split\n",
    "    model = create_model()\n",
    "    history = model.fit(train_data_norm[train_index], train_targets[train_index], \n",
    "                        validation_data = (train_data_norm[val_index], train_targets[val_index]),\n",
    "                        epochs=num_epochs, batch_size=4, verbose=0)\n",
    "    mae_history.append(history.history['val_mean_absolute_error'])"
   ]
  },
  {
   "cell_type": "markdown",
   "metadata": {},
   "source": [
    "To check if our shortened code does the same thing as above, let's quickly plot the loss again.."
   ]
  },
  {
   "cell_type": "code",
   "execution_count": 88,
   "metadata": {},
   "outputs": [
    {
     "name": "stdout",
     "output_type": "stream",
     "text": [
      "Average validation MAE: 2.546585476044381\n"
     ]
    },
    {
     "data": {
      "image/png": "[encoded data removed]",
      "text/plain": [
       "<Figure size 648x432 with 1 Axes>"
      ]
     },
     "metadata": {},
     "output_type": "display_data"
    }
   ],
   "source": [
    "print(\"Average validation MAE:\", np.mean([fold[-1] for fold in mae_history]))\n",
    "avg_mae_per_epoch = [np.mean(x) for x in zip(*mae_history)]\n",
    "plt.plot(avg_mae_per_epoch)\n",
    "plt.ylim([2.2,2.8])\n",
    "plt.ylabel('Validation MAE')\n",
    "plt.xlabel('Epoch')\n",
    "plt.show()"
   ]
  },
  {
   "cell_type": "markdown",
   "metadata": {},
   "source": [
    "## Train final model"
   ]
  },
  {
   "cell_type": "markdown",
   "metadata": {},
   "source": [
    "Since the validation showed minimum loss around the 100th epoch, we can train one final model for 100 epochs and test its performance on the test set. I won't do any hyper-parameter optimization in this part."
   ]
  },
  {
   "cell_type": "code",
   "execution_count": 91,
   "metadata": {},
   "outputs": [
    {
     "name": "stdout",
     "output_type": "stream",
     "text": [
      "Epoch 1/100\n",
      "404/404 [==============================] - 1s 3ms/step - loss: 523.1017 - mean_absolute_error: 21.0204\n",
      "Epoch 2/100\n",
      "404/404 [==============================] - 0s 229us/step - loss: 378.4435 - mean_absolute_error: 17.4319\n",
      "Epoch 3/100\n",
      "404/404 [==============================] - 0s 245us/step - loss: 161.6138 - mean_absolute_error: 10.6244\n",
      "Epoch 4/100\n",
      "404/404 [==============================] - 0s 263us/step - loss: 54.4422 - mean_absolute_error: 5.6705\n",
      "Epoch 5/100\n",
      "404/404 [==============================] - 0s 241us/step - loss: 32.2018 - mean_absolute_error: 4.2204\n",
      "Epoch 6/100\n",
      "404/404 [==============================] - ETA: 0s - loss: 25.9484 - mean_absolute_error: 3.63 - 0s 243us/step - loss: 24.3279 - mean_absolute_error: 3.5393\n",
      "Epoch 7/100\n",
      "404/404 [==============================] - 0s 267us/step - loss: 20.5352 - mean_absolute_error: 3.1783\n",
      "Epoch 8/100\n",
      "404/404 [==============================] - 0s 230us/step - loss: 18.5707 - mean_absolute_error: 2.9817\n",
      "Epoch 9/100\n",
      "404/404 [==============================] - 0s 243us/step - loss: 17.0060 - mean_absolute_error: 2.8542\n",
      "Epoch 10/100\n",
      "404/404 [==============================] - 0s 311us/step - loss: 16.1395 - mean_absolute_error: 2.7810\n",
      "Epoch 11/100\n",
      "404/404 [==============================] - 0s 385us/step - loss: 14.8892 - mean_absolute_error: 2.6636\n",
      "Epoch 12/100\n",
      "404/404 [==============================] - 0s 336us/step - loss: 14.2023 - mean_absolute_error: 2.6070\n",
      "Epoch 13/100\n",
      "404/404 [==============================] - 0s 297us/step - loss: 13.7309 - mean_absolute_error: 2.5607\n",
      "Epoch 14/100\n",
      "404/404 [==============================] - 0s 257us/step - loss: 13.2590 - mean_absolute_error: 2.5970\n",
      "Epoch 15/100\n",
      "404/404 [==============================] - 0s 233us/step - loss: 12.8682 - mean_absolute_error: 2.5332\n",
      "Epoch 16/100\n",
      "404/404 [==============================] - 0s 231us/step - loss: 12.3850 - mean_absolute_error: 2.4733\n",
      "Epoch 17/100\n",
      "404/404 [==============================] - 0s 189us/step - loss: 11.9962 - mean_absolute_error: 2.4768\n",
      "Epoch 18/100\n",
      "404/404 [==============================] - 0s 249us/step - loss: 11.5235 - mean_absolute_error: 2.3855\n",
      "Epoch 19/100\n",
      "404/404 [==============================] - 0s 214us/step - loss: 11.2539 - mean_absolute_error: 2.3997\n",
      "Epoch 20/100\n",
      "404/404 [==============================] - 0s 223us/step - loss: 11.0318 - mean_absolute_error: 2.3389\n",
      "Epoch 21/100\n",
      "404/404 [==============================] - 0s 242us/step - loss: 10.8823 - mean_absolute_error: 2.3497\n",
      "Epoch 22/100\n",
      "404/404 [==============================] - 0s 262us/step - loss: 10.6281 - mean_absolute_error: 2.3115\n",
      "Epoch 23/100\n",
      "404/404 [==============================] - 0s 223us/step - loss: 10.3480 - mean_absolute_error: 2.2717\n",
      "Epoch 24/100\n",
      "404/404 [==============================] - 0s 311us/step - loss: 10.1723 - mean_absolute_error: 2.2537\n",
      "Epoch 25/100\n",
      "404/404 [==============================] - 0s 299us/step - loss: 10.1353 - mean_absolute_error: 2.2915\n",
      "Epoch 26/100\n",
      "404/404 [==============================] - 0s 356us/step - loss: 9.9919 - mean_absolute_error: 2.2289\n",
      "Epoch 27/100\n",
      "404/404 [==============================] - 0s 363us/step - loss: 9.7105 - mean_absolute_error: 2.2325\n",
      "Epoch 28/100\n",
      "404/404 [==============================] - 0s 246us/step - loss: 9.6134 - mean_absolute_error: 2.1838\n",
      "Epoch 29/100\n",
      "404/404 [==============================] - 0s 334us/step - loss: 9.6265 - mean_absolute_error: 2.2122\n",
      "Epoch 30/100\n",
      "404/404 [==============================] - 0s 294us/step - loss: 9.5385 - mean_absolute_error: 2.1984\n",
      "Epoch 31/100\n",
      "404/404 [==============================] - 0s 355us/step - loss: 9.3577 - mean_absolute_error: 2.1747\n",
      "Epoch 32/100\n",
      "404/404 [==============================] - 0s 325us/step - loss: 9.2269 - mean_absolute_error: 2.1719\n",
      "Epoch 33/100\n",
      "404/404 [==============================] - 0s 276us/step - loss: 9.1138 - mean_absolute_error: 2.1189\n",
      "Epoch 34/100\n",
      "404/404 [==============================] - 0s 216us/step - loss: 8.9642 - mean_absolute_error: 2.1327\n",
      "Epoch 35/100\n",
      "404/404 [==============================] - 0s 217us/step - loss: 8.8524 - mean_absolute_error: 2.1244\n",
      "Epoch 36/100\n",
      "404/404 [==============================] - 0s 227us/step - loss: 8.9156 - mean_absolute_error: 2.1188\n",
      "Epoch 37/100\n",
      "404/404 [==============================] - 0s 243us/step - loss: 8.7245 - mean_absolute_error: 2.0960\n",
      "Epoch 38/100\n",
      "404/404 [==============================] - 0s 328us/step - loss: 8.8109 - mean_absolute_error: 2.1014\n",
      "Epoch 39/100\n",
      "404/404 [==============================] - 0s 235us/step - loss: 8.5282 - mean_absolute_error: 2.0770\n",
      "Epoch 40/100\n",
      "404/404 [==============================] - 0s 275us/step - loss: 8.5220 - mean_absolute_error: 2.0569\n",
      "Epoch 41/100\n",
      "404/404 [==============================] - 0s 252us/step - loss: 8.4928 - mean_absolute_error: 2.0566\n",
      "Epoch 42/100\n",
      "404/404 [==============================] - 0s 213us/step - loss: 8.4944 - mean_absolute_error: 2.0899\n",
      "Epoch 43/100\n",
      "404/404 [==============================] - 0s 271us/step - loss: 8.2698 - mean_absolute_error: 2.0497\n",
      "Epoch 44/100\n",
      "404/404 [==============================] - 0s 223us/step - loss: 8.2185 - mean_absolute_error: 2.0384\n",
      "Epoch 45/100\n",
      "404/404 [==============================] - 0s 228us/step - loss: 8.0190 - mean_absolute_error: 2.0123\n",
      "Epoch 46/100\n",
      "404/404 [==============================] - 0s 201us/step - loss: 8.0484 - mean_absolute_error: 2.0175\n",
      "Epoch 47/100\n",
      "404/404 [==============================] - 0s 248us/step - loss: 8.0168 - mean_absolute_error: 1.9956\n",
      "Epoch 48/100\n",
      "404/404 [==============================] - 0s 302us/step - loss: 7.8227 - mean_absolute_error: 2.0005\n",
      "Epoch 49/100\n",
      "404/404 [==============================] - 0s 266us/step - loss: 7.9797 - mean_absolute_error: 1.9900\n",
      "Epoch 50/100\n",
      "404/404 [==============================] - 0s 271us/step - loss: 7.8308 - mean_absolute_error: 1.9721\n",
      "Epoch 51/100\n",
      "404/404 [==============================] - 0s 270us/step - loss: 7.6050 - mean_absolute_error: 1.9761\n",
      "Epoch 52/100\n",
      "404/404 [==============================] - 0s 256us/step - loss: 7.8103 - mean_absolute_error: 1.9874\n",
      "Epoch 53/100\n",
      "404/404 [==============================] - 0s 277us/step - loss: 7.6606 - mean_absolute_error: 1.9556\n",
      "Epoch 54/100\n",
      "404/404 [==============================] - 0s 233us/step - loss: 7.5093 - mean_absolute_error: 1.9601\n",
      "Epoch 55/100\n",
      "404/404 [==============================] - 0s 277us/step - loss: 7.6444 - mean_absolute_error: 1.9512\n",
      "Epoch 56/100\n",
      "404/404 [==============================] - 0s 207us/step - loss: 7.6448 - mean_absolute_error: 1.9930\n",
      "Epoch 57/100\n",
      "404/404 [==============================] - 0s 353us/step - loss: 7.4931 - mean_absolute_error: 1.9261\n",
      "Epoch 58/100\n",
      "404/404 [==============================] - 0s 286us/step - loss: 7.4982 - mean_absolute_error: 1.9687\n",
      "Epoch 59/100\n",
      "404/404 [==============================] - 0s 262us/step - loss: 7.1632 - mean_absolute_error: 1.9005\n",
      "Epoch 60/100\n",
      "404/404 [==============================] - 0s 266us/step - loss: 7.2620 - mean_absolute_error: 1.9260\n",
      "Epoch 61/100\n",
      "404/404 [==============================] - 0s 246us/step - loss: 7.2364 - mean_absolute_error: 1.8820\n",
      "Epoch 62/100\n",
      "404/404 [==============================] - 0s 282us/step - loss: 7.0198 - mean_absolute_error: 1.9023\n",
      "Epoch 63/100\n",
      "404/404 [==============================] - 0s 278us/step - loss: 7.1016 - mean_absolute_error: 1.9124\n",
      "Epoch 64/100\n",
      "404/404 [==============================] - 0s 253us/step - loss: 6.9434 - mean_absolute_error: 1.8793\n",
      "Epoch 65/100\n",
      "404/404 [==============================] - 0s 201us/step - loss: 6.8806 - mean_absolute_error: 1.9017\n",
      "Epoch 66/100\n",
      "404/404 [==============================] - 0s 201us/step - loss: 6.7645 - mean_absolute_error: 1.8241\n",
      "Epoch 67/100\n",
      "404/404 [==============================] - 0s 207us/step - loss: 6.8358 - mean_absolute_error: 1.8632\n",
      "Epoch 68/100\n",
      "404/404 [==============================] - 0s 225us/step - loss: 6.7076 - mean_absolute_error: 1.8381\n",
      "Epoch 69/100\n",
      "404/404 [==============================] - 0s 208us/step - loss: 7.0053 - mean_absolute_error: 1.9252\n",
      "Epoch 70/100\n",
      "404/404 [==============================] - 0s 218us/step - loss: 6.7398 - mean_absolute_error: 1.8689\n",
      "Epoch 71/100\n",
      "404/404 [==============================] - 0s 352us/step - loss: 6.5434 - mean_absolute_error: 1.8080\n",
      "Epoch 72/100\n",
      "404/404 [==============================] - 0s 238us/step - loss: 6.3858 - mean_absolute_error: 1.7739\n",
      "Epoch 73/100\n",
      "404/404 [==============================] - 0s 282us/step - loss: 6.6106 - mean_absolute_error: 1.8366\n",
      "Epoch 74/100\n",
      "404/404 [==============================] - 0s 300us/step - loss: 6.5561 - mean_absolute_error: 1.8450\n",
      "Epoch 75/100\n",
      "404/404 [==============================] - 0s 255us/step - loss: 6.5396 - mean_absolute_error: 1.8415\n",
      "Epoch 76/100\n",
      "404/404 [==============================] - 0s 233us/step - loss: 6.7824 - mean_absolute_error: 1.8658\n",
      "Epoch 77/100\n",
      "404/404 [==============================] - 0s 236us/step - loss: 6.4363 - mean_absolute_error: 1.8217\n",
      "Epoch 78/100\n",
      "404/404 [==============================] - 0s 415us/step - loss: 6.1845 - mean_absolute_error: 1.7775\n",
      "Epoch 79/100\n",
      "404/404 [==============================] - 0s 348us/step - loss: 6.2922 - mean_absolute_error: 1.8095\n",
      "Epoch 80/100\n",
      "404/404 [==============================] - 0s 300us/step - loss: 6.2618 - mean_absolute_error: 1.8041\n",
      "Epoch 81/100\n",
      "404/404 [==============================] - 0s 366us/step - loss: 6.1069 - mean_absolute_error: 1.7948\n",
      "Epoch 82/100\n",
      "404/404 [==============================] - 0s 327us/step - loss: 5.9533 - mean_absolute_error: 1.7510\n",
      "Epoch 83/100\n",
      "404/404 [==============================] - 0s 370us/step - loss: 5.9850 - mean_absolute_error: 1.7370\n",
      "Epoch 84/100\n",
      "404/404 [==============================] - 0s 337us/step - loss: 5.9383 - mean_absolute_error: 1.7389\n",
      "Epoch 85/100\n",
      "404/404 [==============================] - 0s 355us/step - loss: 5.8526 - mean_absolute_error: 1.7247\n",
      "Epoch 86/100\n",
      "404/404 [==============================] - 0s 337us/step - loss: 5.8924 - mean_absolute_error: 1.7387\n",
      "Epoch 87/100\n",
      "404/404 [==============================] - 0s 385us/step - loss: 5.7958 - mean_absolute_error: 1.7208\n",
      "Epoch 88/100\n",
      "404/404 [==============================] - 0s 345us/step - loss: 5.8064 - mean_absolute_error: 1.7053\n",
      "Epoch 89/100\n",
      "404/404 [==============================] - 0s 369us/step - loss: 5.6899 - mean_absolute_error: 1.7083\n",
      "Epoch 90/100\n",
      "404/404 [==============================] - 0s 263us/step - loss: 5.6860 - mean_absolute_error: 1.6814\n",
      "Epoch 91/100\n",
      "404/404 [==============================] - 0s 303us/step - loss: 5.6873 - mean_absolute_error: 1.7057\n",
      "Epoch 92/100\n",
      "404/404 [==============================] - 0s 304us/step - loss: 5.5512 - mean_absolute_error: 1.6693\n",
      "Epoch 93/100\n",
      "404/404 [==============================] - 0s 324us/step - loss: 5.7317 - mean_absolute_error: 1.6958\n",
      "Epoch 94/100\n",
      "404/404 [==============================] - 0s 401us/step - loss: 5.6111 - mean_absolute_error: 1.6949\n",
      "Epoch 95/100\n",
      "404/404 [==============================] - 0s 309us/step - loss: 5.5898 - mean_absolute_error: 1.6868\n",
      "Epoch 96/100\n",
      "404/404 [==============================] - 0s 317us/step - loss: 5.4932 - mean_absolute_error: 1.6871\n",
      "Epoch 97/100\n",
      "404/404 [==============================] - 0s 312us/step - loss: 5.4050 - mean_absolute_error: 1.6466\n",
      "Epoch 98/100\n",
      "404/404 [==============================] - 0s 335us/step - loss: 5.5180 - mean_absolute_error: 1.6952\n",
      "Epoch 99/100\n",
      "404/404 [==============================] - 0s 211us/step - loss: 5.3536 - mean_absolute_error: 1.6460\n",
      "Epoch 100/100\n",
      "404/404 [==============================] - 0s 338us/step - loss: 5.4828 - mean_absolute_error: 1.6584\n",
      "102/102 [==============================] - 1s 5ms/step\n"
     ]
    }
   ],
   "source": [
    "final_model = create_model()\n",
    "history = final_model.fit(train_data_norm, train_targets, epochs=100, batch_size=16)\n",
    "test_results = final_model.evaluate(test_data_norm, test_targets)"
   ]
  },
  {
   "cell_type": "code",
   "execution_count": 98,
   "metadata": {},
   "outputs": [
    {
     "name": "stdout",
     "output_type": "stream",
     "text": [
      "Loss (MSE): 17.580, MAE: 2.618\n"
     ]
    }
   ],
   "source": [
    "print(\"Loss (MSE): %.3f, MAE: %.3f\" % tuple(test_results))"
   ]
  },
  {
   "cell_type": "markdown",
   "metadata": {},
   "source": [
    "Since the target prices are in the thousands of dollars, our model on average will miss the target for around $2.6k."
   ]
  },
  {
   "cell_type": "markdown",
   "metadata": {},
   "source": [
    "## References\n",
    "- \"Deep Learning with Python\" book by Francois Chollet"
   ]
  }
 ],
 "metadata": {
  "kernelspec": {
   "display_name": "Python 3",
   "language": "python",
   "name": "python3"
  },
  "language_info": {
   "codemirror_mode": {
    "name": "ipython",
    "version": 3
   },
   "file_extension": ".py",
   "mimetype": "text/x-python",
   "name": "python",
   "nbconvert_exporter": "python",
   "pygments_lexer": "ipython3",
   "version": "3.6.5"
  },
  "toc": {
   "nav_menu": {},
   "number_sections": false,
   "sideBar": true,
   "skip_h1_title": true,
   "toc_cell": true,
   "toc_position": {},
   "toc_section_display": "block",
   "toc_window_display": true
  }
 },
 "nbformat": 4,
 "nbformat_minor": 2
}
