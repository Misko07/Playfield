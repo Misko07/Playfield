{
 "cells": [
  {
   "cell_type": "markdown",
   "metadata": {},
   "source": [
    "# A neural net with TensorFlow Core API"
   ]
  },
  {
   "cell_type": "markdown",
   "metadata": {},
   "source": [
    "This is quick tryout for coding a neural network for machine learning using the Core API of TensorFlow. \n",
    "\n",
    "**Dataset:** I use the simple Iris dataset which consists of 150 examples of plants, each given with their 4 dimensions (which are used as input features) and its type (the output value that needs to be predicted). A plant can belong to one of three possible types. \n",
    "\n",
    "**Some info:** Three network architectures are compared: (4-5-3), (4-10-3) and (4-20-3), where 4 and 3 correspond to the input and output features, and the middle number denotes the nodes in one hidden layer. The tensorflow graph corresponds to the network architecture. The training phase runs in 2000 iterations using 120 examples, while the model evaluation is done on the rest 30 examples. I use a mean squared error as a loss function, and minimize it using the inbuilt gradient descent optimizer in tensorflow. Sigmoid is used for the activation function, and biases are not included (feel free to add bias nodes the models). The performance of the models is given through prediction accuracy towards the end of this notebook."
   ]
  },
  {
   "cell_type": "code",
   "execution_count": 1,
   "metadata": {
    "collapsed": true
   },
   "outputs": [],
   "source": [
    "import numpy as np\n",
    "import pandas as pd\n",
    "import tensorflow as tf\n",
    "import urllib.request as request"
   ]
  },
  {
   "cell_type": "code",
   "execution_count": 2,
   "metadata": {},
   "outputs": [
    {
     "name": "stdout",
     "output_type": "stream",
     "text": [
      "   sepal-length  sepal-width  petal-length  petal-width\n",
      "0           6.4          2.8           5.6          2.2\n",
      "1           5.0          2.3           3.3          1.0\n",
      "2           4.9          2.5           4.5          1.7\n",
      "3           4.9          3.1           1.5          0.1\n",
      "4           5.7          3.8           1.7          0.3 (120, 4)\n",
      "   sepal-length  sepal-width  petal-length  petal-width\n",
      "0           5.9          3.0           4.2          1.5\n",
      "1           6.9          3.1           5.4          2.1\n",
      "2           5.1          3.3           1.7          0.5\n",
      "3           6.0          3.4           4.5          1.6\n",
      "4           5.5          2.5           4.0          1.3 (30, 4)\n",
      "   0  1  2\n",
      "0  0  0  1\n",
      "1  0  1  0\n",
      "2  0  0  1\n",
      "3  1  0  0\n",
      "4  1  0  0 (120, 3)\n",
      "   0  1  2\n",
      "0  0  1  0\n",
      "1  0  0  1\n",
      "2  1  0  0\n",
      "3  0  1  0\n",
      "4  0  1  0 (30, 3)\n"
     ]
    }
   ],
   "source": [
    "# Download dataset\n",
    "IRIS_TRAIN_URL = \"http://download.tensorflow.org/data/iris_training.csv\"\n",
    "IRIS_TEST_URL = \"http://download.tensorflow.org/data/iris_test.csv\"\n",
    "\n",
    "names = ['sepal-length', 'sepal-width', 'petal-length', 'petal-width', 'species']\n",
    "train = pd.read_csv(IRIS_TRAIN_URL, names=names, skiprows=1)\n",
    "test = pd.read_csv(IRIS_TEST_URL, names=names, skiprows=1)\n",
    "\n",
    "# Train and test input data\n",
    "Xtrain = train.drop(\"species\", axis=1)\n",
    "Xtest = test.drop(\"species\", axis=1)\n",
    "\n",
    "# Encode target values into binary ('one-hot' style) representation\n",
    "ytrain = pd.get_dummies(train.species)\n",
    "ytest = pd.get_dummies(test.species)\n",
    "\n",
    "print(Xtrain.head(), Xtrain.shape)\n",
    "print(Xtest.head(), Xtest.shape)\n",
    "print(ytrain.head(), ytrain.shape)\n",
    "print(ytest.head(), ytest.shape)"
   ]
  },
  {
   "cell_type": "code",
   "execution_count": 3,
   "metadata": {
    "collapsed": true
   },
   "outputs": [],
   "source": [
    "import matplotlib.pyplot as plt\n",
    "%matplotlib inline"
   ]
  },
  {
   "cell_type": "code",
   "execution_count": 4,
   "metadata": {
    "collapsed": true,
    "scrolled": true
   },
   "outputs": [],
   "source": [
    "# Reset the graph\n",
    "tf.reset_default_graph()\n",
    "    \n",
    "def train(hidden_nodes, num_iters):\n",
    "    \"\"\" Build a tensorflow model of a neural network \"\"\"\n",
    "\n",
    "    # Placeholders for input and output data\n",
    "    X = tf.placeholder(shape=(120, 4), dtype=tf.float64, name='X')\n",
    "    y = tf.placeholder(shape=(120, 3), dtype=tf.float64, name='y')\n",
    "\n",
    "    # Variables for two group of weights between the three layers of the network\n",
    "    W1 = tf.Variable(np.random.rand(4, hidden_nodes), dtype=tf.float64)\n",
    "    W2 = tf.Variable(np.random.rand(hidden_nodes, 3), dtype=tf.float64)\n",
    "\n",
    "    # Create the neural net graph\n",
    "    A1 = tf.sigmoid(tf.matmul(X, W1))\n",
    "    y_est = tf.sigmoid(tf.matmul(A1, W2))\n",
    "\n",
    "    # Define a loss function\n",
    "    deltas = tf.square(y_est - y)\n",
    "    loss = tf.reduce_sum(deltas)\n",
    "\n",
    "    # Define a train operation to minimize the loss\n",
    "    optimizer = tf.train.GradientDescentOptimizer(0.005)\n",
    "    train = optimizer.minimize(loss)\n",
    "\n",
    "    # Initialize variables and run session\n",
    "    init = tf.global_variables_initializer()\n",
    "    sess = tf.Session()\n",
    "    sess.run(init)\n",
    "\n",
    "    # Go through 100 iterations\n",
    "    for i in range(num_iters):\n",
    "        sess.run(train, feed_dict={X: Xtrain, y: ytrain})\n",
    "        loss_plot[hidden_nodes].append(sess.run(loss, feed_dict={X: Xtrain.as_matrix(), y: ytrain.as_matrix()}))\n",
    "        weights1 = sess.run(W1)\n",
    "        weights2 = sess.run(W2)\n",
    "        \n",
    "        # todo: print loss\n",
    "\n",
    "    sess.close()\n",
    "    return weights1, weights2"
   ]
  },
  {
   "cell_type": "code",
   "execution_count": 68,
   "metadata": {
    "scrolled": true
   },
   "outputs": [
    {
     "data": {
      "text/plain": [
       "<matplotlib.legend.Legend at 0x12555d630>"
      ]
     },
     "execution_count": 68,
     "metadata": {},
     "output_type": "execute_result"
    },
    {
     "data": {
      "image/png": "[encoded data removed]",
      "text/plain": [
       "<matplotlib.figure.Figure at 0x124a87748>"
      ]
     },
     "metadata": {},
     "output_type": "display_data"
    }
   ],
   "source": [
    "# Run the training for 3 different network architectures: (4-5-3) (4-10-3) (4-20-3)\n",
    "# Plot the loss function over iterations\n",
    "num_hidden_nodes = [5, 10, 20]\n",
    "loss_plot = {5: [], 10: [], 20: []}\n",
    "weights1 = {5: None, 10: None, 20: None}\n",
    "weights2 = {5: None, 10: None, 20: None}\n",
    "num_iters = 2000\n",
    "\n",
    "plt.figure(figsize=(12,8))\n",
    "for hidden_nodes in num_hidden_nodes:\n",
    "    weights1[hidden_nodes], weights2[hidden_nodes] = train(hidden_nodes, num_iters)\n",
    "    plt.plot(range(num_iters), loss_plot[hidden_nodes], label=\"nn: 4-%d-3\" % hidden_nodes)\n",
    "    \n",
    "plt.xlabel('Iteration', fontsize=12)\n",
    "plt.ylabel('Loss', fontsize=12)\n",
    "plt.legend(fontsize=12)"
   ]
  },
  {
   "cell_type": "code",
   "execution_count": 69,
   "metadata": {},
   "outputs": [
    {
     "name": "stdout",
     "output_type": "stream",
     "text": [
      "Network architecture 4-5-3, accuracy: 93.33%\n",
      "Network architecture 4-10-3, accuracy: 96.67%\n",
      "Network architecture 4-20-3, accuracy: 96.67%\n"
     ]
    }
   ],
   "source": [
    "# Evaluate models on the test set\n",
    "X = tf.placeholder(shape=(30, 4), dtype=tf.float64, name='X')\n",
    "y = tf.placeholder(shape=(30, 3), dtype=tf.float64, name='y')\n",
    "\n",
    "for hidden_nodes in num_hidden_nodes:\n",
    "\n",
    "    # Forward propagation\n",
    "    W1 = tf.Variable(weights1[hidden_nodes])\n",
    "    W2 = tf.Variable(weights2[hidden_nodes])\n",
    "    A1 = tf.sigmoid(tf.matmul(X, W1))\n",
    "    y_est = tf.sigmoid(tf.matmul(A1, W2))\n",
    "\n",
    "    init = tf.global_variables_initializer()\n",
    "    with tf.Session() as sess:\n",
    "        sess.run(init)\n",
    "        y_est_np = sess.run(y_est, feed_dict={X: Xtest, y: ytest})\n",
    "\n",
    "    correct = [estimate.argmax(axis=0) == target.argmax(axis=0) \n",
    "               for estimate, target in zip(y_est_np, ytest.as_matrix())]\n",
    "    accuracy = 100 * sum(correct) / len(correct)\n",
    "    print('Network architecture 4-%d-3, accuracy: %.2f%%' % (hidden_nodes, accuracy))"
   ]
  }
 ],
 "metadata": {
  "kernelspec": {
   "display_name": "Python 3",
   "language": "python",
   "name": "python3"
  },
  "language_info": {
   "codemirror_mode": {
    "name": "ipython",
    "version": 3
   },
   "file_extension": ".py",
   "mimetype": "text/x-python",
   "name": "python",
   "nbconvert_exporter": "python",
   "pygments_lexer": "ipython3",
   "version": "3.6.1"
  },
  "toc": {
   "nav_menu": {},
   "number_sections": false,
   "sideBar": true,
   "skip_h1_title": true,
   "toc_cell": false,
   "toc_position": {},
   "toc_section_display": "block",
   "toc_window_display": true
  }
 },
 "nbformat": 4,
 "nbformat_minor": 2
}
