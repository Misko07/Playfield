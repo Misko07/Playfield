{
 "cells": [
  {
   "cell_type": "markdown",
   "metadata": {
    "toc": "true"
   },
   "source": [
    " # Table of Contents\n",
    "<div class=\"toc\" style=\"margin-top: 1em;\"><ul class=\"toc-item\" id=\"toc-level0\"><li><span><a href=\"http://localhost:8888/notebooks/PycharmProjects/Playfield/tensorflow_introduction.ipynb#Low-level-TensorFlow-API\" data-toc-modified-id=\"Low-level-TensorFlow-API-1\">Low-level TensorFlow API</a></span><ul class=\"toc-item\"><li><span><a href=\"http://localhost:8888/notebooks/PycharmProjects/Playfield/tensorflow_introduction.ipynb#Graph\" data-toc-modified-id=\"Graph-1.1\">Graph</a></span></li><li><span><a href=\"http://localhost:8888/notebooks/PycharmProjects/Playfield/tensorflow_introduction.ipynb#Session\" data-toc-modified-id=\"Session-1.2\">Session</a></span></li><li><span><a href=\"http://localhost:8888/notebooks/PycharmProjects/Playfield/tensorflow_introduction.ipynb#Tensors\" data-toc-modified-id=\"Tensors-1.3\">Tensors</a></span><ul class=\"toc-item\"><li><span><a href=\"http://localhost:8888/notebooks/PycharmProjects/Playfield/tensorflow_introduction.ipynb#Constants\" data-toc-modified-id=\"Constants-1.3.1\">Constants</a></span></li><li><span><a href=\"http://localhost:8888/notebooks/PycharmProjects/Playfield/tensorflow_introduction.ipynb#Variables\" data-toc-modified-id=\"Variables-1.3.2\">Variables</a></span></li><li><span><a href=\"http://localhost:8888/notebooks/PycharmProjects/Playfield/tensorflow_introduction.ipynb#Placeholders\" data-toc-modified-id=\"Placeholders-1.3.3\">Placeholders</a></span></li></ul></li><li><span><a href=\"http://localhost:8888/notebooks/PycharmProjects/Playfield/tensorflow_introduction.ipynb#Training-a-model\" data-toc-modified-id=\"Training-a-model-1.4\">Training a model</a></span></li></ul></li><li><span><a href=\"http://localhost:8888/notebooks/PycharmProjects/Playfield/tensorflow_introduction.ipynb#Higher-level-TensorFlow-API:-Estimators\" data-toc-modified-id=\"Higher-level-TensorFlow-API:-Estimators-2\">Higher-level TensorFlow API: Estimators</a></span></li><li><span><a href=\"http://localhost:8888/notebooks/PycharmProjects/Playfield/tensorflow_introduction.ipynb#Custom-model\" data-toc-modified-id=\"Custom-model-3\">Custom model</a></span></li><li><span><a href=\"http://localhost:8888/notebooks/PycharmProjects/Playfield/tensorflow_introduction.ipynb#References\" data-toc-modified-id=\"References-4\">References</a></span></li></ul></div>"
   ]
  },
  {
   "cell_type": "markdown",
   "metadata": {},
   "source": [
    "# Tensorflow introduction"
   ]
  },
  {
   "cell_type": "code",
   "execution_count": 2,
   "metadata": {
    "collapsed": true
   },
   "outputs": [],
   "source": [
    "import tensorflow as tf\n",
    "import numpy as np\n",
    "import matplotlib.pyplot as plt\n",
    "%matplotlib inline"
   ]
  },
  {
   "cell_type": "markdown",
   "metadata": {},
   "source": [
    "## Low-level TensorFlow API"
   ]
  },
  {
   "cell_type": "markdown",
   "metadata": {},
   "source": [
    "### Graph"
   ]
  },
  {
   "cell_type": "markdown",
   "metadata": {},
   "source": [
    "A _graph_ is used to define operations."
   ]
  },
  {
   "cell_type": "code",
   "execution_count": 3,
   "metadata": {
    "collapsed": true
   },
   "outputs": [],
   "source": [
    "# call the default graph\n",
    "graph = tf.get_default_graph()\n",
    "\n",
    "# print operations in the graph\n",
    "for op in graph.get_operations():\n",
    "    print(op.name)"
   ]
  },
  {
   "cell_type": "markdown",
   "metadata": {},
   "source": [
    "### Session"
   ]
  },
  {
   "cell_type": "markdown",
   "metadata": {},
   "source": [
    "Operations are run within a _session_."
   ]
  },
  {
   "cell_type": "code",
   "execution_count": 4,
   "metadata": {},
   "outputs": [
    {
     "name": "stdout",
     "output_type": "stream",
     "text": [
      "Tensor(\"Const:0\", shape=(), dtype=float32)\n",
      "2.3\n"
     ]
    }
   ],
   "source": [
    "a = tf.constant(2.3)\n",
    "\n",
    "# run an operation without a session\n",
    "print(a)\n",
    "\n",
    "# run the operation within a session\n",
    "sess = tf.Session()\n",
    "print(sess.run(a))\n",
    "sess.close()"
   ]
  },
  {
   "cell_type": "markdown",
   "metadata": {},
   "source": [
    "The session could be used with automatic closing like this:"
   ]
  },
  {
   "cell_type": "code",
   "execution_count": 5,
   "metadata": {},
   "outputs": [
    {
     "name": "stdout",
     "output_type": "stream",
     "text": [
      "2.3\n"
     ]
    }
   ],
   "source": [
    "with tf.Session() as sess:\n",
    "    print(sess.run(a))"
   ]
  },
  {
   "cell_type": "markdown",
   "metadata": {},
   "source": [
    "### Tensors"
   ]
  },
  {
   "cell_type": "markdown",
   "metadata": {},
   "source": [
    "Tensors are data structures in which data is stored, similar to multi dimensional arrays in NumPy. One type of a tensor is _constant_."
   ]
  },
  {
   "cell_type": "markdown",
   "metadata": {},
   "source": [
    "#### Constants"
   ]
  },
  {
   "cell_type": "code",
   "execution_count": 6,
   "metadata": {},
   "outputs": [
    {
     "name": "stdout",
     "output_type": "stream",
     "text": [
      "x1: Tensor(\"Const_1:0\", shape=(4,), dtype=int32)\n",
      "result: Tensor(\"Mul:0\", shape=(4,), dtype=int32)\n"
     ]
    }
   ],
   "source": [
    "# Define two constants\n",
    "x1 = tf.constant([1,2,3,4])\n",
    "x2 = tf.constant([5,6,7,8])\n",
    "print(\"x1:\", x1)\n",
    "\n",
    "result = tf.multiply(x1, x2)\n",
    "\n",
    "print(\"result:\", result)"
   ]
  },
  {
   "cell_type": "markdown",
   "metadata": {},
   "source": [
    "The Tensors above, the constants, or 'result', are just models. They aren't actually calculated. To print/access them, they need to be run in a session:"
   ]
  },
  {
   "cell_type": "code",
   "execution_count": 7,
   "metadata": {},
   "outputs": [
    {
     "name": "stdout",
     "output_type": "stream",
     "text": [
      "[ 5 12 21 32]\n",
      "2.3\n"
     ]
    }
   ],
   "source": [
    "sess = tf.Session()\n",
    "print(sess.run(result))\n",
    "print(sess.run(a))\n",
    "sess.close()"
   ]
  },
  {
   "cell_type": "markdown",
   "metadata": {},
   "source": [
    "#### Variables"
   ]
  },
  {
   "cell_type": "markdown",
   "metadata": {},
   "source": [
    "Apart from 'constants' there are also 'placeholder' and 'variable' types of tensors. Variables are values that can change, just like in any programming language."
   ]
  },
  {
   "cell_type": "code",
   "execution_count": 8,
   "metadata": {},
   "outputs": [
    {
     "name": "stdout",
     "output_type": "stream",
     "text": [
      "<tf.Variable 'var1:0' shape=() dtype=float32_ref>\n"
     ]
    }
   ],
   "source": [
    "b = tf.Variable(2.0, name='var1')\n",
    "print(b)"
   ]
  },
  {
   "cell_type": "markdown",
   "metadata": {},
   "source": [
    "Variables need to be initialised by explicitly calling a special operation. To initialise all variables you can use the following function, then access the variable 'b'."
   ]
  },
  {
   "cell_type": "code",
   "execution_count": 9,
   "metadata": {},
   "outputs": [
    {
     "name": "stdout",
     "output_type": "stream",
     "text": [
      "2.0\n"
     ]
    }
   ],
   "source": [
    "init_op = tf.global_variables_initializer()\n",
    "\n",
    "with tf.Session() as sess:\n",
    "    sess.run(init_op)\n",
    "    print(sess.run(b))"
   ]
  },
  {
   "cell_type": "markdown",
   "metadata": {},
   "source": [
    "#### Placeholders"
   ]
  },
  {
   "cell_type": "markdown",
   "metadata": {},
   "source": [
    "Placeholders are values (tensors) which are unassigned, and that will be initialized by the session when it's run. They usually represent external inputs. These are used for training data. The object that is fed to Placeholder is called feed_dict - a key-value pairs."
   ]
  },
  {
   "cell_type": "code",
   "execution_count": 10,
   "metadata": {},
   "outputs": [
    {
     "name": "stdout",
     "output_type": "stream",
     "text": [
      "6.0\n"
     ]
    }
   ],
   "source": [
    "p1 = tf.placeholder(\"float\")\n",
    "p2 = tf.placeholder(\"float\")\n",
    "y = tf.multiply(p1, p2)\n",
    "\n",
    "# create a feed_dict object\n",
    "feed_dict = {p1: 2, p2: 3}\n",
    "with tf.Session() as sess:\n",
    "    print(sess.run(y, feed_dict=feed_dict))"
   ]
  },
  {
   "cell_type": "markdown",
   "metadata": {},
   "source": [
    "Finally the sessions can be run on a GPU, CPU, a cluster etc., and you can choose where to run it. The complete picture:"
   ]
  },
  {
   "cell_type": "markdown",
   "metadata": {},
   "source": [
    "<img src=\"http://cv-tricks.com/wp-content/uploads/2017/02/xTensorflow_Graph_0.png.pagespeed.ic.U_RLEnluD2.webp\">"
   ]
  },
  {
   "cell_type": "markdown",
   "metadata": {},
   "source": [
    "------------------------------"
   ]
  },
  {
   "cell_type": "markdown",
   "metadata": {},
   "source": [
    "### Training a model"
   ]
  },
  {
   "cell_type": "code",
   "execution_count": 11,
   "metadata": {
    "collapsed": true
   },
   "outputs": [],
   "source": [
    "W = tf.Variable([.3], dtype=tf.float32)\n",
    "b = tf.Variable([-.3])\n",
    "x = tf.placeholder(tf.float32)\n",
    "linear_model = W * x + b"
   ]
  },
  {
   "cell_type": "code",
   "execution_count": 12,
   "metadata": {},
   "outputs": [
    {
     "name": "stdout",
     "output_type": "stream",
     "text": [
      "[ 0.          0.30000001  0.60000002  0.90000004]\n"
     ]
    }
   ],
   "source": [
    "init = tf.global_variables_initializer()\n",
    "sess = tf.Session()\n",
    "sess.run(init)\n",
    "print(sess.run(linear_model, feed_dict={x: [1, 2, 3, 4]}))"
   ]
  },
  {
   "cell_type": "code",
   "execution_count": 13,
   "metadata": {},
   "outputs": [
    {
     "name": "stdout",
     "output_type": "stream",
     "text": [
      "23.66\n"
     ]
    }
   ],
   "source": [
    "y = tf.placeholder(tf.float32)\n",
    "squared_deltas = tf.square(linear_model - y)\n",
    "loss = tf.reduce_sum(squared_deltas)\n",
    "\n",
    "# Create a summary for the loss value\n",
    "tf.summary.scalar('loss', loss)\n",
    "\n",
    "# Merge all summaries and write them to file\n",
    "merged = tf.summary.merge_all()\n",
    "print(sess.run(loss, {x: [1, 2, 3, 4], y: [0, -1, -2, -3]}))"
   ]
  },
  {
   "cell_type": "code",
   "execution_count": 14,
   "metadata": {},
   "outputs": [
    {
     "name": "stdout",
     "output_type": "stream",
     "text": [
      "0.0\n"
     ]
    }
   ],
   "source": [
    "fixW = tf.assign(W, [-1.])\n",
    "fixb = tf.assign(b, [1.])\n",
    "sess.run([fixW, fixb])\n",
    "print(sess.run(loss, {x: [1, 2, 3, 4], y: [0, -1, -2, -3]}))"
   ]
  },
  {
   "cell_type": "markdown",
   "metadata": {},
   "source": [
    "Create an optimizer. Optimizers slowly change each variable until a loss function is minimized. The simplest example of an optimizer in tf is gradient descent."
   ]
  },
  {
   "cell_type": "code",
   "execution_count": 15,
   "metadata": {
    "collapsed": true
   },
   "outputs": [],
   "source": [
    "optimizer = tf.train.GradientDescentOptimizer(0.01)\n",
    "train = optimizer.minimize(loss)\n",
    "\n",
    "# Create a tf.summary.FileWriter object that takes a 'logdir' destination, and optinally the model's graph\n",
    "train_writer = tf.summary.FileWriter('./train', sess.graph)"
   ]
  },
  {
   "cell_type": "markdown",
   "metadata": {},
   "source": [
    "Now go through 1000 iterations with the above learning rate of 0.01, and print out the learned variable values."
   ]
  },
  {
   "cell_type": "code",
   "execution_count": 16,
   "metadata": {},
   "outputs": [
    {
     "name": "stdout",
     "output_type": "stream",
     "text": [
      "[array([-0.84079814], dtype=float32), array([ 0.53192717], dtype=float32)]\n"
     ]
    },
    {
     "data": {
      "image/png": "[encoded data removed]",
      "text/plain": [
       "<matplotlib.figure.Figure at 0x11fcb4cf8>"
      ]
     },
     "metadata": {},
     "output_type": "display_data"
    }
   ],
   "source": [
    "sess.run(init)\n",
    "loss_plot = []\n",
    "for i in range(100):\n",
    "    sess.run(train, {x: [1, 2, 3, 4], y: [0, -1, -2, -3]})\n",
    "    loss_plot.append(sess.run(loss, {x: [1, 2, 3, 4], y: [0, -1, -2, -3]}))\n",
    "    \n",
    "    # Record summaries\n",
    "    summary = sess.run(merged, feed_dict={x: [1, 2, 3, 4], y: [0, -1, -2, -3]})\n",
    "    train_writer.add_summary(summary, i)\n",
    "    \n",
    "#     print(\"W: %2f, b: %.2f\" % (sess.run(W), sess.run(b)))\n",
    "\n",
    "plt.figure(figsize=(9,6))\n",
    "plt.plot(np.linspace(start=1, stop=100, num=100), loss_plot)\n",
    "plt.xlabel(\"Iteration\")\n",
    "plt.ylabel(\"Loss function\")\n",
    "print(sess.run([W, b]))"
   ]
  },
  {
   "cell_type": "markdown",
   "metadata": {},
   "source": [
    "## Higher-level TensorFlow API: Estimators"
   ]
  },
  {
   "cell_type": "markdown",
   "metadata": {},
   "source": [
    "Estimators enable a more high-level and easier workflow with TensorFlow, simplifying: training, evaluation and dataset management. The above linear regression example is much simpler using Estimators:"
   ]
  },
  {
   "cell_type": "code",
   "execution_count": 17,
   "metadata": {},
   "outputs": [
    {
     "name": "stdout",
     "output_type": "stream",
     "text": [
      "INFO:tensorflow:Using default config.\n",
      "WARNING:tensorflow:Using temporary folder as model directory: /var/folders/kt/50kqr6596n52pkfjk2x5hl3h0000gp/T/tmplclskeii\n",
      "INFO:tensorflow:Using config: {'_model_dir': '/var/folders/kt/50kqr6596n52pkfjk2x5hl3h0000gp/T/tmplclskeii', '_tf_random_seed': 1, '_save_summary_steps': 100, '_save_checkpoints_secs': 600, '_save_checkpoints_steps': None, '_session_config': None, '_keep_checkpoint_max': 5, '_keep_checkpoint_every_n_hours': 10000, '_log_step_count_steps': 100}\n",
      "INFO:tensorflow:Create CheckpointSaverHook.\n",
      "INFO:tensorflow:Saving checkpoints for 1 into /var/folders/kt/50kqr6596n52pkfjk2x5hl3h0000gp/T/tmplclskeii/model.ckpt.\n",
      "INFO:tensorflow:loss = 9.0, step = 1\n",
      "INFO:tensorflow:global_step/sec: 915.919\n",
      "INFO:tensorflow:loss = 0.364415, step = 101 (0.111 sec)\n",
      "INFO:tensorflow:global_step/sec: 859.698\n",
      "INFO:tensorflow:loss = 0.0207924, step = 201 (0.116 sec)\n",
      "INFO:tensorflow:global_step/sec: 854.576\n",
      "INFO:tensorflow:loss = 0.00793199, step = 301 (0.117 sec)\n",
      "INFO:tensorflow:global_step/sec: 851.1\n",
      "INFO:tensorflow:loss = 0.00313569, step = 401 (0.117 sec)\n",
      "INFO:tensorflow:global_step/sec: 792.118\n",
      "INFO:tensorflow:loss = 0.00027045, step = 501 (0.126 sec)\n",
      "INFO:tensorflow:global_step/sec: 644.6\n",
      "INFO:tensorflow:loss = 5.94418e-05, step = 601 (0.156 sec)\n",
      "INFO:tensorflow:global_step/sec: 636.313\n",
      "INFO:tensorflow:loss = 4.91261e-06, step = 701 (0.162 sec)\n",
      "INFO:tensorflow:global_step/sec: 525.241\n",
      "INFO:tensorflow:loss = 1.51277e-06, step = 801 (0.187 sec)\n",
      "INFO:tensorflow:global_step/sec: 554.502\n",
      "INFO:tensorflow:loss = 3.61535e-07, step = 901 (0.183 sec)\n",
      "INFO:tensorflow:Saving checkpoints for 1000 into /var/folders/kt/50kqr6596n52pkfjk2x5hl3h0000gp/T/tmplclskeii/model.ckpt.\n",
      "INFO:tensorflow:Loss for final step: 3.5374e-08.\n",
      "INFO:tensorflow:Starting evaluation at 2017-10-26-14:09:12\n",
      "INFO:tensorflow:Restoring parameters from /var/folders/kt/50kqr6596n52pkfjk2x5hl3h0000gp/T/tmplclskeii/model.ckpt-1000\n",
      "INFO:tensorflow:Finished evaluation at 2017-10-26-14:09:14\n",
      "INFO:tensorflow:Saving dict for global step 1000: average_loss = 1.7464e-08, global_step = 1000, loss = 6.98558e-08\n",
      "INFO:tensorflow:Starting evaluation at 2017-10-26-14:09:15\n",
      "INFO:tensorflow:Restoring parameters from /var/folders/kt/50kqr6596n52pkfjk2x5hl3h0000gp/T/tmplclskeii/model.ckpt-1000\n",
      "INFO:tensorflow:Finished evaluation at 2017-10-26-14:09:16\n",
      "INFO:tensorflow:Saving dict for global step 1000: average_loss = 0.00253613, global_step = 1000, loss = 0.0101445\n",
      "train metrics: {'average_loss': 1.7463956e-08, 'loss': 6.9855822e-08, 'global_step': 1000}\n",
      "eval metrics: {'average_loss': 0.0025361348, 'loss': 0.010144539, 'global_step': 1000}\n"
     ]
    }
   ],
   "source": [
    "# A list of features\n",
    "feature_cols = [tf.feature_column.numeric_column(\"x\", shape=[1])]\n",
    "\n",
    "# Use LinearRegressor Estimator. There are various types of Estimators in tf, for classification, regression, neural nets etc.\n",
    "estimator = tf.estimator.LinearRegressor(feature_columns=feature_cols)\n",
    "\n",
    "# Generate the training and evaluation (testing) data\n",
    "x_train = np.array([1., 2., 3., 4.])\n",
    "y_train = np.array([0., -1., -2., -3.])\n",
    "x_eval = np.array([2., 5., 8., 1.])\n",
    "y_eval = np.array([-1.01, -4.1, -7., 0.])\n",
    "\n",
    "# Input training and evaluation data into the estimator, specifying batch size and number of epochs\n",
    "input_fn = tf.estimator.inputs.numpy_input_fn(\n",
    "    x={\"x\": x_train}, y=y_train, batch_size=4, num_epochs=None, shuffle=True)\n",
    "train_input_fn = tf.estimator.inputs.numpy_input_fn(\n",
    "    {\"x\": x_train}, y_train, batch_size=4, num_epochs=1000, shuffle=False)\n",
    "eval_input_fn = tf.estimator.inputs.numpy_input_fn(\n",
    "    {\"x\": x_eval}, y_eval, batch_size=4, num_epochs=1000, shuffle=False)\n",
    "       \n",
    "# Train the model in 1000 training steps\n",
    "estimator.train(input_fn=input_fn, steps=1000)\n",
    "\n",
    "# Evaluate the model\n",
    "train_metrics = estimator.evaluate(input_fn=train_input_fn)\n",
    "eval_metrics = estimator.evaluate(input_fn=eval_input_fn)\n",
    "print(\"train metrics: %r\" % train_metrics)\n",
    "print(\"eval metrics: %r\" % eval_metrics)"
   ]
  },
  {
   "cell_type": "markdown",
   "metadata": {},
   "source": [
    "## Custom model"
   ]
  },
  {
   "cell_type": "markdown",
   "metadata": {},
   "source": [
    "TensorFlow enables to build custom models, that is, to create a model which is not included in tf.estimator using low-level tf API, while still being able to use the benefits of high-level estimators."
   ]
  },
  {
   "cell_type": "code",
   "execution_count": 18,
   "metadata": {},
   "outputs": [
    {
     "name": "stdout",
     "output_type": "stream",
     "text": [
      "INFO:tensorflow:Using default config.\n",
      "WARNING:tensorflow:Using temporary folder as model directory: /var/folders/kt/50kqr6596n52pkfjk2x5hl3h0000gp/T/tmpdx053qlu\n",
      "INFO:tensorflow:Using config: {'_model_dir': '/var/folders/kt/50kqr6596n52pkfjk2x5hl3h0000gp/T/tmpdx053qlu', '_tf_random_seed': 1, '_save_summary_steps': 100, '_save_checkpoints_secs': 600, '_save_checkpoints_steps': None, '_session_config': None, '_keep_checkpoint_max': 5, '_keep_checkpoint_every_n_hours': 10000, '_log_step_count_steps': 100}\n",
      "INFO:tensorflow:Create CheckpointSaverHook.\n",
      "INFO:tensorflow:Saving checkpoints for 1 into /var/folders/kt/50kqr6596n52pkfjk2x5hl3h0000gp/T/tmpdx053qlu/model.ckpt.\n",
      "INFO:tensorflow:loss = 19.4683979238, step = 1\n",
      "INFO:tensorflow:global_step/sec: 920.546\n",
      "INFO:tensorflow:loss = 0.024501608079, step = 101 (0.111 sec)\n",
      "INFO:tensorflow:global_step/sec: 848.702\n",
      "INFO:tensorflow:loss = 0.00295356546819, step = 201 (0.118 sec)\n",
      "INFO:tensorflow:global_step/sec: 554.032\n",
      "INFO:tensorflow:loss = 7.99642422051e-05, step = 301 (0.179 sec)\n",
      "INFO:tensorflow:global_step/sec: 650.149\n",
      "INFO:tensorflow:loss = 1.25875577107e-05, step = 401 (0.154 sec)\n",
      "INFO:tensorflow:global_step/sec: 582.102\n",
      "INFO:tensorflow:loss = 2.90791186561e-06, step = 501 (0.172 sec)\n",
      "INFO:tensorflow:global_step/sec: 820.599\n",
      "INFO:tensorflow:loss = 7.63771601098e-08, step = 601 (0.121 sec)\n",
      "INFO:tensorflow:global_step/sec: 639.276\n",
      "INFO:tensorflow:loss = 1.65456004275e-08, step = 701 (0.158 sec)\n",
      "INFO:tensorflow:global_step/sec: 695.194\n",
      "INFO:tensorflow:loss = 3.10647469094e-09, step = 801 (0.143 sec)\n",
      "INFO:tensorflow:global_step/sec: 595.841\n",
      "INFO:tensorflow:loss = 1.47153317012e-10, step = 901 (0.166 sec)\n",
      "INFO:tensorflow:Saving checkpoints for 1000 into /var/folders/kt/50kqr6596n52pkfjk2x5hl3h0000gp/T/tmpdx053qlu/model.ckpt.\n",
      "INFO:tensorflow:Loss for final step: 1.40078250442e-11.\n",
      "INFO:tensorflow:Starting evaluation at 2017-10-26-14:09:23\n",
      "INFO:tensorflow:Restoring parameters from /var/folders/kt/50kqr6596n52pkfjk2x5hl3h0000gp/T/tmpdx053qlu/model.ckpt-1000\n",
      "INFO:tensorflow:Finished evaluation at 2017-10-26-14:09:24\n",
      "INFO:tensorflow:Saving dict for global step 1000: global_step = 1000, loss = 1.29762e-11\n",
      "INFO:tensorflow:Starting evaluation at 2017-10-26-14:09:24\n",
      "INFO:tensorflow:Restoring parameters from /var/folders/kt/50kqr6596n52pkfjk2x5hl3h0000gp/T/tmpdx053qlu/model.ckpt-1000\n",
      "INFO:tensorflow:Finished evaluation at 2017-10-26-14:09:26\n",
      "INFO:tensorflow:Saving dict for global step 1000: global_step = 1000, loss = 0.0101004\n",
      "train metrics: {'loss': 1.2976225e-11, 'global_step': 1000}\n",
      "eval metrics: {'loss': 0.010100369, 'global_step': 1000}\n"
     ]
    }
   ],
   "source": [
    "# Create the new model which returns tf.estimator.EstimatorSpec\n",
    "def model_fn(features, labels, mode):\n",
    "    \n",
    "    # Similar to the low-level API, define the variables that need to be estimated,\n",
    "    # and the graph producing the output\n",
    "    W = tf.get_variable(\"W\", [1], dtype=tf.float64)\n",
    "    b = tf.get_variable(\"b\", [1], dtype=tf.float64)\n",
    "    y = W * features['x'] + b\n",
    "    \n",
    "    # Loss sub-graph\n",
    "    loss = tf.reduce_sum(tf.square(y - labels))\n",
    "    \n",
    "    # Training sub-graph. Why do we need to change the global step?\n",
    "    global_step = tf.train.get_global_step()\n",
    "    optimizer = tf.train.GradientDescentOptimizer(0.01)\n",
    "    train = tf.group(optimizer.minimize(loss), tf.assign_add(global_step, 1))\n",
    "    \n",
    "    # Use EstimatorSpec to connect sub-graphs\n",
    "    return tf.estimator.EstimatorSpec(mode=mode, predictions=y, loss=loss, train_op=train)\n",
    "\n",
    "\n",
    "estimator = tf.estimator.Estimator(model_fn=model_fn)\n",
    "\n",
    "# The rest is same as earlier:\n",
    "x_train = np.array([1., 2., 3., 4.])\n",
    "y_train = np.array([0., -1., -2., -3.])\n",
    "x_eval = np.array([2., 5., 8., 1.])\n",
    "y_eval = np.array([-1.01, -4.1, -7, 0.])\n",
    "input_fn = tf.estimator.inputs.numpy_input_fn(\n",
    "    {\"x\": x_train}, y_train, batch_size=4, num_epochs=None, shuffle=True)\n",
    "train_input_fn = tf.estimator.inputs.numpy_input_fn(\n",
    "    {\"x\": x_train}, y_train, batch_size=4, num_epochs=1000, shuffle=False)\n",
    "eval_input_fn = tf.estimator.inputs.numpy_input_fn(\n",
    "    {\"x\": x_eval}, y_eval, batch_size=4, num_epochs=1000, shuffle=False)\n",
    "\n",
    "estimator.train(input_fn=input_fn, steps=1000)\n",
    "train_metrics = estimator.evaluate(input_fn=train_input_fn)\n",
    "eval_metrics = estimator.evaluate(input_fn=eval_input_fn)\n",
    "print(\"train metrics: %r\"% train_metrics)\n",
    "print(\"eval metrics: %r\"% eval_metrics)"
   ]
  },
  {
   "cell_type": "markdown",
   "metadata": {},
   "source": [
    "We got a similar (slightly better) result with our custom model, minimizing the loss function."
   ]
  },
  {
   "cell_type": "markdown",
   "metadata": {},
   "source": [
    "## References"
   ]
  },
  {
   "cell_type": "markdown",
   "metadata": {},
   "source": [
    "- cv-tricks.com website (link: http://cv-tricks.com/artificial-intelligence/deep-learning/deep-learning-frameworks/tensorflow/tensorflow-tutorial/)\n",
    "- tensorflow.org website"
   ]
  }
 ],
 "metadata": {
  "kernelspec": {
   "display_name": "Python 3",
   "language": "python",
   "name": "python3"
  },
  "language_info": {
   "codemirror_mode": {
    "name": "ipython",
    "version": 3
   },
   "file_extension": ".py",
   "mimetype": "text/x-python",
   "name": "python",
   "nbconvert_exporter": "python",
   "pygments_lexer": "ipython3",
   "version": "3.6.1"
  },
  "toc": {
   "nav_menu": {},
   "number_sections": false,
   "sideBar": true,
   "skip_h1_title": true,
   "toc_cell": true,
   "toc_position": {},
   "toc_section_display": "block",
   "toc_window_display": true
  }
 },
 "nbformat": 4,
 "nbformat_minor": 2
}
