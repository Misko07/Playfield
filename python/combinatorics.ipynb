{
 "cells": [
  {
   "cell_type": "code",
   "execution_count": 1,
   "metadata": {},
   "outputs": [],
   "source": [
    "import itertools"
   ]
  },
  {
   "cell_type": "markdown",
   "metadata": {},
   "source": [
    "# Permutations"
   ]
  },
  {
   "cell_type": "markdown",
   "metadata": {},
   "source": [
    "## Without replacement"
   ]
  },
  {
   "cell_type": "markdown",
   "metadata": {},
   "source": [
    "Let's say we have 4 elements {A, B, C, D}, and two spaces. In how many ways can we fill in the two spaces? We look at non-replacement case, eg. A occupying both spaces (A, A) is not possible.\n",
    "\n",
    "The formula for calculating the number of cases here is:\n",
    "\n",
    "$P(n,k) = \\frac{n!}{(n-k)!}$,\n",
    "\n",
    "where $n$ is the number of elements we have, and $k \\le n$ is the number of spaces. \n",
    "\n",
    "In this non-replacement case $k \\le n$ must be satisfied, otherwise we won't have enough elements to fill in all spaces."
   ]
  },
  {
   "cell_type": "code",
   "execution_count": 2,
   "metadata": {},
   "outputs": [],
   "source": [
    "def permutations_without_replacement(input_, num_spaces):\n",
    "    perms = []\n",
    "    for p in itertools.permutations(input_, num_spaces):\n",
    "        perms.append(p)\n",
    "    print(\"Permutations without replacement (n=%d, k=%d): %d\" % (len(input_), num_spaces, len(perms)))\n",
    "    return perms"
   ]
  },
  {
   "cell_type": "code",
   "execution_count": 4,
   "metadata": {},
   "outputs": [
    {
     "name": "stdout",
     "output_type": "stream",
     "text": [
      "Permutations without replacement (n=4, k=2): 12\n",
      "[('a', 'b'), ('a', 'c'), ('a', 'd'), ('b', 'a'), ('b', 'c'), ('b', 'd'), ('c', 'a'), ('c', 'b'), ('c', 'd'), ('d', 'a'), ('d', 'b'), ('d', 'c')]\n",
      "Permutations without replacement (n=4, k=4): 24\n",
      "Permutations without replacement (n=4, k=5): 0\n"
     ]
    }
   ],
   "source": [
    "# Examples\n",
    "\n",
    "ps1 = permutations_without_replacement('abcd', 2)\n",
    "print(ps1)\n",
    "\n",
    "ps1 = permutations_without_replacement('abcd', 4)\n",
    "\n",
    "# Let's try what happens if we use k > n, say k=5\n",
    "ps1 = permutations_without_replacement('abcd', 5)"
   ]
  },
  {
   "cell_type": "markdown",
   "metadata": {},
   "source": [
    "## With replacement"
   ]
  },
  {
   "cell_type": "markdown",
   "metadata": {},
   "source": [
    "Here again we have $n$ elements and $k$ spaces to fill, but this time elements can be repeated. Eg. a single element can be placed in all spaces. \n",
    "\n",
    "The formula for calculating the number of possible cases is even simpler:\n",
    "\n",
    "$P(n,k) = n^k$.\n",
    "\n",
    "In Python we need to use the `product` method in this case. It is equivalent to using $k$ nested loops to combine every possible tuple of $k$ elements."
   ]
  },
  {
   "cell_type": "code",
   "execution_count": 23,
   "metadata": {},
   "outputs": [],
   "source": [
    "def permutations_with_replacement(input_, num_spaces):\n",
    "    perms = []\n",
    "    for p in itertools.product(input_, repeat=num_spaces):\n",
    "        perms.append(p)\n",
    "    print(\"Permutations with replacement (n=%d, k=%d): %d\" % (len(input_), num_spaces, len(perms)))\n",
    "    return perms"
   ]
  },
  {
   "cell_type": "code",
   "execution_count": 41,
   "metadata": {},
   "outputs": [
    {
     "name": "stdout",
     "output_type": "stream",
     "text": [
      "Permutations with replacement (n=3, k=2): 9\n",
      "[('a', 'a'), ('a', 'b'), ('a', 'c'), ('b', 'a'), ('b', 'b'), ('b', 'c'), ('c', 'a'), ('c', 'b'), ('c', 'c')]\n",
      "Permutations with replacement (n=3, k=3): 27\n",
      "[('a', 'a', 'a'), ('a', 'a', 'b'), ('a', 'a', 'c'), ('a', 'b', 'a'), ('a', 'b', 'b'), ('a', 'b', 'c'), ('a', 'c', 'a'), ('a', 'c', 'b'), ('a', 'c', 'c'), ('b', 'a', 'a'), ('b', 'a', 'b'), ('b', 'a', 'c'), ('b', 'b', 'a'), ('b', 'b', 'b'), ('b', 'b', 'c'), ('b', 'c', 'a'), ('b', 'c', 'b'), ('b', 'c', 'c'), ('c', 'a', 'a'), ('c', 'a', 'b'), ('c', 'a', 'c'), ('c', 'b', 'a'), ('c', 'b', 'b'), ('c', 'b', 'c'), ('c', 'c', 'a'), ('c', 'c', 'b'), ('c', 'c', 'c')]\n",
      "Permutations with replacement (n=3, k=4): 81\n"
     ]
    }
   ],
   "source": [
    "ps1 = permutations_with_replacement(input_='abc', num_spaces=2)\n",
    "print(ps1)\n",
    "\n",
    "ps2 = permutations_with_replacement(input_='abc', num_spaces=3)\n",
    "print(ps2)\n",
    "\n",
    "ps3 = permutations_with_replacement(input_='abc', num_spaces=4)"
   ]
  },
  {
   "cell_type": "markdown",
   "metadata": {},
   "source": [
    "# Combinations"
   ]
  },
  {
   "cell_type": "markdown",
   "metadata": {},
   "source": [
    "## Without replacement"
   ]
  },
  {
   "cell_type": "markdown",
   "metadata": {},
   "source": [
    "The number of combinations of $n$ elements put into $k \\le n$ spaces is:\n",
    "\n",
    "$C(n,k) = \\frac{n!}{(n-k)!k!}$.\n",
    "\n",
    "So how's it different to permutations $P(n,k)$? In combinations the order of element doesn't matter (a, b) is same as (b, a) and counted as once. In permutations, these are 2 different outcomes."
   ]
  },
  {
   "cell_type": "code",
   "execution_count": 30,
   "metadata": {},
   "outputs": [],
   "source": [
    "def combinations(input_, num_spaces):\n",
    "    combs = []\n",
    "    for c in itertools.combinations(input_, num_spaces):\n",
    "        combs.append(c)\n",
    "    print(\"Combinations without replacement (n=%d, k=%d): %d\" % (len(input_), num_spaces, len(combs)))\n",
    "    return combs"
   ]
  },
  {
   "cell_type": "code",
   "execution_count": 40,
   "metadata": {},
   "outputs": [
    {
     "name": "stdout",
     "output_type": "stream",
     "text": [
      "Combinations without replacement (n=4, k=2): 6\n",
      "[('a', 'b'), ('a', 'c'), ('a', 'd'), ('b', 'c'), ('b', 'd'), ('c', 'd')]\n",
      "Combinations without replacement (n=4, k=2): 6\n",
      "[('a', 'a'), ('a', 'a'), ('a', 'a'), ('a', 'a'), ('a', 'a'), ('a', 'a')]\n",
      "Combinations without replacement (n=3, k=3): 1\n",
      "Combinations without replacement (n=3, k=4): 0\n"
     ]
    }
   ],
   "source": [
    "cs1 = combinations('abcd', 2)\n",
    "print(cs1)\n",
    "\n",
    "# In this case all 4 letters are a separate element, although the same\n",
    "cs2 = combinations('aaaa', 2)\n",
    "print(cs2)\n",
    "\n",
    "cs3 = combinations('abc', 3)\n",
    "cs3 = combinations('abc', 4)"
   ]
  },
  {
   "cell_type": "markdown",
   "metadata": {},
   "source": [
    "--------"
   ]
  },
  {
   "cell_type": "markdown",
   "metadata": {},
   "source": [
    "**Problem**:\n",
    "\n",
    "Print out all permutations of a wor"
   ]
  },
  {
   "cell_type": "code",
   "execution_count": 119,
   "metadata": {},
   "outputs": [],
   "source": [
    "A = ['a', 'b', 'c']\n",
    "\n",
    "def _permute(a: tuple, lo: int, hi: int, res: list):\n",
    "\n",
    "    if lo == hi:\n",
    "#         print(''.join([e for e in a]))\n",
    "        res.append(''.join([e for e in a]))\n",
    "#         print(\"-\" * 10)\n",
    "        \n",
    "    for i in range(lo, hi):\n",
    "#         print(\"- \" * lo + 'a=%s, lo=%d, i=%d, flipping %s and %s' % (''.join([e for e in a]), lo, i, a[lo], a[i]))\n",
    "        a[lo], a[i] = a[i], a[lo]\n",
    "        _permute(a, lo+1, hi, res)\n",
    "        a[lo], a[i] = a[i], a[lo]  # backtracking\n",
    "                \n",
    "        \n",
    "def permute(a: str):\n",
    "    res = []\n",
    "    _permute(list(a), 0, len(a), res)\n",
    "    return sorted(res)"
   ]
  },
  {
   "cell_type": "code",
   "execution_count": 120,
   "metadata": {},
   "outputs": [
    {
     "name": "stdout",
     "output_type": "stream",
     "text": [
      "r ['abc', 'acb', 'bac', 'bca', 'cab', 'cba']\n"
     ]
    }
   ],
   "source": [
    "r = permute(A)\n",
    "print('r', r)"
   ]
  },
  {
   "cell_type": "markdown",
   "metadata": {},
   "source": [
    "--------"
   ]
  },
  {
   "cell_type": "markdown",
   "metadata": {},
   "source": [
    "Can this be done with returning values in the recursion?"
   ]
  },
  {
   "cell_type": "code",
   "execution_count": 116,
   "metadata": {},
   "outputs": [],
   "source": [
    "def _permute(a: tuple, lo: int, hi: int):\n",
    "\n",
    "    res = []\n",
    "    if lo == hi:\n",
    "#         print(''.join([e for e in a]))\n",
    "        res.append(''.join([e for e in a]))\n",
    "        return res\n",
    "#         print(\"-\" * 10)\n",
    "        \n",
    "    for i in range(lo, hi):\n",
    "#         print(\"- \" * lo + 'a=%s, lo=%d, i=%d, flipping %s and %s' % (''.join([e for e in a]), lo, i, a[lo], a[i]))\n",
    "        a[lo], a[i] = a[i], a[lo]\n",
    "        res.extend(_permute(a, lo+1, hi))\n",
    "        a[lo], a[i] = a[i], a[lo]  # backtracking\n",
    "                \n",
    "        \n",
    "def permute(a: str):\n",
    "    r = _permute(list(a), 0, len(a))\n",
    "    return sorted(r)"
   ]
  },
  {
   "cell_type": "code",
   "execution_count": 117,
   "metadata": {},
   "outputs": [
    {
     "ename": "TypeError",
     "evalue": "'NoneType' object is not iterable",
     "output_type": "error",
     "traceback": [
      "\u001b[0;31m---------------------------------------------------------------------------\u001b[0m",
      "\u001b[0;31mTypeError\u001b[0m                                 Traceback (most recent call last)",
      "\u001b[0;32m<ipython-input-117-656cb79f5c50>\u001b[0m in \u001b[0;36m<module>\u001b[0;34m\u001b[0m\n\u001b[0;32m----> 1\u001b[0;31m \u001b[0mr\u001b[0m \u001b[0;34m=\u001b[0m \u001b[0mpermute\u001b[0m\u001b[0;34m(\u001b[0m\u001b[0mA\u001b[0m\u001b[0;34m)\u001b[0m\u001b[0;34m\u001b[0m\u001b[0;34m\u001b[0m\u001b[0m\n\u001b[0m\u001b[1;32m      2\u001b[0m \u001b[0mprint\u001b[0m\u001b[0;34m(\u001b[0m\u001b[0;34m'r'\u001b[0m\u001b[0;34m,\u001b[0m \u001b[0mr\u001b[0m\u001b[0;34m)\u001b[0m\u001b[0;34m\u001b[0m\u001b[0;34m\u001b[0m\u001b[0m\n",
      "\u001b[0;32m<ipython-input-116-eddc8e5f22fb>\u001b[0m in \u001b[0;36mpermute\u001b[0;34m(a)\u001b[0m\n\u001b[1;32m     16\u001b[0m \u001b[0;34m\u001b[0m\u001b[0m\n\u001b[1;32m     17\u001b[0m \u001b[0;32mdef\u001b[0m \u001b[0mpermute\u001b[0m\u001b[0;34m(\u001b[0m\u001b[0ma\u001b[0m\u001b[0;34m:\u001b[0m \u001b[0mstr\u001b[0m\u001b[0;34m)\u001b[0m\u001b[0;34m:\u001b[0m\u001b[0;34m\u001b[0m\u001b[0;34m\u001b[0m\u001b[0m\n\u001b[0;32m---> 18\u001b[0;31m     \u001b[0mr\u001b[0m \u001b[0;34m=\u001b[0m \u001b[0m_permute\u001b[0m\u001b[0;34m(\u001b[0m\u001b[0mlist\u001b[0m\u001b[0;34m(\u001b[0m\u001b[0ma\u001b[0m\u001b[0;34m)\u001b[0m\u001b[0;34m,\u001b[0m \u001b[0;36m0\u001b[0m\u001b[0;34m,\u001b[0m \u001b[0mlen\u001b[0m\u001b[0;34m(\u001b[0m\u001b[0ma\u001b[0m\u001b[0;34m)\u001b[0m\u001b[0;34m)\u001b[0m\u001b[0;34m\u001b[0m\u001b[0;34m\u001b[0m\u001b[0m\n\u001b[0m\u001b[1;32m     19\u001b[0m     \u001b[0;32mreturn\u001b[0m \u001b[0msorted\u001b[0m\u001b[0;34m(\u001b[0m\u001b[0mr\u001b[0m\u001b[0;34m)\u001b[0m\u001b[0;34m\u001b[0m\u001b[0;34m\u001b[0m\u001b[0m\n",
      "\u001b[0;32m<ipython-input-116-eddc8e5f22fb>\u001b[0m in \u001b[0;36m_permute\u001b[0;34m(a, lo, hi)\u001b[0m\n\u001b[1;32m     11\u001b[0m \u001b[0;31m#         print(\"- \" * lo + 'a=%s, lo=%d, i=%d, flipping %s and %s' % (''.join([e for e in a]), lo, i, a[lo], a[i]))\u001b[0m\u001b[0;34m\u001b[0m\u001b[0;34m\u001b[0m\u001b[0;34m\u001b[0m\u001b[0m\n\u001b[1;32m     12\u001b[0m         \u001b[0ma\u001b[0m\u001b[0;34m[\u001b[0m\u001b[0mlo\u001b[0m\u001b[0;34m]\u001b[0m\u001b[0;34m,\u001b[0m \u001b[0ma\u001b[0m\u001b[0;34m[\u001b[0m\u001b[0mi\u001b[0m\u001b[0;34m]\u001b[0m \u001b[0;34m=\u001b[0m \u001b[0ma\u001b[0m\u001b[0;34m[\u001b[0m\u001b[0mi\u001b[0m\u001b[0;34m]\u001b[0m\u001b[0;34m,\u001b[0m \u001b[0ma\u001b[0m\u001b[0;34m[\u001b[0m\u001b[0mlo\u001b[0m\u001b[0;34m]\u001b[0m\u001b[0;34m\u001b[0m\u001b[0;34m\u001b[0m\u001b[0m\n\u001b[0;32m---> 13\u001b[0;31m         \u001b[0mres\u001b[0m\u001b[0;34m.\u001b[0m\u001b[0mextend\u001b[0m\u001b[0;34m(\u001b[0m\u001b[0m_permute\u001b[0m\u001b[0;34m(\u001b[0m\u001b[0ma\u001b[0m\u001b[0;34m,\u001b[0m \u001b[0mlo\u001b[0m\u001b[0;34m+\u001b[0m\u001b[0;36m1\u001b[0m\u001b[0;34m,\u001b[0m \u001b[0mhi\u001b[0m\u001b[0;34m)\u001b[0m\u001b[0;34m)\u001b[0m\u001b[0;34m\u001b[0m\u001b[0;34m\u001b[0m\u001b[0m\n\u001b[0m\u001b[1;32m     14\u001b[0m         \u001b[0ma\u001b[0m\u001b[0;34m[\u001b[0m\u001b[0mlo\u001b[0m\u001b[0;34m]\u001b[0m\u001b[0;34m,\u001b[0m \u001b[0ma\u001b[0m\u001b[0;34m[\u001b[0m\u001b[0mi\u001b[0m\u001b[0;34m]\u001b[0m \u001b[0;34m=\u001b[0m \u001b[0ma\u001b[0m\u001b[0;34m[\u001b[0m\u001b[0mi\u001b[0m\u001b[0;34m]\u001b[0m\u001b[0;34m,\u001b[0m \u001b[0ma\u001b[0m\u001b[0;34m[\u001b[0m\u001b[0mlo\u001b[0m\u001b[0;34m]\u001b[0m  \u001b[0;31m# backtracking\u001b[0m\u001b[0;34m\u001b[0m\u001b[0;34m\u001b[0m\u001b[0m\n\u001b[1;32m     15\u001b[0m \u001b[0;34m\u001b[0m\u001b[0m\n",
      "\u001b[0;32m<ipython-input-116-eddc8e5f22fb>\u001b[0m in \u001b[0;36m_permute\u001b[0;34m(a, lo, hi)\u001b[0m\n\u001b[1;32m     11\u001b[0m \u001b[0;31m#         print(\"- \" * lo + 'a=%s, lo=%d, i=%d, flipping %s and %s' % (''.join([e for e in a]), lo, i, a[lo], a[i]))\u001b[0m\u001b[0;34m\u001b[0m\u001b[0;34m\u001b[0m\u001b[0;34m\u001b[0m\u001b[0m\n\u001b[1;32m     12\u001b[0m         \u001b[0ma\u001b[0m\u001b[0;34m[\u001b[0m\u001b[0mlo\u001b[0m\u001b[0;34m]\u001b[0m\u001b[0;34m,\u001b[0m \u001b[0ma\u001b[0m\u001b[0;34m[\u001b[0m\u001b[0mi\u001b[0m\u001b[0;34m]\u001b[0m \u001b[0;34m=\u001b[0m \u001b[0ma\u001b[0m\u001b[0;34m[\u001b[0m\u001b[0mi\u001b[0m\u001b[0;34m]\u001b[0m\u001b[0;34m,\u001b[0m \u001b[0ma\u001b[0m\u001b[0;34m[\u001b[0m\u001b[0mlo\u001b[0m\u001b[0;34m]\u001b[0m\u001b[0;34m\u001b[0m\u001b[0;34m\u001b[0m\u001b[0m\n\u001b[0;32m---> 13\u001b[0;31m         \u001b[0mres\u001b[0m\u001b[0;34m.\u001b[0m\u001b[0mextend\u001b[0m\u001b[0;34m(\u001b[0m\u001b[0m_permute\u001b[0m\u001b[0;34m(\u001b[0m\u001b[0ma\u001b[0m\u001b[0;34m,\u001b[0m \u001b[0mlo\u001b[0m\u001b[0;34m+\u001b[0m\u001b[0;36m1\u001b[0m\u001b[0;34m,\u001b[0m \u001b[0mhi\u001b[0m\u001b[0;34m)\u001b[0m\u001b[0;34m)\u001b[0m\u001b[0;34m\u001b[0m\u001b[0;34m\u001b[0m\u001b[0m\n\u001b[0m\u001b[1;32m     14\u001b[0m         \u001b[0ma\u001b[0m\u001b[0;34m[\u001b[0m\u001b[0mlo\u001b[0m\u001b[0;34m]\u001b[0m\u001b[0;34m,\u001b[0m \u001b[0ma\u001b[0m\u001b[0;34m[\u001b[0m\u001b[0mi\u001b[0m\u001b[0;34m]\u001b[0m \u001b[0;34m=\u001b[0m \u001b[0ma\u001b[0m\u001b[0;34m[\u001b[0m\u001b[0mi\u001b[0m\u001b[0;34m]\u001b[0m\u001b[0;34m,\u001b[0m \u001b[0ma\u001b[0m\u001b[0;34m[\u001b[0m\u001b[0mlo\u001b[0m\u001b[0;34m]\u001b[0m  \u001b[0;31m# backtracking\u001b[0m\u001b[0;34m\u001b[0m\u001b[0;34m\u001b[0m\u001b[0m\n\u001b[1;32m     15\u001b[0m \u001b[0;34m\u001b[0m\u001b[0m\n",
      "\u001b[0;31mTypeError\u001b[0m: 'NoneType' object is not iterable"
     ]
    }
   ],
   "source": [
    "r = permute(A)\n",
    "print('r', r)"
   ]
  }
 ],
 "metadata": {
  "kernelspec": {
   "display_name": "Python 3",
   "language": "python",
   "name": "python3"
  },
  "language_info": {
   "codemirror_mode": {
    "name": "ipython",
    "version": 3
   },
   "file_extension": ".py",
   "mimetype": "text/x-python",
   "name": "python",
   "nbconvert_exporter": "python",
   "pygments_lexer": "ipython3",
   "version": "3.7.3"
  }
 },
 "nbformat": 4,
 "nbformat_minor": 2
}
