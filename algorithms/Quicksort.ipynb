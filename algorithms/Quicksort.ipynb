{
 "cells": [
  {
   "cell_type": "code",
   "execution_count": 121,
   "metadata": {
    "collapsed": true
   },
   "outputs": [],
   "source": [
    "class Quick:\n",
    "    \n",
    "    \n",
    "    def __init__(self):\n",
    "        pass\n",
    "    \n",
    "    \n",
    "    def _partition(self, arr, lo, hi):\n",
    "        i = lo + 1\n",
    "        j = hi\n",
    "        \n",
    "        while True:\n",
    "            \n",
    "            # Find the first larger item than arr[lo], starting from left\n",
    "            while arr[i] < arr[lo]:\n",
    "                i += 1\n",
    "                if i >= hi:\n",
    "                    break\n",
    "        \n",
    "            # Find the first smaller item than arr[lo], starting from right\n",
    "            while arr[j] > arr[lo]:\n",
    "                j -= 1\n",
    "                if j <= lo:\n",
    "                    break\n",
    "                    \n",
    "            if i >= j:\n",
    "                arr[lo], arr[j] = arr[j], arr[lo]\n",
    "                return j, arr\n",
    "            \n",
    "            arr[i], arr[j] = arr[j], arr[i]\n",
    "            j -= 1\n",
    "            i += 1\n",
    "        \n",
    "\n",
    "            \n",
    "    def _sort(self, arr, lo, hi):\n",
    "                \n",
    "        if lo >=  hi:\n",
    "            return\n",
    "        \n",
    "        j, arr = self._partition(arr, lo, hi)\n",
    "        self._sort(arr, lo, j-1)\n",
    "        self._sort(arr, j+1, hi)\n",
    "    \n",
    "    \n",
    "    def sort(self, arr):\n",
    "        self._sort(arr, 0, len(arr)-1)\n",
    "        \n",
    "        \n",
    "    def is_sorted(self, arr):\n",
    "        a_prev = arr[0]\n",
    "        for a in arr[1:]:\n",
    "            if a < a_prev:\n",
    "                return False\n",
    "        return True"
   ]
  },
  {
   "cell_type": "code",
   "execution_count": 94,
   "metadata": {
    "collapsed": true
   },
   "outputs": [],
   "source": [
    "a2 = np.random.randint(low=0, high=100, size=100)"
   ]
  },
  {
   "cell_type": "code",
   "execution_count": 143,
   "metadata": {},
   "outputs": [
    {
     "name": "stdout",
     "output_type": "stream",
     "text": [
      "[  0   0   0 ... 999 999 999]\n",
      "Sorted: True\n"
     ]
    }
   ],
   "source": [
    "import numpy as np\n",
    "\n",
    "a = [4, 2, 6, 1, 0, 3, 5]\n",
    "a1 = [30, 20, 40, 10, 80, 0]\n",
    "a3 = np.random.randint(low=0, high=1000, size=1000000)\n",
    "\n",
    "quicksort = Quick()\n",
    "quicksort.sort(a3)\n",
    "print(a3)\n",
    "print(\"Sorted:\", quicksort.is_sorted(a3))"
   ]
  }
 ],
 "metadata": {
  "kernelspec": {
   "display_name": "Python 3",
   "language": "python",
   "name": "python3"
  },
  "language_info": {
   "codemirror_mode": {
    "name": "ipython",
    "version": 3
   },
   "file_extension": ".py",
   "mimetype": "text/x-python",
   "name": "python",
   "nbconvert_exporter": "python",
   "pygments_lexer": "ipython3",
   "version": "3.6.1"
  },
  "toc": {
   "nav_menu": {},
   "number_sections": false,
   "sideBar": true,
   "skip_h1_title": true,
   "toc_cell": false,
   "toc_position": {},
   "toc_section_display": "block",
   "toc_window_display": true
  }
 },
 "nbformat": 4,
 "nbformat_minor": 2
}
