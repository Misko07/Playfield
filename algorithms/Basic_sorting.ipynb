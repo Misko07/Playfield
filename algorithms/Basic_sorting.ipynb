{
 "cells": [
  {
   "cell_type": "code",
   "execution_count": 2,
   "metadata": {},
   "outputs": [],
   "source": [
    "import random"
   ]
  },
  {
   "cell_type": "code",
   "execution_count": 21,
   "metadata": {},
   "outputs": [
    {
     "data": {
      "text/plain": [
       "[84, 90, 82, 4, 87, 6, 7, 71, 90, 100, 100, 24, 31, 58, 37, 39, 85, 4, 77, 51]"
      ]
     },
     "execution_count": 21,
     "metadata": {},
     "output_type": "execute_result"
    }
   ],
   "source": [
    "a = [random.randint(a=1, b=100) for _ in range(20)]\n",
    "a"
   ]
  },
  {
   "cell_type": "markdown",
   "metadata": {},
   "source": [
    "## Insertion sort"
   ]
  },
  {
   "cell_type": "code",
   "execution_count": 48,
   "metadata": {},
   "outputs": [],
   "source": [
    "def insertion_sort(ar: list):\n",
    "    \"\"\" Ascending sort a list of numbers using Insertion Sort.\n",
    "    Modifies input list inplace.\n",
    "    :return: /\n",
    "    \"\"\"\n",
    "    for i in range(1, len(ar)):\n",
    "        for j in range(i, 0, -1):\n",
    "            if ar[j] < ar[j-1]:\n",
    "                ar[j], ar[j-1] = ar[j-1], ar[j]\n",
    "            else:\n",
    "                break"
   ]
  },
  {
   "cell_type": "code",
   "execution_count": 50,
   "metadata": {},
   "outputs": [
    {
     "name": "stdout",
     "output_type": "stream",
     "text": [
      "[84, 90, 82, 4, 87, 6, 7, 71, 90, 100, 100, 24, 31, 58, 37, 39, 85, 4, 77, 51]\n",
      "[4, 4, 6, 7, 24, 31, 37, 39, 51, 58, 71, 77, 82, 84, 85, 87, 90, 90, 100, 100]\n"
     ]
    }
   ],
   "source": [
    "b = a.copy()\n",
    "print(b)\n",
    "insertion_sort(b)\n",
    "print(b)"
   ]
  },
  {
   "cell_type": "markdown",
   "metadata": {},
   "source": [
    "## Selection sort"
   ]
  },
  {
   "cell_type": "code",
   "execution_count": 51,
   "metadata": {},
   "outputs": [],
   "source": [
    "def selection_sort(ar: list):\n",
    "    \"\"\" Ascending sort a list of numbers using Selection Sort.\n",
    "    Modifies input list inplace.\n",
    "    :return: /\n",
    "    \"\"\"\n",
    "    for i in range(len(ar)):\n",
    "        min_ = int(inf)\n",
    "        for j in range(i, len(ar)):\n",
    "            if ar[j] < min_:\n",
    "                min_= j\n",
    "        ar[i], ar[min_] = ar[min_], ar[i]"
   ]
  },
  {
   "cell_type": "code",
   "execution_count": 52,
   "metadata": {},
   "outputs": [
    {
     "name": "stdout",
     "output_type": "stream",
     "text": [
      "[84, 90, 82, 4, 87, 6, 7, 71, 90, 100, 100, 24, 31, 58, 37, 39, 85, 4, 77, 51]\n",
      "[4, 4, 6, 7, 24, 31, 37, 39, 51, 58, 71, 77, 82, 84, 85, 87, 90, 90, 100, 100]\n"
     ]
    }
   ],
   "source": [
    "b = a.copy()\n",
    "print(b)\n",
    "insertion_sort(b)\n",
    "print(b)"
   ]
  }
 ],
 "metadata": {
  "kernelspec": {
   "display_name": "Python 3",
   "language": "python",
   "name": "python3"
  },
  "language_info": {
   "codemirror_mode": {
    "name": "ipython",
    "version": 3
   },
   "file_extension": ".py",
   "mimetype": "text/x-python",
   "name": "python",
   "nbconvert_exporter": "python",
   "pygments_lexer": "ipython3",
   "version": "3.6.8"
  }
 },
 "nbformat": 4,
 "nbformat_minor": 2
}
