{
 "cells": [
  {
   "cell_type": "markdown",
   "metadata": {},
   "source": [
    "An implementation of a Symbol Table using a Binary Search Tree with linked lists in Python..\n",
    "\n",
    "The idea of using a binary search tree is to speed up the two basic operations of symbol tables:\n",
    "- insert(key, value) - insert a (key, value) pair in our collection. If key already exists, overwrite it;\n",
    "- get(key) - get the value of an item, given its key."
   ]
  },
  {
   "cell_type": "code",
   "execution_count": 33,
   "metadata": {},
   "outputs": [],
   "source": [
    "class BST:\n",
    "   \n",
    "    def __init__(self):\n",
    "        self.len = 0\n",
    "        self.root = None\n",
    "    \n",
    "    \n",
    "    def insert(self, key, value):\n",
    "        self.root = self._insert(self.root, key, value)\n",
    "        self.len += 1\n",
    "        \n",
    "        \n",
    "    def _insert(self, node, key, value):\n",
    "        \n",
    "        if node:\n",
    "            if key < node.key:\n",
    "                node.left = self._insert(node.left, key, value)\n",
    "            elif key > node.key:\n",
    "                node.right = self._insert(node.right, key, value)\n",
    "            else:\n",
    "                node.value = value\n",
    "        else:\n",
    "            node = self.Node(key, value)\n",
    "        return node\n",
    "               \n",
    "    \n",
    "    def get(self, key):\n",
    "        print('search for key:', key)\n",
    "        return self._get(self.root, key)\n",
    "                         \n",
    "    \n",
    "    def _get(self, node, key):\n",
    "        \n",
    "        if node:\n",
    "            print('get:', node.key)\n",
    "            if key < node.key:\n",
    "                return self._get(node.left, key)\n",
    "            elif key > node.key:\n",
    "                return self._get(node.right, key)\n",
    "            else:\n",
    "                return node.value\n",
    "        else:\n",
    "            return None\n",
    "    \n",
    "    \n",
    "    def print_tree(self):\n",
    "        node_list = [self.root]\n",
    "        tree = []\n",
    "        for node in node_list:\n",
    "            if node:\n",
    "                tree.append(\"(%d, %s)\" % (node.key, node.value))\n",
    "                node_list.append(node.left)\n",
    "                node_list.append(node.right)\n",
    "            else:\n",
    "                tree.append(\"None\")\n",
    "        print(tree)\n",
    "\n",
    "            \n",
    "    class Node:\n",
    "    \n",
    "        def __init__(self, key, value):\n",
    "            self.key = key\n",
    "            self.value = value\n",
    "            self.left = None\n",
    "            self.right = None\n"
   ]
  },
  {
   "cell_type": "code",
   "execution_count": 34,
   "metadata": {},
   "outputs": [
    {
     "name": "stdout",
     "output_type": "stream",
     "text": [
      "['(1, a)', '(0, b)', '(4, e)', 'None', 'None', '(2, c)', 'None', 'None', '(3, d)', 'None', 'None']\n",
      "search for key: 2\n",
      "get: 1\n",
      "get: 4\n",
      "get: 2\n",
      "c\n",
      "search for key: 10\n",
      "get: 1\n",
      "get: 4\n",
      "None\n"
     ]
    }
   ],
   "source": [
    "b = BST()\n",
    "b.insert(1, 'a')\n",
    "b.insert(4, 'e')\n",
    "b.insert(0, 'b')\n",
    "b.insert(2, 'c')\n",
    "b.insert(3, 'd')\n",
    "\n",
    "b.print_tree()\n",
    "print(b.get(2))\n",
    "print(b.get(10))\n"
   ]
  }
 ],
 "metadata": {
  "kernelspec": {
   "display_name": "Python 3",
   "language": "python",
   "name": "python3"
  },
  "language_info": {
   "codemirror_mode": {
    "name": "ipython",
    "version": 3
   },
   "file_extension": ".py",
   "mimetype": "text/x-python",
   "name": "python",
   "nbconvert_exporter": "python",
   "pygments_lexer": "ipython3",
   "version": "3.7.1"
  }
 },
 "nbformat": 4,
 "nbformat_minor": 2
}
