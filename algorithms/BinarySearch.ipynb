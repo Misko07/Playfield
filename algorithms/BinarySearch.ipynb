{
 "cells": [
  {
   "cell_type": "code",
   "execution_count": 1,
   "metadata": {},
   "outputs": [],
   "source": [
    "import random"
   ]
  },
  {
   "cell_type": "code",
   "execution_count": 26,
   "metadata": {},
   "outputs": [
    {
     "name": "stdout",
     "output_type": "stream",
     "text": [
      "[2, 9, 16, 18, 23, 28, 35, 35, 49, 60, 63, 67, 72, 86, 86, 90, 92, 95, 100, 100]\n",
      "97\n"
     ]
    }
   ],
   "source": [
    "a = sorted([random.randint(a=1, b=100) for _ in range(20)])\n",
    "print(a)\n",
    "\n",
    "q = random.randint(a=1, b=100)  # search item\n",
    "print(q)"
   ]
  },
  {
   "cell_type": "code",
   "execution_count": 22,
   "metadata": {},
   "outputs": [],
   "source": [
    "def binary_search(ar, item):\n",
    "    \"\"\" Binary search an element `item` in an ascending sorted array `ar`.\n",
    "    Recursive mode.\n",
    "    \n",
    "    :return: int - index of element if found, None otherwise\n",
    "    \"\"\"\n",
    "    print(\"Search item:\", item)\n",
    "    print(\"Search array:\", ar)\n",
    "    return _bin_search(ar, item, 0, len(ar))\n",
    "\n",
    "\n",
    "def _bin_search(ar, item, lo, hi):\n",
    "\n",
    "    print(\"(lo, hi): (%d, %d). searching in %s\" % (lo, hi, str(ar[lo:hi])))\n",
    "    \n",
    "    if lo >= hi:\n",
    "        return None\n",
    "    else:\n",
    "        mid = lo + (hi-lo) // 2\n",
    "        print('ar[mid=%d] = %d' % (mid, ar[mid]))\n",
    "        if item < ar[mid]:\n",
    "            return _bin_search(ar, item, lo, mid)\n",
    "        elif item > ar[mid]:\n",
    "            return _bin_search(ar, item, mid+1, hi)\n",
    "        else:\n",
    "            return mid"
   ]
  },
  {
   "cell_type": "code",
   "execution_count": 27,
   "metadata": {},
   "outputs": [
    {
     "name": "stdout",
     "output_type": "stream",
     "text": [
      "Search item: 97\n",
      "Search array: [2, 9, 16, 18, 23, 28, 35, 35, 49, 60, 63, 67, 72, 86, 86, 90, 92, 95, 100, 100]\n",
      "(lo, hi): (0, 20). searching in [2, 9, 16, 18, 23, 28, 35, 35, 49, 60, 63, 67, 72, 86, 86, 90, 92, 95, 100, 100]\n",
      "ar[mid=10] = 63\n",
      "(lo, hi): (11, 20). searching in [67, 72, 86, 86, 90, 92, 95, 100, 100]\n",
      "ar[mid=15] = 90\n",
      "(lo, hi): (16, 20). searching in [92, 95, 100, 100]\n",
      "ar[mid=18] = 100\n",
      "(lo, hi): (16, 18). searching in [92, 95]\n",
      "ar[mid=17] = 95\n",
      "(lo, hi): (18, 18). searching in []\n",
      "result None\n"
     ]
    }
   ],
   "source": [
    "r = binary_search(a, q)\n",
    "print('result', r)"
   ]
  }
 ],
 "metadata": {
  "kernelspec": {
   "display_name": "Python 3",
   "language": "python",
   "name": "python3"
  },
  "language_info": {
   "codemirror_mode": {
    "name": "ipython",
    "version": 3
   },
   "file_extension": ".py",
   "mimetype": "text/x-python",
   "name": "python",
   "nbconvert_exporter": "python",
   "pygments_lexer": "ipython3",
   "version": "3.6.8"
  }
 },
 "nbformat": 4,
 "nbformat_minor": 2
}
