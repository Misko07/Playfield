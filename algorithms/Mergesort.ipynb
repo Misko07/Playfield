{
 "cells": [
  {
   "cell_type": "code",
   "execution_count": 1,
   "metadata": {
    "collapsed": true
   },
   "outputs": [],
   "source": [
    "# mergesort algorithm"
   ]
  },
  {
   "cell_type": "code",
   "execution_count": 5,
   "metadata": {
    "collapsed": true
   },
   "outputs": [],
   "source": [
    "class Merge:\n",
    "    \n",
    "    def __init__(self, arr=None):\n",
    "        self.arr = []\n",
    "        self.aux = []\n",
    "    \n",
    "    \n",
    "    def sort(self, a):\n",
    "        self.arr = a\n",
    "        self.aux = []\n",
    "        self._sort(0, len(a)-1)\n",
    "    \n",
    "    \n",
    "    def _merge(self, lo, mid, hi):\n",
    "\n",
    "        # Copy array on each iteration\n",
    "        self.aux = self.arr.copy()\n",
    "        \n",
    "        # Merge left with right half of array\n",
    "        i = lo\n",
    "        j = mid + 1\n",
    "        for k in range(lo, hi+1):\n",
    "            if i > mid:\n",
    "                self.arr[k] = self.aux[j]\n",
    "                j += 1\n",
    "            elif j > hi:\n",
    "                self.arr[k] = self.aux[i]\n",
    "                i += 1\n",
    "            elif self.aux[i] <= self.aux[j]:\n",
    "                self.arr[k] = self.aux[i]\n",
    "                i += 1\n",
    "            else:\n",
    "                self.arr[k] = self.aux[j]\n",
    "                j += 1\n",
    "            \n",
    "    \n",
    "    def _sort(self, lo, hi):\n",
    "               \n",
    "        if lo >= hi:\n",
    "            return\n",
    "        \n",
    "        # Sort left and right subarrays recursively\n",
    "        mid = lo + (hi - lo) // 2\n",
    "        self._sort(lo, mid)\n",
    "        self._sort(mid+1, hi)\n",
    "        self._merge(lo, mid, hi)\n",
    "        \n",
    "    \n",
    "    def is_sorted(self, arr):\n",
    "        a_prev = arr[0]\n",
    "        for a in arr[1:]:\n",
    "            if a < a_prev:\n",
    "                return False\n",
    "        return True\n",
    "        "
   ]
  },
  {
   "cell_type": "code",
   "execution_count": 8,
   "metadata": {},
   "outputs": [
    {
     "name": "stdout",
     "output_type": "stream",
     "text": [
      "[ 0  1  1  3  4  5  5  6  6  6  7  9 10 10 10 11 11 12 12 12 15 15 16 16\n",
      " 17 18 20 20 21 23 23 25 26 28 28 29 31 31 32 32 34 36 39 39 41 45 45 46\n",
      " 48 49 50 51 54 54 56 58 59 61 62 63 64 65 66 67 67 69 74 75 75 76 76 77\n",
      " 77 78 79 79 81 81 83 84 84 85 85 86 87 87 88 90 91 91 91 94 94 94 95 97\n",
      " 97 98 99 99]\n",
      "sorted: True\n"
     ]
    }
   ],
   "source": [
    "import numpy as np\n",
    "\n",
    "a = [30, 20, 40, 10, 80, 0]\n",
    "a2 = np.random.randint(low=0, high=100, size=100)\n",
    "m = Merge()\n",
    "m.sort(a2)\n",
    "print(a2)\n",
    "print(\"sorted:\", m.is_sorted(a2))"
   ]
  }
 ],
 "metadata": {
  "kernelspec": {
   "display_name": "Python 3",
   "language": "python",
   "name": "python3"
  },
  "language_info": {
   "codemirror_mode": {
    "name": "ipython",
    "version": 3
   },
   "file_extension": ".py",
   "mimetype": "text/x-python",
   "name": "python",
   "nbconvert_exporter": "python",
   "pygments_lexer": "ipython3",
   "version": "3.6.8"
  },
  "toc": {
   "nav_menu": {},
   "number_sections": false,
   "sideBar": true,
   "skip_h1_title": true,
   "toc_cell": false,
   "toc_position": {},
   "toc_section_display": "block",
   "toc_window_display": true
  }
 },
 "nbformat": 4,
 "nbformat_minor": 2
}
