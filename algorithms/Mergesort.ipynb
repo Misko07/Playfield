{
 "cells": [
  {
   "cell_type": "code",
   "execution_count": 1,
   "metadata": {
    "collapsed": true
   },
   "outputs": [],
   "source": [
    "# mergesort algorithm"
   ]
  },
  {
   "cell_type": "code",
   "execution_count": 77,
   "metadata": {
    "collapsed": true
   },
   "outputs": [],
   "source": [
    "class Merge:\n",
    "    \n",
    "    def __init__(self, arr=None):\n",
    "        self.arr = []\n",
    "        self.aux = []\n",
    "    \n",
    "    \n",
    "    def sort(self, a):\n",
    "        self.arr = a\n",
    "        self.aux = []\n",
    "        self._sort(0, len(a)-1)\n",
    "    \n",
    "    \n",
    "    def _merge(self, lo, mid, hi):\n",
    "        print('merge lo: %d, mid: %d, hi: %d' % (lo, mid, hi))\n",
    "\n",
    "        # Copy array on each iteration\n",
    "        self.aux = self.arr.copy()\n",
    "        \n",
    "        # Merge left with right half of array\n",
    "        i = lo\n",
    "        j = mid + 1\n",
    "        for k in range(lo, hi+1):\n",
    "            if i > mid:\n",
    "                self.arr[k] = self.aux[j]\n",
    "                j += 1\n",
    "            elif j > hi:\n",
    "                self.arr[k] = self.aux[i]\n",
    "                i += 1\n",
    "            elif self.aux[i] <= self.aux[j]:\n",
    "                self.arr[k] = self.aux[i]\n",
    "                i += 1\n",
    "            else:\n",
    "                self.arr[k] = self.aux[j]\n",
    "                j += 1\n",
    "        print('merged:', self.arr[lo:hi+1])\n",
    "            \n",
    "    \n",
    "    def _sort(self, lo, hi):\n",
    "        \n",
    "        print(\"sort lo: %d, hi: %d\" % (lo, hi))\n",
    "        \n",
    "        if lo >= hi:\n",
    "            return\n",
    "        \n",
    "        # Sort left and right subarrays recursively\n",
    "        mid = lo + (hi - lo) // 2\n",
    "        self._sort(lo, mid)\n",
    "        self._sort(mid+1, hi)\n",
    "        self._merge(lo, mid, hi)\n",
    "        "
   ]
  },
  {
   "cell_type": "code",
   "execution_count": 78,
   "metadata": {},
   "outputs": [
    {
     "name": "stdout",
     "output_type": "stream",
     "text": [
      "sort lo: 0, hi: 5\n",
      "sort lo: 0, hi: 2\n",
      "sort lo: 0, hi: 1\n",
      "sort lo: 0, hi: 0\n",
      "sort lo: 1, hi: 1\n",
      "merge lo: 0, mid: 0, hi: 1\n",
      "merged: [20, 30]\n",
      "sort lo: 2, hi: 2\n",
      "merge lo: 0, mid: 1, hi: 2\n",
      "merged: [20, 30, 40]\n",
      "sort lo: 3, hi: 5\n",
      "sort lo: 3, hi: 4\n",
      "sort lo: 3, hi: 3\n",
      "sort lo: 4, hi: 4\n",
      "merge lo: 3, mid: 3, hi: 4\n",
      "merged: [10, 80]\n",
      "sort lo: 5, hi: 5\n",
      "merge lo: 3, mid: 4, hi: 5\n",
      "merged: [0, 10, 80]\n",
      "merge lo: 0, mid: 2, hi: 5\n",
      "merged: [0, 10, 20, 30, 40, 80]\n"
     ]
    },
    {
     "data": {
      "text/plain": [
       "[0, 10, 20, 30, 40, 80]"
      ]
     },
     "execution_count": 78,
     "metadata": {},
     "output_type": "execute_result"
    }
   ],
   "source": [
    "a = [30, 20, 40, 10, 80, 0]\n",
    "m = Merge()\n",
    "m.sort(a)\n",
    "a"
   ]
  }
 ],
 "metadata": {
  "kernelspec": {
   "display_name": "Python 3",
   "language": "python",
   "name": "python3"
  },
  "language_info": {
   "codemirror_mode": {
    "name": "ipython",
    "version": 3
   },
   "file_extension": ".py",
   "mimetype": "text/x-python",
   "name": "python",
   "nbconvert_exporter": "python",
   "pygments_lexer": "ipython3",
   "version": "3.6.1"
  },
  "toc": {
   "nav_menu": {},
   "number_sections": false,
   "sideBar": true,
   "skip_h1_title": true,
   "toc_cell": false,
   "toc_position": {},
   "toc_section_display": "block",
   "toc_window_display": true
  }
 },
 "nbformat": 4,
 "nbformat_minor": 2
}
