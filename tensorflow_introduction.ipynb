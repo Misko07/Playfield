{
 "cells": [
  {
   "cell_type": "markdown",
   "metadata": {
    "toc": "true"
   },
   "source": [
    " # Table of Contents\n",
    "<div class=\"toc\" style=\"margin-top: 1em;\"><ul class=\"toc-item\" id=\"toc-level0\"><li><span><a href=\"http://localhost:8888/notebooks/PycharmProjects/Playfield/tensorflow_introduction.ipynb#Graph\" data-toc-modified-id=\"Graph-1\">Graph</a></span></li><li><span><a href=\"http://localhost:8888/notebooks/PycharmProjects/Playfield/tensorflow_introduction.ipynb#Session\" data-toc-modified-id=\"Session-2\">Session</a></span></li><li><span><a href=\"http://localhost:8888/notebooks/PycharmProjects/Playfield/tensorflow_introduction.ipynb#Tensors\" data-toc-modified-id=\"Tensors-3\">Tensors</a></span><ul class=\"toc-item\"><li><span><a href=\"http://localhost:8888/notebooks/PycharmProjects/Playfield/tensorflow_introduction.ipynb#Constants\" data-toc-modified-id=\"Constants-3.1\">Constants</a></span></li><li><span><a href=\"http://localhost:8888/notebooks/PycharmProjects/Playfield/tensorflow_introduction.ipynb#Variables\" data-toc-modified-id=\"Variables-3.2\">Variables</a></span></li><li><span><a href=\"http://localhost:8888/notebooks/PycharmProjects/Playfield/tensorflow_introduction.ipynb#Placeholders\" data-toc-modified-id=\"Placeholders-3.3\">Placeholders</a></span></li></ul></li><li><span><a href=\"http://localhost:8888/notebooks/PycharmProjects/Playfield/tensorflow_introduction.ipynb#References\" data-toc-modified-id=\"References-4\">References</a></span></li></ul></div>"
   ]
  },
  {
   "cell_type": "markdown",
   "metadata": {},
   "source": [
    "# Tensorflow introduction"
   ]
  },
  {
   "cell_type": "code",
   "execution_count": 24,
   "metadata": {
    "collapsed": true
   },
   "outputs": [],
   "source": [
    "import tensorflow as tf"
   ]
  },
  {
   "cell_type": "markdown",
   "metadata": {},
   "source": [
    "## Graph"
   ]
  },
  {
   "cell_type": "markdown",
   "metadata": {},
   "source": [
    "A _graph_ is used to define operations."
   ]
  },
  {
   "cell_type": "code",
   "execution_count": 38,
   "metadata": {},
   "outputs": [
    {
     "name": "stdout",
     "output_type": "stream",
     "text": [
      "Const\n",
      "Const_1\n",
      "Mul\n",
      "Const_2\n",
      "Const_3\n",
      "Mul_1\n",
      "Const_4\n",
      "Const_5\n",
      "Mul_2\n",
      "Const_6\n",
      "Const_7\n",
      "Const_8\n",
      "Mul_3\n",
      "Const_9\n",
      "Const_10\n",
      "Const_11\n",
      "Mul_4\n",
      "var1/initial_value\n",
      "var1\n",
      "var1/Assign\n",
      "var1/read\n",
      "var1_1/initial_value\n",
      "var1_1\n",
      "var1_1/Assign\n",
      "var1_1/read\n",
      "var1_2/initial_value\n",
      "var1_2\n",
      "var1_2/Assign\n",
      "var1_2/read\n",
      "init\n",
      "init_1\n",
      "Placeholder\n",
      "Placeholder_1\n",
      "Mul_5\n",
      "Placeholder_2\n",
      "Placeholder_3\n",
      "Mul_6\n",
      "Placeholder_4\n",
      "Placeholder_5\n",
      "Mul_7\n",
      "Placeholder_6\n",
      "Placeholder_7\n",
      "Mul_8\n"
     ]
    }
   ],
   "source": [
    "# call the default graph\n",
    "graph = tf.get_default_graph()\n",
    "\n",
    "# print operations in the graph\n",
    "for op in graph.get_operations():\n",
    "    print(op.name)"
   ]
  },
  {
   "cell_type": "markdown",
   "metadata": {},
   "source": [
    "## Session"
   ]
  },
  {
   "cell_type": "markdown",
   "metadata": {},
   "source": [
    "Operations are run within a _session_."
   ]
  },
  {
   "cell_type": "code",
   "execution_count": 43,
   "metadata": {},
   "outputs": [
    {
     "name": "stdout",
     "output_type": "stream",
     "text": [
      "Tensor(\"Const_15:0\", shape=(), dtype=float32)\n",
      "2.3\n"
     ]
    }
   ],
   "source": [
    "a = tf.constant(2.3)\n",
    "\n",
    "# run an operation without a session\n",
    "print(a)\n",
    "\n",
    "# run the operation within a session\n",
    "sess = tf.Session()\n",
    "print(sess.run(a))\n",
    "sess.close()"
   ]
  },
  {
   "cell_type": "markdown",
   "metadata": {},
   "source": [
    "The session could be used with automatic closing like this:"
   ]
  },
  {
   "cell_type": "code",
   "execution_count": 40,
   "metadata": {},
   "outputs": [
    {
     "name": "stdout",
     "output_type": "stream",
     "text": [
      "2.3\n"
     ]
    }
   ],
   "source": [
    "with tf.Session() as sess:\n",
    "    print(sess.run(a))"
   ]
  },
  {
   "cell_type": "markdown",
   "metadata": {},
   "source": [
    "## Tensors"
   ]
  },
  {
   "cell_type": "markdown",
   "metadata": {},
   "source": [
    "Tensors are data structures in which data is stored, similar to multi dimensional arrays in NumPy. One type of a tensor is _constant_."
   ]
  },
  {
   "cell_type": "markdown",
   "metadata": {},
   "source": [
    "### Constants"
   ]
  },
  {
   "cell_type": "code",
   "execution_count": 13,
   "metadata": {},
   "outputs": [
    {
     "name": "stdout",
     "output_type": "stream",
     "text": [
      "a: Tensor(\"Const_9:0\", shape=(), dtype=float32)\n",
      "x1: Tensor(\"Const_10:0\", shape=(4,), dtype=int32)\n",
      "result: Tensor(\"Mul_4:0\", shape=(4,), dtype=int32)\n"
     ]
    }
   ],
   "source": [
    "# Define two constants\n",
    "x1 = tf.constant([1,2,3,4])\n",
    "x2 = tf.constant([5,6,7,8])\n",
    "print(\"x1:\", x1)\n",
    "\n",
    "result = tf.multiply(x1, x2)\n",
    "\n",
    "print(\"result:\", result)"
   ]
  },
  {
   "cell_type": "markdown",
   "metadata": {},
   "source": [
    "The Tensors above, the constants, or 'result', are just models. They aren't actually calculated. To print/access them, they need to be run in a session:"
   ]
  },
  {
   "cell_type": "code",
   "execution_count": 19,
   "metadata": {},
   "outputs": [
    {
     "name": "stdout",
     "output_type": "stream",
     "text": [
      "[ 5 12 21 32]\n",
      "2.3\n"
     ]
    }
   ],
   "source": [
    "sess = tf.Session()\n",
    "print(sess.run(result))\n",
    "print(sess.run(a))\n",
    "sess.close()"
   ]
  },
  {
   "cell_type": "markdown",
   "metadata": {},
   "source": [
    "### Variables"
   ]
  },
  {
   "cell_type": "markdown",
   "metadata": {},
   "source": [
    "Apart from 'constants' there are also 'placeholder' and 'variable' types of values. Variables are values that can change, just like in any programming language."
   ]
  },
  {
   "cell_type": "code",
   "execution_count": 28,
   "metadata": {},
   "outputs": [
    {
     "name": "stdout",
     "output_type": "stream",
     "text": [
      "<tf.Variable 'var1_2:0' shape=() dtype=float32_ref>\n"
     ]
    }
   ],
   "source": [
    "b = tf.Variable(2.0, name='var1')\n",
    "print(b)"
   ]
  },
  {
   "cell_type": "markdown",
   "metadata": {},
   "source": [
    "Variables need to be initialised. To initialise all variables you can use the following function, then access the variable 'b'."
   ]
  },
  {
   "cell_type": "code",
   "execution_count": 32,
   "metadata": {},
   "outputs": [
    {
     "name": "stdout",
     "output_type": "stream",
     "text": [
      "2.0\n"
     ]
    }
   ],
   "source": [
    "init_op = tf.global_variables_initializer()\n",
    "\n",
    "with tf.Session() as sess:\n",
    "    sess.run(init_op)\n",
    "    print(sess.run(b))"
   ]
  },
  {
   "cell_type": "markdown",
   "metadata": {},
   "source": [
    "### Placeholders"
   ]
  },
  {
   "cell_type": "markdown",
   "metadata": {},
   "source": [
    "Placeholders are values (tensors) which are unassigned, and that will be initialized by the session when it's run. These are used for training data. The object that is fed to Placeholder is called feed_dict - a key-value pairs."
   ]
  },
  {
   "cell_type": "code",
   "execution_count": 36,
   "metadata": {},
   "outputs": [
    {
     "name": "stdout",
     "output_type": "stream",
     "text": [
      "6.0\n"
     ]
    }
   ],
   "source": [
    "p1 = tf.placeholder(\"float\")\n",
    "p2 = tf.placeholder(\"float\")\n",
    "y = tf.multiply(p1, p2)\n",
    "\n",
    "# create a feed_dict object\n",
    "feed_dict = {p1: 2, p2: 3}\n",
    "with tf.Session() as sess:\n",
    "    print(sess.run(y, feed_dict=feed_dict))"
   ]
  },
  {
   "cell_type": "markdown",
   "metadata": {},
   "source": [
    "Finally the sessions can be run on a GPU, CPU, a cluster etc., and you can choose where to run it. The complete picture:"
   ]
  },
  {
   "cell_type": "markdown",
   "metadata": {},
   "source": [
    "<img src=\"http://cv-tricks.com/wp-content/uploads/2017/02/xTensorflow_Graph_0.png.pagespeed.ic.U_RLEnluD2.webp\">"
   ]
  },
  {
   "cell_type": "markdown",
   "metadata": {},
   "source": [
    "## References"
   ]
  },
  {
   "cell_type": "markdown",
   "metadata": {},
   "source": [
    "- cv-tricks.com website (link: http://cv-tricks.com/artificial-intelligence/deep-learning/deep-learning-frameworks/tensorflow/tensorflow-tutorial/)"
   ]
  },
  {
   "cell_type": "code",
   "execution_count": null,
   "metadata": {
    "collapsed": true
   },
   "outputs": [],
   "source": []
  }
 ],
 "metadata": {
  "kernelspec": {
   "display_name": "Python 3",
   "language": "python",
   "name": "python3"
  },
  "language_info": {
   "codemirror_mode": {
    "name": "ipython",
    "version": 3
   },
   "file_extension": ".py",
   "mimetype": "text/x-python",
   "name": "python",
   "nbconvert_exporter": "python",
   "pygments_lexer": "ipython3",
   "version": "3.6.1"
  },
  "toc": {
   "nav_menu": {},
   "number_sections": false,
   "sideBar": true,
   "skip_h1_title": true,
   "toc_cell": true,
   "toc_position": {},
   "toc_section_display": "block",
   "toc_window_display": true
  }
 },
 "nbformat": 4,
 "nbformat_minor": 2
}
