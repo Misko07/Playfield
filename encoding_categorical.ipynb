{
 "cells": [
  {
   "cell_type": "markdown",
   "metadata": {},
   "source": [
    "# Encoding categorical data for machine learning models"
   ]
  },
  {
   "cell_type": "markdown",
   "metadata": {},
   "source": [
    "Categorical data needs to be encoded in numerics in order to be used in scikit-learn models.\n",
    "Important: Simply applying a numerical value to each distinct category cannot be used because it would represent a continuous input (as the catagories being ordered), which is not desired. The right way to encode categorical data is using a \"one-hot\" binary representation of a feature, that is, representing n distinct samples in a feature with a sparse array of length n, in such way that there is a single 1 in the array in a different position for each category.\n",
    "\n",
    "Encoding could be done with a few tools in scikit-learn, such as: OneHotEncoder, LabelBinarizer; with pandas.get_dummies method etc."
   ]
  },
  {
   "cell_type": "markdown",
   "metadata": {},
   "source": [
    "Preprocessing steps:\n",
    "- is data sparse? \n",
    "    - if yes use **MaxAbsScaler**, **maxabs_scale**, or **scale** / **StandardScaler** with scipy.sparse matrix as input and with_mean=False.\n",
    "- are there outliers in data?\n",
    "    - if yes use **RobustScaler** or **robust_scale**"
   ]
  },
  {
   "cell_type": "markdown",
   "metadata": {},
   "source": [
    "## Encoding numpy matrices with OneHotEncoder"
   ]
  },
  {
   "cell_type": "markdown",
   "metadata": {},
   "source": [
    "When a matrix is given as an input to a scikit-learn model, the model takes the columns as features and the rows as data samples. In the same way, when fitting a OneHotEncoder to a data matrix, it encodes each column _i_ separately in an array of length _n_ _ _i_, where _n_ _ _i_ is the number of distinct values the column.\n",
    "\n",
    "The following example shows how to encode a numpy matrix and a numpy vector with OneHotEncoder."
   ]
  },
  {
   "cell_type": "code",
   "execution_count": 23,
   "metadata": {},
   "outputs": [
    {
     "name": "stdout",
     "output_type": "stream",
     "text": [
      "[[1 2]\n",
      " [0 4]\n",
      " [2 0]]\n"
     ]
    }
   ],
   "source": [
    "import numpy as np\n",
    "from sklearn.preprocessing import OneHotEncoder\n",
    "\n",
    "data = np.array([[1, 2], [0, 4], [2, 0]])\n",
    "print(data)"
   ]
  },
  {
   "cell_type": "code",
   "execution_count": 24,
   "metadata": {},
   "outputs": [
    {
     "name": "stdout",
     "output_type": "stream",
     "text": [
      "[[ 0.  1.  0.  0.  1.  0.]\n",
      " [ 1.  0.  0.  0.  0.  1.]\n",
      " [ 0.  0.  1.  1.  0.  0.]]\n",
      "[[ 0.  1.  0.  0.  1.  0.  1.]\n",
      " [ 1.  0.  0.  0.  0.  1.  0.]\n",
      " [ 0.  0.  1.  1.  0.  0.  3.]]\n"
     ]
    }
   ],
   "source": [
    "enc = OneHotEncoder()\n",
    "enc.fit(data)\n",
    "enc.n_values_\n",
    "encoded = enc.transform(data)\n",
    "print(encoded.toarray())\n",
    "\n",
    "# If vector c is a non-categorical feature, we can just append it to the encoded categorical data as follows\n",
    "# .toarray() must be used!\n",
    "c = np.array([[1], [0], [3]])\n",
    "d = np.concatenate((encoded.toarray(), c), axis=1)\n",
    "print(d)\n",
    "\n",
    "# todo: compare with pd.factorize"
   ]
  },
  {
   "cell_type": "markdown",
   "metadata": {},
   "source": [
    "So the values in column 0 go up to value 2, which gives a maximum of 3 possible values (including the zero). Column 1 goes up to 4, which result sin 5 possible values. Therefore, an encoded sample of the data will be represented with 8 binary digits: 3 for the first feature, and 5 for the second. Anyway, in our example data feature 2 is missing two values: 1 and 3, so the encoder will have 6 digits in total, instead of 8. An example follows."
   ]
  },
  {
   "cell_type": "markdown",
   "metadata": {},
   "source": [
    "new_sample = np.array([[0, 2]])\n",
    "enc_sample = enc.transform(new_sample).toarray()\n",
    "print(enc_sample)"
   ]
  },
  {
   "cell_type": "markdown",
   "metadata": {},
   "source": [
    "If we use a non-existing value in feature 2 (which is still smaller than the maximum value), the value is not encoded, resulting in all zeros:"
   ]
  },
  {
   "cell_type": "code",
   "execution_count": 26,
   "metadata": {},
   "outputs": [
    {
     "data": {
      "text/plain": [
       "array([[ 1.,  0.,  0.,  0.,  0.,  0.]])"
      ]
     },
     "execution_count": 26,
     "metadata": {},
     "output_type": "execute_result"
    }
   ],
   "source": [
    "enc.transform(np.array([[0,3]])).toarray()"
   ]
  },
  {
   "cell_type": "markdown",
   "metadata": {},
   "source": [
    "Using a value which is larger than the maximum value in the feature to which the encoder is fitted, the transform method throws an error: \"ValueError: : unknown categorical feature present [9] during transform\"."
   ]
  },
  {
   "cell_type": "code",
   "execution_count": 27,
   "metadata": {
    "collapsed": true
   },
   "outputs": [],
   "source": [
    "# enc.transform(np.array([[0,9]])).toarray()"
   ]
  },
  {
   "cell_type": "markdown",
   "metadata": {},
   "source": [
    "## Encoding pandas dataframe with OneHotEncoder"
   ]
  },
  {
   "cell_type": "code",
   "execution_count": 28,
   "metadata": {},
   "outputs": [
    {
     "data": {
      "text/html": [
       "<div>\n",
       "<style>\n",
       "    .dataframe thead tr:only-child th {\n",
       "        text-align: right;\n",
       "    }\n",
       "\n",
       "    .dataframe thead th {\n",
       "        text-align: left;\n",
       "    }\n",
       "\n",
       "    .dataframe tbody tr th {\n",
       "        vertical-align: top;\n",
       "    }\n",
       "</style>\n",
       "<table border=\"1\" class=\"dataframe\">\n",
       "  <thead>\n",
       "    <tr style=\"text-align: right;\">\n",
       "      <th></th>\n",
       "      <th>a</th>\n",
       "      <th>b</th>\n",
       "    </tr>\n",
       "  </thead>\n",
       "  <tbody>\n",
       "    <tr>\n",
       "      <th>0</th>\n",
       "      <td>0</td>\n",
       "      <td>0</td>\n",
       "    </tr>\n",
       "    <tr>\n",
       "      <th>1</th>\n",
       "      <td>2</td>\n",
       "      <td>5</td>\n",
       "    </tr>\n",
       "    <tr>\n",
       "      <th>2</th>\n",
       "      <td>3</td>\n",
       "      <td>2</td>\n",
       "    </tr>\n",
       "    <tr>\n",
       "      <th>3</th>\n",
       "      <td>1</td>\n",
       "      <td>1</td>\n",
       "    </tr>\n",
       "  </tbody>\n",
       "</table>\n",
       "</div>"
      ],
      "text/plain": [
       "   a  b\n",
       "0  0  0\n",
       "1  2  5\n",
       "2  3  2\n",
       "3  1  1"
      ]
     },
     "execution_count": 28,
     "metadata": {},
     "output_type": "execute_result"
    }
   ],
   "source": [
    "import pandas as pd\n",
    "\n",
    "df = pd.DataFrame({'a': [0, 2, 3, 1], 'b': [0, 5, 2, 1]}, columns=['a', 'b'])\n",
    "df"
   ]
  },
  {
   "cell_type": "code",
   "execution_count": 29,
   "metadata": {},
   "outputs": [
    {
     "data": {
      "text/plain": [
       "OneHotEncoder(categorical_features='all', dtype=<class 'numpy.float64'>,\n",
       "       handle_unknown='error', n_values='auto', sparse=True)"
      ]
     },
     "execution_count": 29,
     "metadata": {},
     "output_type": "execute_result"
    }
   ],
   "source": [
    "enc.fit(df)"
   ]
  },
  {
   "cell_type": "code",
   "execution_count": 30,
   "metadata": {},
   "outputs": [
    {
     "data": {
      "text/plain": [
       "array([4, 6])"
      ]
     },
     "execution_count": 30,
     "metadata": {},
     "output_type": "execute_result"
    }
   ],
   "source": [
    "enc.n_values_"
   ]
  },
  {
   "cell_type": "markdown",
   "metadata": {},
   "source": [
    "Both features in a and b columns have 4 distinct values, so the encoder will use 8 digits in total to represent a sample."
   ]
  },
  {
   "cell_type": "code",
   "execution_count": 31,
   "metadata": {},
   "outputs": [
    {
     "data": {
      "text/plain": [
       "array([[ 0.,  0.,  1.,  0.,  0.,  0.,  0.,  1.]])"
      ]
     },
     "execution_count": 31,
     "metadata": {},
     "output_type": "execute_result"
    }
   ],
   "source": [
    "new_sample = pd.DataFrame({'a': [2], 'b': 5}, columns=['a', 'b'])\n",
    "enc.transform(new_sample).toarray()"
   ]
  },
  {
   "cell_type": "markdown",
   "metadata": {},
   "source": [
    "Let's encode a whole dataframe (I'll use the same one as earlier)."
   ]
  },
  {
   "cell_type": "code",
   "execution_count": 32,
   "metadata": {},
   "outputs": [
    {
     "data": {
      "text/plain": [
       "array([[ 1.,  0.,  0.,  0.,  1.,  0.,  0.,  0.],\n",
       "       [ 0.,  0.,  1.,  0.,  0.,  0.,  0.,  1.],\n",
       "       [ 0.,  0.,  0.,  1.,  0.,  0.,  1.,  0.],\n",
       "       [ 0.,  1.,  0.,  0.,  0.,  1.,  0.,  0.]])"
      ]
     },
     "execution_count": 32,
     "metadata": {},
     "output_type": "execute_result"
    }
   ],
   "source": [
    "enc.transform(df).toarray()"
   ]
  },
  {
   "cell_type": "markdown",
   "metadata": {},
   "source": [
    "If for some reason you need to encode only a single column of a pandas dataframe, you can do it in the following way, by first reshaping the column form a Series object to a numpy vector:"
   ]
  },
  {
   "cell_type": "code",
   "execution_count": 33,
   "metadata": {},
   "outputs": [
    {
     "name": "stdout",
     "output_type": "stream",
     "text": [
      "encoded sample: [[ 0.  0.  1.  0.]]\n",
      "df.a type: <class 'pandas.core.series.Series'>\n",
      "df.a reshaped type: <class 'numpy.ndarray'>\n"
     ]
    }
   ],
   "source": [
    "enc.fit(df.a.values.reshape(len(df.a),1))\n",
    "print(\"encoded sample:\", enc.transform(np.array([[2]])).toarray())\n",
    "\n",
    "print(\"df.a type:\", type(df.a))\n",
    "print(\"df.a reshaped type:\", type(df.a.values.reshape(len(df.a),1)))\n"
   ]
  },
  {
   "cell_type": "markdown",
   "metadata": {},
   "source": [
    "Note that only **categorical** data needs to be encoded, not **continous numerical**. OneHotEncoder only works on numeric categorical data, and not with alphabetic categorical data."
   ]
  },
  {
   "cell_type": "markdown",
   "metadata": {},
   "source": [
    "## LabelBinarizer"
   ]
  },
  {
   "cell_type": "code",
   "execution_count": 12,
   "metadata": {},
   "outputs": [
    {
     "name": "stdout",
     "output_type": "stream",
     "text": [
      "[1 2 4 6]\n"
     ]
    },
    {
     "data": {
      "text/plain": [
       "array([[1, 0, 0, 0],\n",
       "       [0, 0, 1, 0]])"
      ]
     },
     "execution_count": 12,
     "metadata": {},
     "output_type": "execute_result"
    }
   ],
   "source": [
    "from sklearn.preprocessing import LabelBinarizer\n",
    "lb = LabelBinarizer()\n",
    "lb.fit([1, 2, 6, 4, 2])\n",
    "print(lb.classes_)\n",
    "lb.transform([1,4])"
   ]
  },
  {
   "cell_type": "code",
   "execution_count": 13,
   "metadata": {},
   "outputs": [
    {
     "name": "stdout",
     "output_type": "stream",
     "text": [
      "['chicago' 'london' 'new york']\n",
      "[[0 1 0]\n",
      " [0 0 1]\n",
      " [1 0 0]]\n",
      "----------\n",
      "london: [[0 1 0]]\n",
      "chicago: [[1 0 0]]\n",
      "new york: [[0 0 1]]\n",
      "----------\n",
      "['london' 'new york' 'chicago']\n"
     ]
    }
   ],
   "source": [
    "feature = ['london', 'new york', 'chicago']\n",
    "lb.fit(feature)\n",
    "print(lb.classes_)\n",
    "\n",
    "# Encode the entire list\n",
    "feature_encoded = lb.transform(feature)\n",
    "print(feature_encoded)\n",
    "print('-'*10)\n",
    "\n",
    "# Encode single inputs\n",
    "print('london:', lb.transform(['london']))\n",
    "print('chicago:', lb.transform(['chicago']))\n",
    "print('new york:', lb.transform(['new york']))\n",
    "print('-'*10)\n",
    "\n",
    "# Reverse back \n",
    "print(lb.inverse_transform(feature_encoded))"
   ]
  },
  {
   "cell_type": "markdown",
   "metadata": {},
   "source": [
    "Ok, LabelBinarizer first orders the labels alphabetically, and then encodes them."
   ]
  },
  {
   "cell_type": "code",
   "execution_count": 14,
   "metadata": {},
   "outputs": [
    {
     "data": {
      "text/plain": [
       "array([[1],\n",
       "       [0],\n",
       "       [0],\n",
       "       [1]])"
      ]
     },
     "execution_count": 14,
     "metadata": {},
     "output_type": "execute_result"
    }
   ],
   "source": [
    "lb.fit_transform(['yes', 'no', 'no', 'yes'])"
   ]
  },
  {
   "cell_type": "markdown",
   "metadata": {},
   "source": [
    "When encoding a whole matrix, the best way is to pass columnn by column:"
   ]
  },
  {
   "cell_type": "code",
   "execution_count": 15,
   "metadata": {},
   "outputs": [
    {
     "name": "stdout",
     "output_type": "stream",
     "text": [
      "lb classes: ['amsterdam' 'new york' 'tokyo']\n",
      "[[1 0 0]\n",
      " [0 1 0]\n",
      " [0 0 1]]\n",
      "lb classes: ['japan' 'netherlands' 'us']\n",
      "[[0 1 0]\n",
      " [0 0 1]\n",
      " [1 0 0]]\n",
      "matrix:\n",
      "[[1 0 0 0 1 0]\n",
      " [0 1 0 0 0 1]\n",
      " [0 0 1 1 0 0]]\n"
     ]
    }
   ],
   "source": [
    "# Our data has two features: city, country\n",
    "ml_data = np.array([['amsterdam', 'netherlands'], ['new york', 'us'], ['tokyo', 'japan']])\n",
    "\n",
    "encoded_matrix = []\n",
    "for i in range(ml_data.shape[1]):\n",
    "    column = ml_data[:,i]\n",
    "    lb.fit(column)\n",
    "    print(\"lb classes:\", lb.classes_)\n",
    "    encoded_feature = lb.transform(column)\n",
    "    print(encoded_feature)\n",
    "    if i == 0:\n",
    "        encoded_matrix = encoded_feature\n",
    "    else:\n",
    "        encoded_matrix = np.concatenate([encoded_matrix, encoded_feature], axis=1)\n",
    "        \n",
    "print('matrix:')\n",
    "print(encoded_matrix)"
   ]
  },
  {
   "cell_type": "markdown",
   "metadata": {},
   "source": [
    "The resulting matrix (3x6) could be used as input to an ML model. In such way we expanded 2 features (city and state) into 6 features encoded in a 'one-hot' style."
   ]
  },
  {
   "cell_type": "markdown",
   "metadata": {},
   "source": [
    "How about encoding pandas DataFrames.."
   ]
  },
  {
   "cell_type": "code",
   "execution_count": 39,
   "metadata": {},
   "outputs": [
    {
     "name": "stdout",
     "output_type": "stream",
     "text": [
      "        city        state\n",
      "0  amsterdam  netherlands\n",
      "1   new york           us\n",
      "2      tokyo        japan\n",
      "   amsterdam  new york  tokyo  japan  netherlands  us\n",
      "0          1         0      0      0            1   0\n",
      "1          0         1      0      0            0   1\n",
      "2          0         0      1      1            0   0\n"
     ]
    }
   ],
   "source": [
    "import pandas as pd\n",
    "df = pd.DataFrame(ml_data, columns=['city', 'state'])\n",
    "df_new = pd.DataFrame([])\n",
    "\n",
    "for column in df.columns:\n",
    "    lb.fit(df[column])\n",
    "    encoded_feature = lb.transform(df[column])\n",
    "    for i in range(encoded_feature.shape[1]):\n",
    "        cols = sorted(df[column])\n",
    "        df_new[cols[i]] = encoded_feature[:,i]\n",
    "        \n",
    "print(df)\n",
    "print(df_new)"
   ]
  },
  {
   "cell_type": "markdown",
   "metadata": {},
   "source": [
    "## pandas.get_dummies()"
   ]
  },
  {
   "cell_type": "markdown",
   "metadata": {},
   "source": [
    "The above example is done much easier with pandas $get\\_dummies$ method."
   ]
  },
  {
   "cell_type": "code",
   "execution_count": 72,
   "metadata": {},
   "outputs": [
    {
     "data": {
      "text/html": [
       "<div>\n",
       "<style>\n",
       "    .dataframe thead tr:only-child th {\n",
       "        text-align: right;\n",
       "    }\n",
       "\n",
       "    .dataframe thead th {\n",
       "        text-align: left;\n",
       "    }\n",
       "\n",
       "    .dataframe tbody tr th {\n",
       "        vertical-align: top;\n",
       "    }\n",
       "</style>\n",
       "<table border=\"1\" class=\"dataframe\">\n",
       "  <thead>\n",
       "    <tr style=\"text-align: right;\">\n",
       "      <th></th>\n",
       "      <th>city_amsterdam</th>\n",
       "      <th>city_new york</th>\n",
       "      <th>city_tokyo</th>\n",
       "      <th>state_japan</th>\n",
       "      <th>state_netherlands</th>\n",
       "      <th>state_us</th>\n",
       "    </tr>\n",
       "  </thead>\n",
       "  <tbody>\n",
       "    <tr>\n",
       "      <th>0</th>\n",
       "      <td>1</td>\n",
       "      <td>0</td>\n",
       "      <td>0</td>\n",
       "      <td>0</td>\n",
       "      <td>1</td>\n",
       "      <td>0</td>\n",
       "    </tr>\n",
       "    <tr>\n",
       "      <th>1</th>\n",
       "      <td>0</td>\n",
       "      <td>1</td>\n",
       "      <td>0</td>\n",
       "      <td>0</td>\n",
       "      <td>0</td>\n",
       "      <td>1</td>\n",
       "    </tr>\n",
       "    <tr>\n",
       "      <th>2</th>\n",
       "      <td>0</td>\n",
       "      <td>0</td>\n",
       "      <td>1</td>\n",
       "      <td>1</td>\n",
       "      <td>0</td>\n",
       "      <td>0</td>\n",
       "    </tr>\n",
       "  </tbody>\n",
       "</table>\n",
       "</div>"
      ],
      "text/plain": [
       "   city_amsterdam  city_new york  city_tokyo  state_japan  state_netherlands  \\\n",
       "0               1              0           0            0                  1   \n",
       "1               0              1           0            0                  0   \n",
       "2               0              0           1            1                  0   \n",
       "\n",
       "   state_us  \n",
       "0         0  \n",
       "1         1  \n",
       "2         0  "
      ]
     },
     "execution_count": 72,
     "metadata": {},
     "output_type": "execute_result"
    }
   ],
   "source": [
    "pd.get_dummies(df)"
   ]
  },
  {
   "cell_type": "code",
   "execution_count": 74,
   "metadata": {},
   "outputs": [
    {
     "data": {
      "text/html": [
       "<div>\n",
       "<style>\n",
       "    .dataframe thead tr:only-child th {\n",
       "        text-align: right;\n",
       "    }\n",
       "\n",
       "    .dataframe thead th {\n",
       "        text-align: left;\n",
       "    }\n",
       "\n",
       "    .dataframe tbody tr th {\n",
       "        vertical-align: top;\n",
       "    }\n",
       "</style>\n",
       "<table border=\"1\" class=\"dataframe\">\n",
       "  <thead>\n",
       "    <tr style=\"text-align: right;\">\n",
       "      <th></th>\n",
       "      <th>one</th>\n",
       "      <th>three</th>\n",
       "      <th>two</th>\n",
       "    </tr>\n",
       "  </thead>\n",
       "  <tbody>\n",
       "    <tr>\n",
       "      <th>0</th>\n",
       "      <td>1</td>\n",
       "      <td>0</td>\n",
       "      <td>0</td>\n",
       "    </tr>\n",
       "    <tr>\n",
       "      <th>1</th>\n",
       "      <td>0</td>\n",
       "      <td>0</td>\n",
       "      <td>1</td>\n",
       "    </tr>\n",
       "    <tr>\n",
       "      <th>2</th>\n",
       "      <td>0</td>\n",
       "      <td>1</td>\n",
       "      <td>0</td>\n",
       "    </tr>\n",
       "    <tr>\n",
       "      <th>3</th>\n",
       "      <td>1</td>\n",
       "      <td>0</td>\n",
       "      <td>0</td>\n",
       "    </tr>\n",
       "  </tbody>\n",
       "</table>\n",
       "</div>"
      ],
      "text/plain": [
       "   one  three  two\n",
       "0    1      0    0\n",
       "1    0      0    1\n",
       "2    0      1    0\n",
       "3    1      0    0"
      ]
     },
     "execution_count": 74,
     "metadata": {},
     "output_type": "execute_result"
    }
   ],
   "source": [
    "pd.get_dummies(['one', 'two', 'three', 'one'])"
   ]
  },
  {
   "cell_type": "markdown",
   "metadata": {},
   "source": [
    "## LabelEncoder"
   ]
  },
  {
   "cell_type": "markdown",
   "metadata": {},
   "source": [
    "$LabelEncoder$ is used to simply assign a numerical value to each distinct categorical input. Similar to $LabelBinarizer$ it cannot be used on a matrix, but input should be passed in a list or array."
   ]
  },
  {
   "cell_type": "code",
   "execution_count": 38,
   "metadata": {},
   "outputs": [
    {
     "data": {
      "text/plain": [
       "array([0, 1, 2, 0])"
      ]
     },
     "execution_count": 38,
     "metadata": {},
     "output_type": "execute_result"
    }
   ],
   "source": [
    "from sklearn.preprocessing import LabelEncoder\n",
    "le = LabelEncoder().fit_transform(['london', 'new york', 'tokyo', 'london'])\n",
    "le"
   ]
  },
  {
   "cell_type": "markdown",
   "metadata": {},
   "source": [
    "Once categorica input is encoded in a numerical value, we can use the $OneHotEncoder$ to represent the numerics with binary data in 'one-hot' style."
   ]
  },
  {
   "cell_type": "code",
   "execution_count": 66,
   "metadata": {},
   "outputs": [
    {
     "data": {
      "text/plain": [
       "array([[ 1.,  0.,  0.],\n",
       "       [ 0.,  1.,  0.],\n",
       "       [ 0.,  0.,  1.],\n",
       "       [ 1.,  0.,  0.]])"
      ]
     },
     "execution_count": 66,
     "metadata": {},
     "output_type": "execute_result"
    }
   ],
   "source": [
    "enc = OneHotEncoder(sparse=True)\n",
    "le_column = np.reshape(le.T, (len(le), 1))\n",
    "enc_input = enc.fit_transform(le_column).toarray()\n",
    "enc_input"
   ]
  },
  {
   "cell_type": "markdown",
   "metadata": {},
   "source": [
    "And then possibly, if needed, you can put it in a pandas DataFrame."
   ]
  },
  {
   "cell_type": "code",
   "execution_count": 59,
   "metadata": {},
   "outputs": [
    {
     "data": {
      "text/html": [
       "<div>\n",
       "<style>\n",
       "    .dataframe thead tr:only-child th {\n",
       "        text-align: right;\n",
       "    }\n",
       "\n",
       "    .dataframe thead th {\n",
       "        text-align: left;\n",
       "    }\n",
       "\n",
       "    .dataframe tbody tr th {\n",
       "        vertical-align: top;\n",
       "    }\n",
       "</style>\n",
       "<table border=\"1\" class=\"dataframe\">\n",
       "  <thead>\n",
       "    <tr style=\"text-align: right;\">\n",
       "      <th></th>\n",
       "      <th>london</th>\n",
       "      <th>new york</th>\n",
       "      <th>tokyo</th>\n",
       "    </tr>\n",
       "  </thead>\n",
       "  <tbody>\n",
       "    <tr>\n",
       "      <th>0</th>\n",
       "      <td>1.0</td>\n",
       "      <td>0.0</td>\n",
       "      <td>0.0</td>\n",
       "    </tr>\n",
       "    <tr>\n",
       "      <th>1</th>\n",
       "      <td>0.0</td>\n",
       "      <td>1.0</td>\n",
       "      <td>0.0</td>\n",
       "    </tr>\n",
       "    <tr>\n",
       "      <th>2</th>\n",
       "      <td>0.0</td>\n",
       "      <td>0.0</td>\n",
       "      <td>1.0</td>\n",
       "    </tr>\n",
       "    <tr>\n",
       "      <th>3</th>\n",
       "      <td>1.0</td>\n",
       "      <td>0.0</td>\n",
       "      <td>0.0</td>\n",
       "    </tr>\n",
       "  </tbody>\n",
       "</table>\n",
       "</div>"
      ],
      "text/plain": [
       "   london  new york  tokyo\n",
       "0     1.0       0.0    0.0\n",
       "1     0.0       1.0    0.0\n",
       "2     0.0       0.0    1.0\n",
       "3     1.0       0.0    0.0"
      ]
     },
     "execution_count": 59,
     "metadata": {},
     "output_type": "execute_result"
    }
   ],
   "source": [
    "dfn = pd.DataFrame(enc_input, columns=['london', 'new york', 'tokyo'])\n",
    "dfn"
   ]
  },
  {
   "cell_type": "markdown",
   "metadata": {},
   "source": [
    "With the above 3-4 paragraphs of code, we managed to convert one single feature (given as a list) into 3 features in binary 'one-hot'-like format."
   ]
  },
  {
   "cell_type": "markdown",
   "metadata": {},
   "source": [
    "## Sparse matrices"
   ]
  },
  {
   "cell_type": "code",
   "execution_count": 69,
   "metadata": {},
   "outputs": [
    {
     "name": "stdout",
     "output_type": "stream",
     "text": [
      "<class 'scipy.sparse.csc.csc_matrix'>\n"
     ]
    },
    {
     "data": {
      "text/plain": [
       "array([[1, 2],\n",
       "       [0, 3],\n",
       "       [7, 6]], dtype=int64)"
      ]
     },
     "execution_count": 69,
     "metadata": {},
     "output_type": "execute_result"
    }
   ],
   "source": [
    "import scipy.sparse as sp\n",
    "X = sp.csc_matrix([[1, 2], [0, 3], [7, 6]])\n",
    "print(type(X))\n",
    "X.toarray()"
   ]
  }
 ],
 "metadata": {
  "kernelspec": {
   "display_name": "Python 3",
   "language": "python",
   "name": "python3"
  },
  "language_info": {
   "codemirror_mode": {
    "name": "ipython",
    "version": 3
   },
   "file_extension": ".py",
   "mimetype": "text/x-python",
   "name": "python",
   "nbconvert_exporter": "python",
   "pygments_lexer": "ipython3",
   "version": "3.6.1"
  },
  "toc": {
   "nav_menu": {},
   "number_sections": false,
   "sideBar": true,
   "skip_h1_title": true,
   "toc_cell": false,
   "toc_position": {},
   "toc_section_display": "block",
   "toc_window_display": true
  }
 },
 "nbformat": 4,
 "nbformat_minor": 2
}
