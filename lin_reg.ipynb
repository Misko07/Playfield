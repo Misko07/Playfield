{
 "cells": [
  {
   "cell_type": "markdown",
   "metadata": {},
   "source": [
    "# Linear regression using Scikit-learn\n",
    "\n",
    "Look at the Estimator API of scikit-learn. Every ML algorithm in scikit-learn is implemented via the Estimator API."
   ]
  },
  {
   "cell_type": "code",
   "execution_count": 1,
   "metadata": {},
   "outputs": [
    {
     "data": {
      "text/plain": [
       "<matplotlib.collections.PathCollection at 0x114953278>"
      ]
     },
     "execution_count": 1,
     "metadata": {},
     "output_type": "execute_result"
    },
    {
     "data": {
      "image/png": "[encoded data removed]",
      "text/plain": [
       "<matplotlib.figure.Figure at 0x106c77c50>"
      ]
     },
     "metadata": {},
     "output_type": "display_data"
    }
   ],
   "source": [
    "%matplotlib inline\n",
    "import seaborn as sns; sns.set()\n",
    "\n",
    "import matplotlib.pyplot as plt\n",
    "import numpy as np\n",
    "\n",
    "# Generate some data\n",
    "rng = np.random.RandomState(42)\n",
    "x = 10 * rng.rand(50)\n",
    "variance = 10\n",
    "slope = 2\n",
    "intercept = -1\n",
    "\n",
    "y = slope * x + intercept + variance * rng.rand(50)\n",
    "plt.scatter(x,y)\n"
   ]
  },
  {
   "cell_type": "code",
   "execution_count": 2,
   "metadata": {},
   "outputs": [
    {
     "name": "stdout",
     "output_type": "stream",
     "text": [
      "Model: LinearRegression(copy_X=True, fit_intercept=True, n_jobs=1, normalize=False)\n",
      "Shape before: (50,), shape after: (50, 1)\n",
      "Coef: [ 2.06607665]\n",
      "Intercept: 3.6497242492\n",
      "Rank: 1\n",
      "Singular: [ 20.22182407]\n",
      "Residues: 459.557985935\n"
     ]
    },
    {
     "name": "stderr",
     "output_type": "stream",
     "text": [
      "/Users/Misko/anaconda3/lib/python3.6/site-packages/sklearn/utils/deprecation.py:70: DeprecationWarning: Function residues_ is deprecated; ``residues_`` is deprecated and will be removed in 0.19\n",
      "  warnings.warn(msg, category=DeprecationWarning)\n"
     ]
    }
   ],
   "source": [
    "# Instantiate the LinearRegression class, passing the hyperparameters\n",
    "# fit_intercept=True is selected to tell we like to fit the y-parameter\n",
    "from sklearn.linear_model import LinearRegression\n",
    "model = LinearRegression(fit_intercept=True)\n",
    "print(\"Model:\", model)\n",
    "\n",
    "# Arrange the data in a feature matrix and target vector. x needs to be reshaped in a matrix, y is ok\n",
    "X = x.reshape((50,1))\n",
    "print(\"Shape before: %s, shape after: %s\" % (x.shape, X.shape))\n",
    "\n",
    "# Apply the model to data\n",
    "model.fit(X,y)\n",
    "\n",
    "# The results of the fitting are stored in in parameters with trailing underscores\n",
    "print(\"Coef:\", model.coef_)\n",
    "print(\"Intercept:\", model.intercept_)\n",
    "print(\"Rank:\", model.rank_)\n",
    "print(\"Singular:\", model.singular_)\n",
    "print(\"Residues:\", model.residues_)\n"
   ]
  },
  {
   "cell_type": "markdown",
   "metadata": {},
   "source": [
    "Scikit-learn does not draw conclusions from the model parameters. \n",
    "Interpreting model parameters is much more a 'statistical modeling' than 'machine learning' question.\n",
    "For statistical modeling you can look at Python's statsmodels package"
   ]
  },
  {
   "cell_type": "code",
   "execution_count": 3,
   "metadata": {},
   "outputs": [
    {
     "data": {
      "text/plain": [
       "<matplotlib.legend.Legend at 0x11522fbe0>"
      ]
     },
     "execution_count": 3,
     "metadata": {},
     "output_type": "execute_result"
    },
    {
     "data": {
      "image/png": "[encoded data removed]",
      "text/plain": [
       "<matplotlib.figure.Figure at 0x1150accc0>"
      ]
     },
     "metadata": {},
     "output_type": "display_data"
    }
   ],
   "source": [
    "\"\"\" Visualise the model fitting \"\"\"\n",
    "\n",
    "# Predict labels of unknown data (first we need to generate new data).\n",
    "# The fitted model is actually the prediction for new unknown samples\n",
    "\n",
    "x_fit = np.linspace(-1,11)\n",
    "X_fit = x_fit[:, np.newaxis]  # reshape as earlier\n",
    "y_fit = model.predict(X_fit)\n",
    "\n",
    "# Visualise the raw data and the model fit\n",
    "plt.scatter(X, y, label='raw data')\n",
    "plt.xlabel(\"X\")\n",
    "plt.ylabel(\"y\")\n",
    "plt.plot(X_fit, y_fit, label='model')\n",
    "plt.legend()"
   ]
  },
  {
   "cell_type": "code",
   "execution_count": 4,
   "metadata": {},
   "outputs": [
    {
     "name": "stdout",
     "output_type": "stream",
     "text": [
      "Score: 0.836482320231\n",
      "Mean sqare error: 7.49209\n"
     ]
    }
   ],
   "source": [
    "\"\"\" Evaluate the fitting \"\"\"\n",
    "\n",
    "# Generate new random data with the same parameters for slope, intercept and variance\n",
    "rng = np.random.RandomState(43)\n",
    "x_test = 10 * rng.rand(50)\n",
    "y_test = slope * x_test + intercept + variance * rng.rand(50)\n",
    "X_test = x_test[:, np.newaxis]  # reshape as earlier\n",
    "\n",
    "# A 'goodness of fit' measure\n",
    "print(\"Score:\", model.score(X_test, y_test))\n",
    "y_predict = model.predict(X_test)\n",
    "mse = np.mean((y_predict - y_test) ** 2)\n",
    "print(\"Mean sqared error: {0:.5f}\".format(mse))"
   ]
  },
  {
   "cell_type": "code",
   "execution_count": null,
   "metadata": {
    "collapsed": true
   },
   "outputs": [],
   "source": []
  }
 ],
 "metadata": {
  "kernelspec": {
   "display_name": "Python 3",
   "language": "python",
   "name": "python3"
  },
  "language_info": {
   "codemirror_mode": {
    "name": "ipython",
    "version": 3
   },
   "file_extension": ".py",
   "mimetype": "text/x-python",
   "name": "python",
   "nbconvert_exporter": "python",
   "pygments_lexer": "ipython3",
   "version": "3.6.1"
  }
 },
 "nbformat": 4,
 "nbformat_minor": 2
}
